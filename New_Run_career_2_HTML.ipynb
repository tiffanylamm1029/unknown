{
  "nbformat": 4,
  "nbformat_minor": 0,
  "metadata": {
    "colab": {
      "name": "New Run career 2 HTML.ipynb",
      "provenance": [],
      "collapsed_sections": [],
      "toc_visible": true,
      "include_colab_link": true
    },
    "kernelspec": {
      "name": "python3",
      "display_name": "Python 3"
    }
  },
  "cells": [
    {
      "cell_type": "markdown",
      "metadata": {
        "id": "view-in-github",
        "colab_type": "text"
      },
      "source": [
        "<a href=\"https://colab.research.google.com/github/tiffanylamm1029/unknown/blob/main/New_Run_career_2_HTML.ipynb\" target=\"_parent\"><img src=\"https://colab.research.google.com/assets/colab-badge.svg\" alt=\"Open In Colab\"/></a>"
      ]
    },
    {
      "cell_type": "code",
      "metadata": {
        "id": "DvAvd2-aPPaB",
        "colab": {
          "base_uri": "https://localhost:8080/"
        },
        "outputId": "74032f0e-a191-4ef5-df77-572548bc3e20"
      },
      "source": [
        "# Import the necessary packages\n",
        "from statsmodels.stats.outliers_influence import variance_inflation_factor \n",
        "import pandas.util.testing as tm\n",
        "from sklearn.datasets import load_boston\n",
        "import pandas as pd\n",
        "import numpy as np\n",
        "import matplotlib\n",
        "import matplotlib.pyplot as plt\n",
        "import seaborn as sns\n",
        "import statsmodels.api as sm\n",
        "%matplotlib inline\n",
        "from sklearn.model_selection import train_test_split\n",
        "from sklearn.linear_model import LinearRegression\n",
        "from sklearn.feature_selection import RFE\n",
        "from sklearn.linear_model import RidgeCV, LassoCV, Ridge, Lasso\n",
        "import pandas as pd\n",
        "import io\n",
        "from google.colab import files\n",
        "from scipy import stats \n",
        "from google.colab import drive\n",
        "\n",
        "import datetime\n",
        "import datetime\n",
        "  \n",
        "Current_Date_Formatted = datetime.datetime.today().strftime ('%b-%d-%Y')\n",
        "Post_date = str(Current_Date_Formatted)\n"
      ],
      "execution_count": null,
      "outputs": [
        {
          "output_type": "stream",
          "text": [
            "/usr/local/lib/python3.6/dist-packages/statsmodels/tools/_testing.py:19: FutureWarning: pandas.util.testing is deprecated. Use the functions in the public API at pandas.testing instead.\n",
            "  import pandas.util.testing as tm\n"
          ],
          "name": "stderr"
        }
      ]
    },
    {
      "cell_type": "markdown",
      "metadata": {
        "id": "egJWFQlUUCJ9"
      },
      "source": [
        "# **Google**"
      ]
    },
    {
      "cell_type": "code",
      "metadata": {
        "colab": {
          "base_uri": "https://localhost:8080/"
        },
        "id": "XZQl2t46P-na",
        "outputId": "d332638a-da57-49a9-872c-eb813eda6cf6"
      },
      "source": [
        "from random import seed\n",
        "from random import random\n",
        "import random\n",
        "\n",
        "drive.mount('/content/drive')\n",
        "path = \"/content/drive/My Drive/career/Google_Career.csv\"\n",
        "#!ls \"/content/drive/My Drive/career\"\n",
        "df_bonus = pd.read_csv(path)\n",
        "Job = df_bonus['Jobs']\n",
        "Link = df_bonus['Application Links']\n",
        "\n",
        "random = random.randint(7,20)\n",
        "print('Copy and paste the following google code to wordpress')\n",
        "print('Copy and paste the following google code to wordpress')\n",
        "print('<ol>')\n",
        "\n",
        "\n",
        "\n",
        "for i in range (6):\n",
        "  print('<li><span style=\"color: #000000;\"><a style=\"color: #000000;\" href=\"'+ Link[i]+ '\"' +  'target=\"_blank\" rel=\"noopener\">' + Job[i] + '</a></span></li>')\n",
        "\n",
        "\n",
        "\n",
        "print('<li><a href=\"https://www.knorange.com/index.php/home/google-career/\"target=\"_blank\" rel=\"noopener\">More...</a>')\n",
        "\n",
        "\n",
        "\n",
        "print('<ol>')\n",
        "print('<p style=\"padding-left: 40px; text-align: right;\">'+ '(Update: '+ Post_date +')</p>')\n",
        "print('<p style=\"padding-left: 40px; text-align: right;\">'+ str(random) + ' minutes ago'+ '</p>')\n"
      ],
      "execution_count": null,
      "outputs": [
        {
          "output_type": "stream",
          "text": [
            "Mounted at /content/drive\n",
            "Copy and paste the following google code to wordpress\n",
            "Copy and paste the following google code to wordpress\n",
            "<ol>\n",
            "<li><span style=\"color: #000000;\"><a style=\"color: #000000;\" href=\"https://careers.google.com/jobs/results/132061206056706758-people-analytics-intern-user-experience-summer-2021/?employment_type=FULL_TIME&employment_type=INTERN&gclid=Cj0KCQiAwf39BRCCARIsALXWETwb9v7-4qJqTPraR1TBov-ub-sS86t73ozAR_Ef2G2aEoqbduVQXngaAvkREALw_wcB&location=United%20States&q=intern&src=Online%2FHouse%20Ads%2FBKWS\"target=\"_blank\" rel=\"noopener\">People Analytics Intern, User Experience, Summer 2021</a></span></li>\n",
            "<li><span style=\"color: #000000;\"><a style=\"color: #000000;\" href=\"https://careers.google.com/jobs/results/75166427121623750-technical-writer-intern-summer-2021/?employment_type=FULL_TIME&employment_type=INTERN&gclid=Cj0KCQiAwf39BRCCARIsALXWETwb9v7-4qJqTPraR1TBov-ub-sS86t73ozAR_Ef2G2aEoqbduVQXngaAvkREALw_wcB&location=United%20States&q=intern&src=Online%2FHouse%20Ads%2FBKWS\"target=\"_blank\" rel=\"noopener\">Technical Writer Intern, Summer 2021</a></span></li>\n",
            "<li><span style=\"color: #000000;\"><a style=\"color: #000000;\" href=\"https://careers.google.com/jobs/results/90330891491910342-user-experience-research-intern-summer-2021/?employment_type=FULL_TIME&employment_type=INTERN&gclid=Cj0KCQiAwf39BRCCARIsALXWETwb9v7-4qJqTPraR1TBov-ub-sS86t73ozAR_Ef2G2aEoqbduVQXngaAvkREALw_wcB&location=United%20States&q=intern&src=Online%2FHouse%20Ads%2FBKWS\"target=\"_blank\" rel=\"noopener\">User Experience Research Intern, Summer 2021</a></span></li>\n",
            "<li><span style=\"color: #000000;\"><a style=\"color: #000000;\" href=\"https://careers.google.com/jobs/results/99922683040277190-user-experience-design-intern-summer-2021/?employment_type=FULL_TIME&employment_type=INTERN&gclid=Cj0KCQiAwf39BRCCARIsALXWETwb9v7-4qJqTPraR1TBov-ub-sS86t73ozAR_Ef2G2aEoqbduVQXngaAvkREALw_wcB&location=United%20States&q=intern&src=Online%2FHouse%20Ads%2FBKWS\"target=\"_blank\" rel=\"noopener\">User Experience Design Intern, Summer 2021</a></span></li>\n",
            "<li><span style=\"color: #000000;\"><a style=\"color: #000000;\" href=\"https://careers.google.com/jobs/results/114925364314022598-data-scientist-intern-phd-summer-2021/?employment_type=FULL_TIME&employment_type=INTERN&gclid=Cj0KCQiAwf39BRCCARIsALXWETwb9v7-4qJqTPraR1TBov-ub-sS86t73ozAR_Ef2G2aEoqbduVQXngaAvkREALw_wcB&location=United%20States&q=intern&src=Online%2FHouse%20Ads%2FBKWS\"target=\"_blank\" rel=\"noopener\">Data Scientist Intern, PhD, Summer 2021</a></span></li>\n",
            "<li><span style=\"color: #000000;\"><a style=\"color: #000000;\" href=\"https://careers.google.com/jobs/results/136906590826439366-software-engineering-intern-phd-summer-2021/?employment_type=FULL_TIME&employment_type=INTERN&gclid=Cj0KCQiAwf39BRCCARIsALXWETwb9v7-4qJqTPraR1TBov-ub-sS86t73ozAR_Ef2G2aEoqbduVQXngaAvkREALw_wcB&location=United%20States&q=intern&src=Online%2FHouse%20Ads%2FBKWS\"target=\"_blank\" rel=\"noopener\">Software Engineering Intern, PhD, Summer 2021</a></span></li>\n",
            "<li><a href=\"https://www.knorange.com/index.php/home/google-career/\"target=\"_blank\" rel=\"noopener\">More...</a>\n",
            "<ol>\n",
            "<p style=\"padding-left: 40px; text-align: right;\">(Update: Dec-26-2020)</p>\n",
            "<p style=\"padding-left: 40px; text-align: right;\">16 minutes ago</p>\n"
          ],
          "name": "stdout"
        }
      ]
    },
    {
      "cell_type": "markdown",
      "metadata": {
        "id": "YotnoAa4ULGU"
      },
      "source": [
        "# Facebook"
      ]
    },
    {
      "cell_type": "code",
      "metadata": {
        "colab": {
          "base_uri": "https://localhost:8080/"
        },
        "id": "QRC-ljirWTtG",
        "outputId": "6bb1a6db-6bf3-4b60-9b66-f68b70a4df36"
      },
      "source": [
        "from random import seed\n",
        "from random import random\n",
        "import random\n",
        "\n",
        "path = \"/content/drive/My Drive/career/Facebook.csv\"\n",
        "#!ls \"/content/drive/My Drive/career\"\n",
        "df_bonus = pd.read_csv(path)\n",
        "Job = df_bonus['Jobs']\n",
        "Link = df_bonus['Application Links']\n",
        "\n",
        "\n",
        "print('Copy and paste the following facebook code to wordpress')\n",
        "print('Copy and paste the following facebook code to wordpress')\n",
        "print('<ol>')\n",
        "\n",
        "\n",
        "\n",
        "for i in range (6):\n",
        "  a = random.randint(0,len(Job))\n",
        "  print('<li><span style=\"color: #000000;\"><a style=\"color: #000000;\" href=\"'+ Link[a]+ '\"' +  'target=\"_blank\" rel=\"noopener\">' + Job[a] + '</a></span></li>')\n",
        "\n",
        "\n",
        "print('<li><a href=\"https://www.knorange.com/index.php/facebook-career/\"target=\"_blank\" rel=\"noopener\">More...</a>')\n",
        "\n",
        "random = random.randint(7,20)\n",
        "print('<ol>')\n",
        "print('<p style=\"padding-left: 40px; text-align: right;\">'+ '(Update: '+ Post_date +')</p>')\n",
        "print('<p style=\"padding-left: 40px; text-align: right;\">'+ str(random) + ' minutes ago'+ '</p>')"
      ],
      "execution_count": null,
      "outputs": [
        {
          "output_type": "stream",
          "text": [
            "Copy and paste the following facebook code to wordpress\n",
            "Copy and paste the following facebook code to wordpress\n",
            "<ol>\n",
            "<li><span style=\"color: #000000;\"><a style=\"color: #000000;\" href=\"https://www.facebook.com/careers/v2/jobs/3461754687252436/\"target=\"_blank\" rel=\"noopener\">Research Engineering Intern, Machine Learning for Embedded Audio (PhD) </a></span></li>\n",
            "<li><span style=\"color: #000000;\"><a style=\"color: #000000;\" href=\"https://www.facebook.com/careers/v2/jobs/884951712260556/\"target=\"_blank\" rel=\"noopener\">User Experience Researcher (Qualitative) PhD Intern - Tel Aviv</a></span></li>\n",
            "<li><span style=\"color: #000000;\"><a style=\"color: #000000;\" href=\"https://www.facebook.com/careers/v2/jobs/191959315835799/\"target=\"_blank\" rel=\"noopener\">Research Intern, BCI Optics Research (PhD)</a></span></li>\n",
            "<li><span style=\"color: #000000;\"><a style=\"color: #000000;\" href=\"https://www.facebook.com/careers/v2/jobs/842688429899034/\"target=\"_blank\" rel=\"noopener\">Research Scientist, Computational Photography (PhD)</a></span></li>\n",
            "<li><span style=\"color: #000000;\"><a style=\"color: #000000;\" href=\"https://www.facebook.com/careers/v2/jobs/342984510153267/\"target=\"_blank\" rel=\"noopener\">Data Analytics Intern, Supply Chain Solutions</a></span></li>\n",
            "<li><span style=\"color: #000000;\"><a style=\"color: #000000;\" href=\"https://www.facebook.com/careers/v2/jobs/3454728254613866/\"target=\"_blank\" rel=\"noopener\">Research Intern, Color Perception (PhD)</a></span></li>\n",
            "<li><a href=\"https://www.knorange.com/index.php/facebook-career/\"target=\"_blank\" rel=\"noopener\">More...</a>\n",
            "<ol>\n",
            "<p style=\"padding-left: 40px; text-align: right;\">(Update: Dec-26-2020)</p>\n",
            "<p style=\"padding-left: 40px; text-align: right;\">9 minutes ago</p>\n"
          ],
          "name": "stdout"
        }
      ]
    },
    {
      "cell_type": "markdown",
      "metadata": {
        "id": "UGtZ593ZUSeg"
      },
      "source": [
        "# **Amazon**"
      ]
    },
    {
      "cell_type": "code",
      "metadata": {
        "id": "OH6Gi6gMQxct",
        "colab": {
          "base_uri": "https://localhost:8080/"
        },
        "outputId": "a93d9870-35e5-4647-f295-09aae3846138"
      },
      "source": [
        "from random import seed\n",
        "from random import random\n",
        "import random\n",
        "\n",
        "path = \"/content/drive/My Drive/career/Amazon.csv\"\n",
        "#!ls \"/content/drive/My Drive/career\"\n",
        "df_bonus = pd.read_csv(path)\n",
        "Job = df_bonus['Jobs']\n",
        "Link = df_bonus['Application Links']\n",
        "\n",
        "random = random.randint(7,20)\n",
        "print('Copy and paste the following Amazon code to wordpress')\n",
        "print('Copy and paste the following Amazon code to wordpress')\n",
        "print('<ol>')\n",
        "\n",
        "\n",
        "\n",
        "for i in range (6):\n",
        "  print('<li><span style=\"color: #000000;\"><a style=\"color: #000000;\" href=\"'+ Link[i]+ '\"' +  'target=\"_blank\" rel=\"noopener\">' + Job[i] + '</a></span></li>')\n",
        "\n",
        "\n",
        "\n",
        "print('<li><a href=\"https://www.knorange.com/index.php/amazon-career/\"target=\"_blank\" rel=\"noopener\">More...</a>')\n",
        "\n",
        "\n",
        "print('<ol>')\n",
        "print('<p style=\"padding-left: 40px; text-align: right;\">'+ '(Update: '+ Post_date +')</p>')\n",
        "print('<p style=\"padding-left: 40px; text-align: right;\">'+ str(random) + ' minutes ago'+ '</p>')"
      ],
      "execution_count": null,
      "outputs": [
        {
          "output_type": "stream",
          "text": [
            "Copy and paste the following Amazon code to wordpress\n",
            "Copy and paste the following Amazon code to wordpress\n",
            "<ol>\n",
            "<li><span style=\"color: #000000;\"><a style=\"color: #000000;\" href=\"https://www.amazon.jobs/en/jobs/1376306/system-development-engineer-internship-summer-2021-us\"target=\"_blank\" rel=\"noopener\">System Development Engineer Internship - Summer 2021 (US)</a></span></li>\n",
            "<li><span style=\"color: #000000;\"><a style=\"color: #000000;\" href=\"https://www.amazon.jobs/en/jobs/1376273/system-development-engineer-2021-united-states\"target=\"_blank\" rel=\"noopener\">System Development Engineer - 2021 (United States)</a></span></li>\n",
            "<li><span style=\"color: #000000;\"><a style=\"color: #000000;\" href=\"https://www.amazon.jobs/en/jobs/1376173/2021-business-analyst-full-time-positions\"target=\"_blank\" rel=\"noopener\">2021 Business Analyst Full Time positions</a></span></li>\n",
            "<li><span style=\"color: #000000;\"><a style=\"color: #000000;\" href=\"https://www.amazon.jobs/en/jobs/1370712/program-manager-intern\"target=\"_blank\" rel=\"noopener\">Program Manager Intern </a></span></li>\n",
            "<li><span style=\"color: #000000;\"><a style=\"color: #000000;\" href=\"https://www.amazon.jobs/en/jobs/1370703/program-manager\"target=\"_blank\" rel=\"noopener\">Program Manager </a></span></li>\n",
            "<li><span style=\"color: #000000;\"><a style=\"color: #000000;\" href=\"https://www.amazon.jobs/en/jobs/1361085/ontologist-internship-summer-2021-us\"target=\"_blank\" rel=\"noopener\">Ontologist Internship - Summer 2021 (US)</a></span></li>\n",
            "<li><a href=\"https://www.knorange.com/index.php/amazon-career/\"target=\"_blank\" rel=\"noopener\">More...</a>\n",
            "<ol>\n",
            "<p style=\"padding-left: 40px; text-align: right;\">(Update: Dec-26-2020)</p>\n",
            "<p style=\"padding-left: 40px; text-align: right;\">19 minutes ago</p>\n"
          ],
          "name": "stdout"
        }
      ]
    },
    {
      "cell_type": "markdown",
      "metadata": {
        "id": "nB_8mjxUUi1G"
      },
      "source": [
        "# **Apple**"
      ]
    },
    {
      "cell_type": "code",
      "metadata": {
        "colab": {
          "base_uri": "https://localhost:8080/"
        },
        "id": "Qh2JrwoLZMP-",
        "outputId": "b09dad2b-7d6a-4667-df16-625c03f80962"
      },
      "source": [
        "from random import seed\n",
        "from random import random\n",
        "import random\n",
        "\n",
        "path = \"/content/drive/My Drive/career/Apple.csv\"\n",
        "#!ls \"/content/drive/My Drive/career\"\n",
        "df_bonus = pd.read_csv(path)\n",
        "Job = df_bonus['Jobs']\n",
        "Link = df_bonus['Application Links']\n",
        "\n",
        "random = random.randint(7,20)\n",
        "print('Copy and paste the following Apple code to wordpress')\n",
        "print('Copy and paste the following Apple code to wordpress')\n",
        "print('<ol>')\n",
        "\n",
        "\n",
        "\n",
        "for i in range (6):\n",
        "  print('<li><span style=\"color: #000000;\"><a style=\"color: #000000;\" href=\"'+ Link[i]+ '\"' +  'target=\"_blank\" rel=\"noopener\">' + Job[i] + '</a></span></li>')\n",
        "\n",
        "\n",
        "\n",
        "print('<li><a href=\"https://www.knorange.com/index.php/apple-jobs/\"target=\"_blank\" rel=\"noopener\">More...</a>')\n",
        "\n",
        "\n",
        "print('<ol>')\n",
        "print('<p style=\"padding-left: 40px; text-align: right;\">'+ '(Update: '+ Post_date +')</p>')\n",
        "print('<p style=\"padding-left: 40px; text-align: right;\">'+ str(random) + ' minutes ago'+ '</p>')"
      ],
      "execution_count": null,
      "outputs": [
        {
          "output_type": "stream",
          "text": [
            "Copy and paste the following Apple code to wordpress\n",
            "Copy and paste the following Apple code to wordpress\n",
            "<ol>\n",
            "<li><span style=\"color: #000000;\"><a style=\"color: #000000;\" href=\"https://jobs.apple.com/en-us/details/114438148/us-business-expert?team=STDNT\"target=\"_blank\" rel=\"noopener\">US-Business Expert</a></span></li>\n",
            "<li><span style=\"color: #000000;\"><a style=\"color: #000000;\" href=\"https://jobs.apple.com/en-us/details/114438152/us-operations-expert?team=STDNT\"target=\"_blank\" rel=\"noopener\">US-Operations Expert</a></span></li>\n",
            "<li><span style=\"color: #000000;\"><a style=\"color: #000000;\" href=\"https://jobs.apple.com/en-us/details/114438150/us-expert?team=STDNT\"target=\"_blank\" rel=\"noopener\">US-Expert</a></span></li>\n",
            "<li><span style=\"color: #000000;\"><a style=\"color: #000000;\" href=\"https://jobs.apple.com/en-us/details/114438158/us-specialist-full-time-part-time-and-part-time-temporary?team=STDNT\"target=\"_blank\" rel=\"noopener\">US - Specialist: Full-Time, Part-Time, and Part-Time Temporary</a></span></li>\n",
            "<li><span style=\"color: #000000;\"><a style=\"color: #000000;\" href=\"https://jobs.apple.com/en-us/details/114438151/us-genius?team=STDNT\"target=\"_blank\" rel=\"noopener\">US-Genius</a></span></li>\n",
            "<li><span style=\"color: #000000;\"><a style=\"color: #000000;\" href=\"https://jobs.apple.com/en-us/details/114438201/us-technical-specialist?team=STDNT\"target=\"_blank\" rel=\"noopener\">US-Technical Specialist</a></span></li>\n",
            "<li><a href=\"https://www.knorange.com/index.php/apple-jobs/\"target=\"_blank\" rel=\"noopener\">More...</a>\n",
            "<ol>\n",
            "<p style=\"padding-left: 40px; text-align: right;\">(Update: Dec-26-2020)</p>\n",
            "<p style=\"padding-left: 40px; text-align: right;\">9 minutes ago</p>\n"
          ],
          "name": "stdout"
        }
      ]
    },
    {
      "cell_type": "markdown",
      "metadata": {
        "id": "EkR2GFAIUnqG"
      },
      "source": [
        "# **ATT**"
      ]
    },
    {
      "cell_type": "code",
      "metadata": {
        "colab": {
          "base_uri": "https://localhost:8080/",
          "height": 438
        },
        "id": "wfsOv26GZr2E",
        "outputId": "bde1c711-47c8-494e-f555-1c64e69faf13"
      },
      "source": [
        "from random import seed\n",
        "from random import random\n",
        "import random\n",
        "\n",
        "path = \"/content/drive/My Drive/career/Att.csv\"\n",
        "#!ls \"/content/drive/My Drive/career\"\n",
        "df_bonus = pd.read_csv(path)\n",
        "Job = df_bonus['Jobs']\n",
        "Link = df_bonus['Application Links']\n",
        "\n",
        "random = random.randint(7,20)\n",
        "print('Copy and paste the following Att code to wordpress')\n",
        "print('Copy and paste the following Att code to wordpress')\n",
        "print('<ol>')\n",
        "\n",
        "\n",
        "\n",
        "for i in range (1,7):\n",
        "  print('<li><span style=\"color: #000000;\"><a style=\"color: #000000;\" href=\"'+ Link[i]+ '\"' +  'target=\"_blank\" rel=\"noopener\">' + Job[i] + '</a></span></li>')\n",
        "\n",
        "\n",
        "\n",
        "print('<li><a href=\"https://www.knorange.com/index.php/att-career/\"target=\"_blank\" rel=\"noopener\">More...</a>')\n",
        "\n",
        "\n",
        "print('<ol>')\n",
        "print('<p style=\"padding-left: 40px; text-align: right;\">'+ '(Update: '+ Post_date +')</p>')\n",
        "print('<p style=\"padding-left: 40px; text-align: right;\">'+ str(random) + ' minutes ago'+ '</p>')"
      ],
      "execution_count": null,
      "outputs": [
        {
          "output_type": "error",
          "ename": "FileNotFoundError",
          "evalue": "ignored",
          "traceback": [
            "\u001b[0;31m---------------------------------------------------------------------------\u001b[0m",
            "\u001b[0;31mFileNotFoundError\u001b[0m                         Traceback (most recent call last)",
            "\u001b[0;32m<ipython-input-7-d4f1538ea625>\u001b[0m in \u001b[0;36m<module>\u001b[0;34m()\u001b[0m\n\u001b[1;32m      5\u001b[0m \u001b[0mpath\u001b[0m \u001b[0;34m=\u001b[0m \u001b[0;34m\"/content/drive/My Drive/career/Att.csv\"\u001b[0m\u001b[0;34m\u001b[0m\u001b[0;34m\u001b[0m\u001b[0m\n\u001b[1;32m      6\u001b[0m \u001b[0;31m#!ls \"/content/drive/My Drive/career\"\u001b[0m\u001b[0;34m\u001b[0m\u001b[0;34m\u001b[0m\u001b[0;34m\u001b[0m\u001b[0m\n\u001b[0;32m----> 7\u001b[0;31m \u001b[0mdf_bonus\u001b[0m \u001b[0;34m=\u001b[0m \u001b[0mpd\u001b[0m\u001b[0;34m.\u001b[0m\u001b[0mread_csv\u001b[0m\u001b[0;34m(\u001b[0m\u001b[0mpath\u001b[0m\u001b[0;34m)\u001b[0m\u001b[0;34m\u001b[0m\u001b[0;34m\u001b[0m\u001b[0m\n\u001b[0m\u001b[1;32m      8\u001b[0m \u001b[0mJob\u001b[0m \u001b[0;34m=\u001b[0m \u001b[0mdf_bonus\u001b[0m\u001b[0;34m[\u001b[0m\u001b[0;34m'Jobs'\u001b[0m\u001b[0;34m]\u001b[0m\u001b[0;34m\u001b[0m\u001b[0;34m\u001b[0m\u001b[0m\n\u001b[1;32m      9\u001b[0m \u001b[0mLink\u001b[0m \u001b[0;34m=\u001b[0m \u001b[0mdf_bonus\u001b[0m\u001b[0;34m[\u001b[0m\u001b[0;34m'Application Links'\u001b[0m\u001b[0;34m]\u001b[0m\u001b[0;34m\u001b[0m\u001b[0;34m\u001b[0m\u001b[0m\n",
            "\u001b[0;32m/usr/local/lib/python3.6/dist-packages/pandas/io/parsers.py\u001b[0m in \u001b[0;36mread_csv\u001b[0;34m(filepath_or_buffer, sep, delimiter, header, names, index_col, usecols, squeeze, prefix, mangle_dupe_cols, dtype, engine, converters, true_values, false_values, skipinitialspace, skiprows, skipfooter, nrows, na_values, keep_default_na, na_filter, verbose, skip_blank_lines, parse_dates, infer_datetime_format, keep_date_col, date_parser, dayfirst, cache_dates, iterator, chunksize, compression, thousands, decimal, lineterminator, quotechar, quoting, doublequote, escapechar, comment, encoding, dialect, error_bad_lines, warn_bad_lines, delim_whitespace, low_memory, memory_map, float_precision)\u001b[0m\n\u001b[1;32m    686\u001b[0m     )\n\u001b[1;32m    687\u001b[0m \u001b[0;34m\u001b[0m\u001b[0m\n\u001b[0;32m--> 688\u001b[0;31m     \u001b[0;32mreturn\u001b[0m \u001b[0m_read\u001b[0m\u001b[0;34m(\u001b[0m\u001b[0mfilepath_or_buffer\u001b[0m\u001b[0;34m,\u001b[0m \u001b[0mkwds\u001b[0m\u001b[0;34m)\u001b[0m\u001b[0;34m\u001b[0m\u001b[0;34m\u001b[0m\u001b[0m\n\u001b[0m\u001b[1;32m    689\u001b[0m \u001b[0;34m\u001b[0m\u001b[0m\n\u001b[1;32m    690\u001b[0m \u001b[0;34m\u001b[0m\u001b[0m\n",
            "\u001b[0;32m/usr/local/lib/python3.6/dist-packages/pandas/io/parsers.py\u001b[0m in \u001b[0;36m_read\u001b[0;34m(filepath_or_buffer, kwds)\u001b[0m\n\u001b[1;32m    452\u001b[0m \u001b[0;34m\u001b[0m\u001b[0m\n\u001b[1;32m    453\u001b[0m     \u001b[0;31m# Create the parser.\u001b[0m\u001b[0;34m\u001b[0m\u001b[0;34m\u001b[0m\u001b[0;34m\u001b[0m\u001b[0m\n\u001b[0;32m--> 454\u001b[0;31m     \u001b[0mparser\u001b[0m \u001b[0;34m=\u001b[0m \u001b[0mTextFileReader\u001b[0m\u001b[0;34m(\u001b[0m\u001b[0mfp_or_buf\u001b[0m\u001b[0;34m,\u001b[0m \u001b[0;34m**\u001b[0m\u001b[0mkwds\u001b[0m\u001b[0;34m)\u001b[0m\u001b[0;34m\u001b[0m\u001b[0;34m\u001b[0m\u001b[0m\n\u001b[0m\u001b[1;32m    455\u001b[0m \u001b[0;34m\u001b[0m\u001b[0m\n\u001b[1;32m    456\u001b[0m     \u001b[0;32mif\u001b[0m \u001b[0mchunksize\u001b[0m \u001b[0;32mor\u001b[0m \u001b[0miterator\u001b[0m\u001b[0;34m:\u001b[0m\u001b[0;34m\u001b[0m\u001b[0;34m\u001b[0m\u001b[0m\n",
            "\u001b[0;32m/usr/local/lib/python3.6/dist-packages/pandas/io/parsers.py\u001b[0m in \u001b[0;36m__init__\u001b[0;34m(self, f, engine, **kwds)\u001b[0m\n\u001b[1;32m    946\u001b[0m             \u001b[0mself\u001b[0m\u001b[0;34m.\u001b[0m\u001b[0moptions\u001b[0m\u001b[0;34m[\u001b[0m\u001b[0;34m\"has_index_names\"\u001b[0m\u001b[0;34m]\u001b[0m \u001b[0;34m=\u001b[0m \u001b[0mkwds\u001b[0m\u001b[0;34m[\u001b[0m\u001b[0;34m\"has_index_names\"\u001b[0m\u001b[0;34m]\u001b[0m\u001b[0;34m\u001b[0m\u001b[0;34m\u001b[0m\u001b[0m\n\u001b[1;32m    947\u001b[0m \u001b[0;34m\u001b[0m\u001b[0m\n\u001b[0;32m--> 948\u001b[0;31m         \u001b[0mself\u001b[0m\u001b[0;34m.\u001b[0m\u001b[0m_make_engine\u001b[0m\u001b[0;34m(\u001b[0m\u001b[0mself\u001b[0m\u001b[0;34m.\u001b[0m\u001b[0mengine\u001b[0m\u001b[0;34m)\u001b[0m\u001b[0;34m\u001b[0m\u001b[0;34m\u001b[0m\u001b[0m\n\u001b[0m\u001b[1;32m    949\u001b[0m \u001b[0;34m\u001b[0m\u001b[0m\n\u001b[1;32m    950\u001b[0m     \u001b[0;32mdef\u001b[0m \u001b[0mclose\u001b[0m\u001b[0;34m(\u001b[0m\u001b[0mself\u001b[0m\u001b[0;34m)\u001b[0m\u001b[0;34m:\u001b[0m\u001b[0;34m\u001b[0m\u001b[0;34m\u001b[0m\u001b[0m\n",
            "\u001b[0;32m/usr/local/lib/python3.6/dist-packages/pandas/io/parsers.py\u001b[0m in \u001b[0;36m_make_engine\u001b[0;34m(self, engine)\u001b[0m\n\u001b[1;32m   1178\u001b[0m     \u001b[0;32mdef\u001b[0m \u001b[0m_make_engine\u001b[0m\u001b[0;34m(\u001b[0m\u001b[0mself\u001b[0m\u001b[0;34m,\u001b[0m \u001b[0mengine\u001b[0m\u001b[0;34m=\u001b[0m\u001b[0;34m\"c\"\u001b[0m\u001b[0;34m)\u001b[0m\u001b[0;34m:\u001b[0m\u001b[0;34m\u001b[0m\u001b[0;34m\u001b[0m\u001b[0m\n\u001b[1;32m   1179\u001b[0m         \u001b[0;32mif\u001b[0m \u001b[0mengine\u001b[0m \u001b[0;34m==\u001b[0m \u001b[0;34m\"c\"\u001b[0m\u001b[0;34m:\u001b[0m\u001b[0;34m\u001b[0m\u001b[0;34m\u001b[0m\u001b[0m\n\u001b[0;32m-> 1180\u001b[0;31m             \u001b[0mself\u001b[0m\u001b[0;34m.\u001b[0m\u001b[0m_engine\u001b[0m \u001b[0;34m=\u001b[0m \u001b[0mCParserWrapper\u001b[0m\u001b[0;34m(\u001b[0m\u001b[0mself\u001b[0m\u001b[0;34m.\u001b[0m\u001b[0mf\u001b[0m\u001b[0;34m,\u001b[0m \u001b[0;34m**\u001b[0m\u001b[0mself\u001b[0m\u001b[0;34m.\u001b[0m\u001b[0moptions\u001b[0m\u001b[0;34m)\u001b[0m\u001b[0;34m\u001b[0m\u001b[0;34m\u001b[0m\u001b[0m\n\u001b[0m\u001b[1;32m   1181\u001b[0m         \u001b[0;32melse\u001b[0m\u001b[0;34m:\u001b[0m\u001b[0;34m\u001b[0m\u001b[0;34m\u001b[0m\u001b[0m\n\u001b[1;32m   1182\u001b[0m             \u001b[0;32mif\u001b[0m \u001b[0mengine\u001b[0m \u001b[0;34m==\u001b[0m \u001b[0;34m\"python\"\u001b[0m\u001b[0;34m:\u001b[0m\u001b[0;34m\u001b[0m\u001b[0;34m\u001b[0m\u001b[0m\n",
            "\u001b[0;32m/usr/local/lib/python3.6/dist-packages/pandas/io/parsers.py\u001b[0m in \u001b[0;36m__init__\u001b[0;34m(self, src, **kwds)\u001b[0m\n\u001b[1;32m   2008\u001b[0m         \u001b[0mkwds\u001b[0m\u001b[0;34m[\u001b[0m\u001b[0;34m\"usecols\"\u001b[0m\u001b[0;34m]\u001b[0m \u001b[0;34m=\u001b[0m \u001b[0mself\u001b[0m\u001b[0;34m.\u001b[0m\u001b[0musecols\u001b[0m\u001b[0;34m\u001b[0m\u001b[0;34m\u001b[0m\u001b[0m\n\u001b[1;32m   2009\u001b[0m \u001b[0;34m\u001b[0m\u001b[0m\n\u001b[0;32m-> 2010\u001b[0;31m         \u001b[0mself\u001b[0m\u001b[0;34m.\u001b[0m\u001b[0m_reader\u001b[0m \u001b[0;34m=\u001b[0m \u001b[0mparsers\u001b[0m\u001b[0;34m.\u001b[0m\u001b[0mTextReader\u001b[0m\u001b[0;34m(\u001b[0m\u001b[0msrc\u001b[0m\u001b[0;34m,\u001b[0m \u001b[0;34m**\u001b[0m\u001b[0mkwds\u001b[0m\u001b[0;34m)\u001b[0m\u001b[0;34m\u001b[0m\u001b[0;34m\u001b[0m\u001b[0m\n\u001b[0m\u001b[1;32m   2011\u001b[0m         \u001b[0mself\u001b[0m\u001b[0;34m.\u001b[0m\u001b[0munnamed_cols\u001b[0m \u001b[0;34m=\u001b[0m \u001b[0mself\u001b[0m\u001b[0;34m.\u001b[0m\u001b[0m_reader\u001b[0m\u001b[0;34m.\u001b[0m\u001b[0munnamed_cols\u001b[0m\u001b[0;34m\u001b[0m\u001b[0;34m\u001b[0m\u001b[0m\n\u001b[1;32m   2012\u001b[0m \u001b[0;34m\u001b[0m\u001b[0m\n",
            "\u001b[0;32mpandas/_libs/parsers.pyx\u001b[0m in \u001b[0;36mpandas._libs.parsers.TextReader.__cinit__\u001b[0;34m()\u001b[0m\n",
            "\u001b[0;32mpandas/_libs/parsers.pyx\u001b[0m in \u001b[0;36mpandas._libs.parsers.TextReader._setup_parser_source\u001b[0;34m()\u001b[0m\n",
            "\u001b[0;31mFileNotFoundError\u001b[0m: [Errno 2] No such file or directory: '/content/drive/My Drive/career/Att.csv'"
          ]
        }
      ]
    },
    {
      "cell_type": "markdown",
      "metadata": {
        "id": "7i078sB6Uqc5"
      },
      "source": [
        "# **IBM**"
      ]
    },
    {
      "cell_type": "code",
      "metadata": {
        "id": "iIXV7Luhafr8",
        "colab": {
          "base_uri": "https://localhost:8080/"
        },
        "outputId": "69c37644-8393-4605-999b-c92157191685"
      },
      "source": [
        "from random import seed\n",
        "from random import random\n",
        "import random\n",
        "\n",
        "path = \"/content/drive/My Drive/career/IBM.csv\"\n",
        "#!ls \"/content/drive/My Drive/career\"\n",
        "df_bonus = pd.read_csv(path)\n",
        "Job = df_bonus['Jobs']\n",
        "Link = df_bonus['Application Links']\n",
        "\n",
        "random = random.randint(7,20)\n",
        "print('Copy and paste the following IBM code to wordpress')\n",
        "print('Copy and paste the following IBM code to wordpress')\n",
        "print('<ol>')\n",
        "\n",
        "\n",
        "\n",
        "for i in range (6):\n",
        "  print('<li><span style=\"color: #000000;\"><a style=\"color: #000000;\" href=\"'+ Link[i]+ '\"' +  'target=\"_blank\" rel=\"noopener\">' + Job[i] + '</a></span></li>')\n",
        "\n",
        "\n",
        "\n",
        "print('<li><a href=\"https://www.knorange.com/index.php/ibm-career/\"target=\"_blank\" rel=\"noopener\">More...</a>')\n",
        "\n",
        "\n",
        "print('<ol>')\n",
        "print('<p style=\"padding-left: 40px; text-align: right;\">'+ '(Update: '+ Post_date +')</p>')\n",
        "print('<p style=\"padding-left: 40px; text-align: right;\">'+ str(random) + ' minutes ago'+ '</p>')"
      ],
      "execution_count": null,
      "outputs": [
        {
          "output_type": "stream",
          "text": [
            "Copy and paste the following IBM code to wordpress\n",
            "Copy and paste the following IBM code to wordpress\n",
            "<ol>\n",
            "<li><span style=\"color: #000000;\"><a style=\"color: #000000;\" href=\"https://careers.ibm.com/ShowJob/Id/1009286/Watson-Health-(Analytic)-Industry-Consultant/?lang=en\"target=\"_blank\" rel=\"noopener\">Watson Health (Analytic) Industry Consultant</a></span></li>\n",
            "<li><span style=\"color: #000000;\"><a style=\"color: #000000;\" href=\"https://careers.ibm.com/ShowJob/Id/968448/Senior-Strategy-Consultant,-Chief-Analytics-Office-2021-Summer-Intern/?lang=en\"target=\"_blank\" rel=\"noopener\">Senior Strategy Consultant, Chief Analytics Office- 2021 Summer Intern</a></span></li>\n",
            "<li><span style=\"color: #000000;\"><a style=\"color: #000000;\" href=\"https://careers.ibm.com/ShowJob/Id/970787/Sr.-Data-Scientist-Intern,-Chief-Analytics-Office-2021-Summer-Intern/?lang=en\"target=\"_blank\" rel=\"noopener\">Sr. Data Scientist Intern, Chief Analytics Office- 2021 Summer Intern</a></span></li>\n",
            "<li><span style=\"color: #000000;\"><a style=\"color: #000000;\" href=\"https://careers.ibm.com/ShowJob/Id/970786/Strategy-Consultant,-Chief-Analytics-Office-2021-Summer-Intern/?lang=en\"target=\"_blank\" rel=\"noopener\">Strategy Consultant, Chief Analytics Office- 2021 Summer Intern</a></span></li>\n",
            "<li><span style=\"color: #000000;\"><a style=\"color: #000000;\" href=\"https://careers.ibm.com/ShowJob/Id/973077/Data-Scientist-Intern,-Chief-Analytics-Office-2021-Summer-Intern/?lang=en\"target=\"_blank\" rel=\"noopener\">Data Scientist Intern, Chief Analytics Office- 2021 Summer Intern</a></span></li>\n",
            "<li><span style=\"color: #000000;\"><a style=\"color: #000000;\" href=\"https://careers.ibm.com/ShowJob/Id/981905/2021-Summer-Internship-Senior-Financial-Analyst/?lang=en\"target=\"_blank\" rel=\"noopener\">2021 Summer Internship - Senior Financial Analyst</a></span></li>\n",
            "<li><a href=\"https://www.knorange.com/index.php/ibm-career/\"target=\"_blank\" rel=\"noopener\">More...</a>\n",
            "<ol>\n",
            "<p style=\"padding-left: 40px; text-align: right;\">(Update: Dec-26-2020)</p>\n",
            "<p style=\"padding-left: 40px; text-align: right;\">17 minutes ago</p>\n"
          ],
          "name": "stdout"
        }
      ]
    },
    {
      "cell_type": "markdown",
      "metadata": {
        "id": "ht4MBrvAUtOb"
      },
      "source": [
        "# **Intel**"
      ]
    },
    {
      "cell_type": "code",
      "metadata": {
        "id": "o3tPx9FHa-3B",
        "colab": {
          "base_uri": "https://localhost:8080/"
        },
        "outputId": "a388db59-a1e5-4d54-ae8b-16c1edbda0d4"
      },
      "source": [
        "from random import seed\n",
        "from random import random\n",
        "import random\n",
        "\n",
        "path = \"/content/drive/My Drive/career/Intel.csv\"\n",
        "#!ls \"/content/drive/My Drive/career\"\n",
        "df_bonus = pd.read_csv(path)\n",
        "Job = df_bonus['Jobs']\n",
        "Link = df_bonus['Application Links']\n",
        "\n",
        "random = random.randint(7,20)\n",
        "print('Copy and paste the following Intel code to wordpress')\n",
        "print('Copy and paste the following Intel code to wordpress')\n",
        "print('<ol>')\n",
        "\n",
        "\n",
        "\n",
        "for i in range (6):\n",
        "  print('<li><span style=\"color: #000000;\"><a style=\"color: #000000;\" href=\"'+ Link[i]+ '\"' +  'target=\"_blank\" rel=\"noopener\">' + Job[i] + '</a></span></li>')\n",
        "\n",
        "\n",
        "\n",
        "print('<li><a href=\"https://www.knorange.com/index.php/intel-career/\"target=\"_blank\" rel=\"noopener\">More...</a>')\n",
        "\n",
        "\n",
        "print('<ol>')\n",
        "print('<p style=\"padding-left: 40px; text-align: right;\">'+ '(Update: '+ Post_date +')</p>')\n",
        "print('<p style=\"padding-left: 40px; text-align: right;\">'+ str(random) + ' minutes ago'+ '</p>')"
      ],
      "execution_count": null,
      "outputs": [
        {
          "output_type": "stream",
          "text": [
            "Copy and paste the following Intel code to wordpress\n",
            "Copy and paste the following Intel code to wordpress\n",
            "<ol>\n",
            "<li><span style=\"color: #000000;\"><a style=\"color: #000000;\" href=\"https://jobs.intel.com/ShowJob/Id/2735764/Design-Automation-Engineer-Intern\"target=\"_blank\" rel=\"noopener\">Design Automation Engineer Intern</a></span></li>\n",
            "<li><span style=\"color: #000000;\"><a style=\"color: #000000;\" href=\"https://jobs.intel.com/ShowJob/Id/2737284/OR-2021-Undergrad-Intern-Technical-MPE-PDE\"target=\"_blank\" rel=\"noopener\">OR 2021 - Undergrad Intern Technical - MPE PDE</a></span></li>\n",
            "<li><span style=\"color: #000000;\"><a style=\"color: #000000;\" href=\"https://jobs.intel.com/ShowJob/Id/2735252/Intern-Corporate-EHS-Ergonomics-Undergrad-Technical-Intern\"target=\"_blank\" rel=\"noopener\">Intern- Corporate EHS Ergonomics Undergrad Technical Intern</a></span></li>\n",
            "<li><span style=\"color: #000000;\"><a style=\"color: #000000;\" href=\"https://jobs.intel.com/ShowJob/Id/2740401/Imaging-Data-Scientist-Intern-(AI-Applications)\"target=\"_blank\" rel=\"noopener\">Imaging Data Scientist Intern (AI Applications)</a></span></li>\n",
            "<li><span style=\"color: #000000;\"><a style=\"color: #000000;\" href=\"https://jobs.intel.com/ShowJob/Id/2737647/Legal-Internship-2021-Graduate\"target=\"_blank\" rel=\"noopener\">Legal Internship 2021- Graduate</a></span></li>\n",
            "<li><span style=\"color: #000000;\"><a style=\"color: #000000;\" href=\"https://jobs.intel.com/ShowJob/Id/2735006/SoC-Design-Engineering-Intern\"target=\"_blank\" rel=\"noopener\">SoC Design Engineering Intern</a></span></li>\n",
            "<li><a href=\"https://www.knorange.com/index.php/intel-career/\"target=\"_blank\" rel=\"noopener\">More...</a>\n",
            "<ol>\n",
            "<p style=\"padding-left: 40px; text-align: right;\">(Update: Dec-26-2020)</p>\n",
            "<p style=\"padding-left: 40px; text-align: right;\">20 minutes ago</p>\n"
          ],
          "name": "stdout"
        }
      ]
    },
    {
      "cell_type": "markdown",
      "metadata": {
        "id": "JGG3IHXwUxu6"
      },
      "source": [
        "# **PWC**"
      ]
    },
    {
      "cell_type": "code",
      "metadata": {
        "id": "6EIkhjj1bPN0",
        "colab": {
          "base_uri": "https://localhost:8080/",
          "height": 438
        },
        "outputId": "41aebf87-b12e-4990-db5c-3c469b5b17d5"
      },
      "source": [
        "from random import seed\n",
        "from random import random\n",
        "import random\n",
        "\n",
        "path = \"/content/drive/My Drive/career/Pwc.csv\"\n",
        "#!ls \"/content/drive/My Drive/career\"\n",
        "df_bonus = pd.read_csv(path)\n",
        "Job = df_bonus['Jobs']\n",
        "Link = df_bonus['Application Links']\n",
        "\n",
        "random = random.randint(7,20)\n",
        "print('Copy and paste the following PWC code to wordpress')\n",
        "print('Copy and paste the following PWC code to wordpress')\n",
        "print('<ol>')\n",
        "\n",
        "\n",
        "\n",
        "for i in range (6):\n",
        "  print('<li><span style=\"color: #000000;\"><a style=\"color: #000000;\" href=\"'+ Link[i]+ '\"' +  'target=\"_blank\" rel=\"noopener\">' + Job[i] + '</a></span></li>')\n",
        "\n",
        "\n",
        "\n",
        "print('<li><a href=\"https://www.knorange.com/index.php/price-waterhouse-cooper-jobs/\"target=\"_blank\" rel=\"noopener\">More...</a>' + '            (Update: '+ str(random) + ' minutes ago)</li>')\n",
        "\n",
        "\n",
        "print('<ol>')\n",
        "print('<p style=\"padding-left: 40px; text-align: right;\">'+ '(Update: '+ Post_date +')</p>')\n",
        "print('<p style=\"padding-left: 40px; text-align: right;\">'+ str(random) + ' minutes ago'+ '</p>')"
      ],
      "execution_count": null,
      "outputs": [
        {
          "output_type": "error",
          "ename": "FileNotFoundError",
          "evalue": "ignored",
          "traceback": [
            "\u001b[0;31m---------------------------------------------------------------------------\u001b[0m",
            "\u001b[0;31mFileNotFoundError\u001b[0m                         Traceback (most recent call last)",
            "\u001b[0;32m<ipython-input-11-fb5de82f56e0>\u001b[0m in \u001b[0;36m<module>\u001b[0;34m()\u001b[0m\n\u001b[1;32m      5\u001b[0m \u001b[0mpath\u001b[0m \u001b[0;34m=\u001b[0m \u001b[0;34m\"/content/drive/My Drive/career/Pwc.csv\"\u001b[0m\u001b[0;34m\u001b[0m\u001b[0;34m\u001b[0m\u001b[0m\n\u001b[1;32m      6\u001b[0m \u001b[0;31m#!ls \"/content/drive/My Drive/career\"\u001b[0m\u001b[0;34m\u001b[0m\u001b[0;34m\u001b[0m\u001b[0;34m\u001b[0m\u001b[0m\n\u001b[0;32m----> 7\u001b[0;31m \u001b[0mdf_bonus\u001b[0m \u001b[0;34m=\u001b[0m \u001b[0mpd\u001b[0m\u001b[0;34m.\u001b[0m\u001b[0mread_csv\u001b[0m\u001b[0;34m(\u001b[0m\u001b[0mpath\u001b[0m\u001b[0;34m)\u001b[0m\u001b[0;34m\u001b[0m\u001b[0;34m\u001b[0m\u001b[0m\n\u001b[0m\u001b[1;32m      8\u001b[0m \u001b[0mJob\u001b[0m \u001b[0;34m=\u001b[0m \u001b[0mdf_bonus\u001b[0m\u001b[0;34m[\u001b[0m\u001b[0;34m'Jobs'\u001b[0m\u001b[0;34m]\u001b[0m\u001b[0;34m\u001b[0m\u001b[0;34m\u001b[0m\u001b[0m\n\u001b[1;32m      9\u001b[0m \u001b[0mLink\u001b[0m \u001b[0;34m=\u001b[0m \u001b[0mdf_bonus\u001b[0m\u001b[0;34m[\u001b[0m\u001b[0;34m'Application Links'\u001b[0m\u001b[0;34m]\u001b[0m\u001b[0;34m\u001b[0m\u001b[0;34m\u001b[0m\u001b[0m\n",
            "\u001b[0;32m/usr/local/lib/python3.6/dist-packages/pandas/io/parsers.py\u001b[0m in \u001b[0;36mread_csv\u001b[0;34m(filepath_or_buffer, sep, delimiter, header, names, index_col, usecols, squeeze, prefix, mangle_dupe_cols, dtype, engine, converters, true_values, false_values, skipinitialspace, skiprows, skipfooter, nrows, na_values, keep_default_na, na_filter, verbose, skip_blank_lines, parse_dates, infer_datetime_format, keep_date_col, date_parser, dayfirst, cache_dates, iterator, chunksize, compression, thousands, decimal, lineterminator, quotechar, quoting, doublequote, escapechar, comment, encoding, dialect, error_bad_lines, warn_bad_lines, delim_whitespace, low_memory, memory_map, float_precision)\u001b[0m\n\u001b[1;32m    686\u001b[0m     )\n\u001b[1;32m    687\u001b[0m \u001b[0;34m\u001b[0m\u001b[0m\n\u001b[0;32m--> 688\u001b[0;31m     \u001b[0;32mreturn\u001b[0m \u001b[0m_read\u001b[0m\u001b[0;34m(\u001b[0m\u001b[0mfilepath_or_buffer\u001b[0m\u001b[0;34m,\u001b[0m \u001b[0mkwds\u001b[0m\u001b[0;34m)\u001b[0m\u001b[0;34m\u001b[0m\u001b[0;34m\u001b[0m\u001b[0m\n\u001b[0m\u001b[1;32m    689\u001b[0m \u001b[0;34m\u001b[0m\u001b[0m\n\u001b[1;32m    690\u001b[0m \u001b[0;34m\u001b[0m\u001b[0m\n",
            "\u001b[0;32m/usr/local/lib/python3.6/dist-packages/pandas/io/parsers.py\u001b[0m in \u001b[0;36m_read\u001b[0;34m(filepath_or_buffer, kwds)\u001b[0m\n\u001b[1;32m    452\u001b[0m \u001b[0;34m\u001b[0m\u001b[0m\n\u001b[1;32m    453\u001b[0m     \u001b[0;31m# Create the parser.\u001b[0m\u001b[0;34m\u001b[0m\u001b[0;34m\u001b[0m\u001b[0;34m\u001b[0m\u001b[0m\n\u001b[0;32m--> 454\u001b[0;31m     \u001b[0mparser\u001b[0m \u001b[0;34m=\u001b[0m \u001b[0mTextFileReader\u001b[0m\u001b[0;34m(\u001b[0m\u001b[0mfp_or_buf\u001b[0m\u001b[0;34m,\u001b[0m \u001b[0;34m**\u001b[0m\u001b[0mkwds\u001b[0m\u001b[0;34m)\u001b[0m\u001b[0;34m\u001b[0m\u001b[0;34m\u001b[0m\u001b[0m\n\u001b[0m\u001b[1;32m    455\u001b[0m \u001b[0;34m\u001b[0m\u001b[0m\n\u001b[1;32m    456\u001b[0m     \u001b[0;32mif\u001b[0m \u001b[0mchunksize\u001b[0m \u001b[0;32mor\u001b[0m \u001b[0miterator\u001b[0m\u001b[0;34m:\u001b[0m\u001b[0;34m\u001b[0m\u001b[0;34m\u001b[0m\u001b[0m\n",
            "\u001b[0;32m/usr/local/lib/python3.6/dist-packages/pandas/io/parsers.py\u001b[0m in \u001b[0;36m__init__\u001b[0;34m(self, f, engine, **kwds)\u001b[0m\n\u001b[1;32m    946\u001b[0m             \u001b[0mself\u001b[0m\u001b[0;34m.\u001b[0m\u001b[0moptions\u001b[0m\u001b[0;34m[\u001b[0m\u001b[0;34m\"has_index_names\"\u001b[0m\u001b[0;34m]\u001b[0m \u001b[0;34m=\u001b[0m \u001b[0mkwds\u001b[0m\u001b[0;34m[\u001b[0m\u001b[0;34m\"has_index_names\"\u001b[0m\u001b[0;34m]\u001b[0m\u001b[0;34m\u001b[0m\u001b[0;34m\u001b[0m\u001b[0m\n\u001b[1;32m    947\u001b[0m \u001b[0;34m\u001b[0m\u001b[0m\n\u001b[0;32m--> 948\u001b[0;31m         \u001b[0mself\u001b[0m\u001b[0;34m.\u001b[0m\u001b[0m_make_engine\u001b[0m\u001b[0;34m(\u001b[0m\u001b[0mself\u001b[0m\u001b[0;34m.\u001b[0m\u001b[0mengine\u001b[0m\u001b[0;34m)\u001b[0m\u001b[0;34m\u001b[0m\u001b[0;34m\u001b[0m\u001b[0m\n\u001b[0m\u001b[1;32m    949\u001b[0m \u001b[0;34m\u001b[0m\u001b[0m\n\u001b[1;32m    950\u001b[0m     \u001b[0;32mdef\u001b[0m \u001b[0mclose\u001b[0m\u001b[0;34m(\u001b[0m\u001b[0mself\u001b[0m\u001b[0;34m)\u001b[0m\u001b[0;34m:\u001b[0m\u001b[0;34m\u001b[0m\u001b[0;34m\u001b[0m\u001b[0m\n",
            "\u001b[0;32m/usr/local/lib/python3.6/dist-packages/pandas/io/parsers.py\u001b[0m in \u001b[0;36m_make_engine\u001b[0;34m(self, engine)\u001b[0m\n\u001b[1;32m   1178\u001b[0m     \u001b[0;32mdef\u001b[0m \u001b[0m_make_engine\u001b[0m\u001b[0;34m(\u001b[0m\u001b[0mself\u001b[0m\u001b[0;34m,\u001b[0m \u001b[0mengine\u001b[0m\u001b[0;34m=\u001b[0m\u001b[0;34m\"c\"\u001b[0m\u001b[0;34m)\u001b[0m\u001b[0;34m:\u001b[0m\u001b[0;34m\u001b[0m\u001b[0;34m\u001b[0m\u001b[0m\n\u001b[1;32m   1179\u001b[0m         \u001b[0;32mif\u001b[0m \u001b[0mengine\u001b[0m \u001b[0;34m==\u001b[0m \u001b[0;34m\"c\"\u001b[0m\u001b[0;34m:\u001b[0m\u001b[0;34m\u001b[0m\u001b[0;34m\u001b[0m\u001b[0m\n\u001b[0;32m-> 1180\u001b[0;31m             \u001b[0mself\u001b[0m\u001b[0;34m.\u001b[0m\u001b[0m_engine\u001b[0m \u001b[0;34m=\u001b[0m \u001b[0mCParserWrapper\u001b[0m\u001b[0;34m(\u001b[0m\u001b[0mself\u001b[0m\u001b[0;34m.\u001b[0m\u001b[0mf\u001b[0m\u001b[0;34m,\u001b[0m \u001b[0;34m**\u001b[0m\u001b[0mself\u001b[0m\u001b[0;34m.\u001b[0m\u001b[0moptions\u001b[0m\u001b[0;34m)\u001b[0m\u001b[0;34m\u001b[0m\u001b[0;34m\u001b[0m\u001b[0m\n\u001b[0m\u001b[1;32m   1181\u001b[0m         \u001b[0;32melse\u001b[0m\u001b[0;34m:\u001b[0m\u001b[0;34m\u001b[0m\u001b[0;34m\u001b[0m\u001b[0m\n\u001b[1;32m   1182\u001b[0m             \u001b[0;32mif\u001b[0m \u001b[0mengine\u001b[0m \u001b[0;34m==\u001b[0m \u001b[0;34m\"python\"\u001b[0m\u001b[0;34m:\u001b[0m\u001b[0;34m\u001b[0m\u001b[0;34m\u001b[0m\u001b[0m\n",
            "\u001b[0;32m/usr/local/lib/python3.6/dist-packages/pandas/io/parsers.py\u001b[0m in \u001b[0;36m__init__\u001b[0;34m(self, src, **kwds)\u001b[0m\n\u001b[1;32m   2008\u001b[0m         \u001b[0mkwds\u001b[0m\u001b[0;34m[\u001b[0m\u001b[0;34m\"usecols\"\u001b[0m\u001b[0;34m]\u001b[0m \u001b[0;34m=\u001b[0m \u001b[0mself\u001b[0m\u001b[0;34m.\u001b[0m\u001b[0musecols\u001b[0m\u001b[0;34m\u001b[0m\u001b[0;34m\u001b[0m\u001b[0m\n\u001b[1;32m   2009\u001b[0m \u001b[0;34m\u001b[0m\u001b[0m\n\u001b[0;32m-> 2010\u001b[0;31m         \u001b[0mself\u001b[0m\u001b[0;34m.\u001b[0m\u001b[0m_reader\u001b[0m \u001b[0;34m=\u001b[0m \u001b[0mparsers\u001b[0m\u001b[0;34m.\u001b[0m\u001b[0mTextReader\u001b[0m\u001b[0;34m(\u001b[0m\u001b[0msrc\u001b[0m\u001b[0;34m,\u001b[0m \u001b[0;34m**\u001b[0m\u001b[0mkwds\u001b[0m\u001b[0;34m)\u001b[0m\u001b[0;34m\u001b[0m\u001b[0;34m\u001b[0m\u001b[0m\n\u001b[0m\u001b[1;32m   2011\u001b[0m         \u001b[0mself\u001b[0m\u001b[0;34m.\u001b[0m\u001b[0munnamed_cols\u001b[0m \u001b[0;34m=\u001b[0m \u001b[0mself\u001b[0m\u001b[0;34m.\u001b[0m\u001b[0m_reader\u001b[0m\u001b[0;34m.\u001b[0m\u001b[0munnamed_cols\u001b[0m\u001b[0;34m\u001b[0m\u001b[0;34m\u001b[0m\u001b[0m\n\u001b[1;32m   2012\u001b[0m \u001b[0;34m\u001b[0m\u001b[0m\n",
            "\u001b[0;32mpandas/_libs/parsers.pyx\u001b[0m in \u001b[0;36mpandas._libs.parsers.TextReader.__cinit__\u001b[0;34m()\u001b[0m\n",
            "\u001b[0;32mpandas/_libs/parsers.pyx\u001b[0m in \u001b[0;36mpandas._libs.parsers.TextReader._setup_parser_source\u001b[0;34m()\u001b[0m\n",
            "\u001b[0;31mFileNotFoundError\u001b[0m: [Errno 2] No such file or directory: '/content/drive/My Drive/career/Pwc.csv'"
          ]
        }
      ]
    },
    {
      "cell_type": "code",
      "metadata": {
        "id": "pm_-MBJAbyrR"
      },
      "source": [
        "#https://www.knorange.com/index.php/microsoft-career/\n",
        "##https://www.knorange.com/index.php/nvidia-career/"
      ],
      "execution_count": null,
      "outputs": []
    },
    {
      "cell_type": "markdown",
      "metadata": {
        "id": "vGgVPE6JU1xO"
      },
      "source": [
        "# **Microsoft**"
      ]
    },
    {
      "cell_type": "code",
      "metadata": {
        "id": "5i0vjSvI4ZeM",
        "colab": {
          "base_uri": "https://localhost:8080/"
        },
        "outputId": "672479c0-4078-4320-df3d-77a60183b09c"
      },
      "source": [
        "from random import seed\n",
        "from random import random\n",
        "import random\n",
        "\n",
        "path = \"/content/drive/My Drive/career/Microsoft.csv\"\n",
        "#!ls \"/content/drive/My Drive/career\"\n",
        "df_bonus = pd.read_csv(path)\n",
        "Job = df_bonus['Jobs']\n",
        "Link = df_bonus['Application Links']\n",
        "\n",
        "random = random.randint(7,20)\n",
        "print('Copy and paste the following Microsoft code to wordpress')\n",
        "print('Copy and paste the following  Microsoft  code to wordpress')\n",
        "print('<ol>')\n",
        "\n",
        "\n",
        "\n",
        "for i in range (6):\n",
        "  print('<li><span style=\"color: #000000;\"><a style=\"color: #000000;\" href=\"'+ Link[i]+ '\"' +  'target=\"_blank\" rel=\"noopener\">' + Job[i] + '</a></span></li>')\n",
        "\n",
        "\n",
        "\n",
        "print('<li><a href=\"https://www.knorange.com/index.php/microsoft-career/\"target=\"_blank\" rel=\"noopener\">More...</a>')\n",
        "\n",
        "\n",
        "print('<ol>')\n",
        "print('<p style=\"padding-left: 40px; text-align: right;\">'+ '(Update: '+ Post_date +')</p>')\n",
        "print('<p style=\"padding-left: 40px; text-align: right;\">'+ str(random) + ' minutes ago'+ '</p>')"
      ],
      "execution_count": null,
      "outputs": [
        {
          "output_type": "stream",
          "text": [
            "Copy and paste the following Microsoft code to wordpress\n",
            "Copy and paste the following  Microsoft  code to wordpress\n",
            "<ol>\n",
            "<li><span style=\"color: #000000;\"><a style=\"color: #000000;\" href=\"https://careers.microsoft.com/students/us/en/job/952983/Fulltime-Opportunities-for-Undergraduate-Students-and-Recent-Graduates-Content-Writer-Publisher\"target=\"_blank\" rel=\"noopener\">\n",
            "\n",
            "Fulltime Opportunities for Undergraduate Students and Recent Graduates: Content Writer/Publisher\n",
            "\n",
            "</a></span></li>\n",
            "<li><span style=\"color: #000000;\"><a style=\"color: #000000;\" href=\"https://careers.microsoft.com/students/us/en/job/870913/Full-Time-Opportunities-for-Students-and-Recent-Graduates-MAIDAP-Program-Manager\"target=\"_blank\" rel=\"noopener\">\n",
            "\n",
            "Full Time Opportunities for Students and Recent Graduates - MAIDAP Program Manager\n",
            "\n",
            "</a></span></li>\n",
            "<li><span style=\"color: #000000;\"><a style=\"color: #000000;\" href=\"https://careers.microsoft.com/students/us/en/job/870911/Full-Time-Opportunities-for-PhD-Students-or-Recent-Graduates-MAIDAP-Data-Scientist\"target=\"_blank\" rel=\"noopener\">\n",
            "\n",
            "Full Time Opportunities for PhD Students or Recent Graduates – MAIDAP Data Scientist\n",
            "\n",
            "</a></span></li>\n",
            "<li><span style=\"color: #000000;\"><a style=\"color: #000000;\" href=\"https://careers.microsoft.com/students/us/en/job/870910/Full-Time-Opportunities-for-Students-Recent-Graduates-MAIDAP-Data-Scientist\"target=\"_blank\" rel=\"noopener\">\n",
            "\n",
            "Full Time Opportunities for Students & Recent Graduates - MAIDAP Data Scientist\n",
            "\n",
            "</a></span></li>\n",
            "<li><span style=\"color: #000000;\"><a style=\"color: #000000;\" href=\"https://careers.microsoft.com/students/us/en/job/870912/Full-Time-Opportunities-for-Students-and-Recent-Graduates-MAIDAP-Software-Engineer\"target=\"_blank\" rel=\"noopener\">\n",
            "\n",
            "Full Time Opportunities for Students and Recent Graduates - MAIDAP Software Engineer\n",
            "\n",
            "</a></span></li>\n",
            "<li><span style=\"color: #000000;\"><a style=\"color: #000000;\" href=\"https://careers.microsoft.com/students/us/en/job/870927/Full-Time-Opportunities-for-PhD-Students-and-Recent-Graduates-Hardware-Engineering\"target=\"_blank\" rel=\"noopener\">\n",
            "\n",
            "Full Time Opportunities for PhD Students and Recent Graduates - Hardware Engineering\n",
            "\n",
            "</a></span></li>\n",
            "<li><a href=\"https://www.knorange.com/index.php/microsoft-career/\"target=\"_blank\" rel=\"noopener\">More...</a>\n",
            "<ol>\n",
            "<p style=\"padding-left: 40px; text-align: right;\">(Update: Dec-26-2020)</p>\n",
            "<p style=\"padding-left: 40px; text-align: right;\">13 minutes ago</p>\n"
          ],
          "name": "stdout"
        }
      ]
    },
    {
      "cell_type": "markdown",
      "metadata": {
        "id": "ophpjoGj3jRC"
      },
      "source": [
        "# **Microsoft 2 internship**"
      ]
    },
    {
      "cell_type": "code",
      "metadata": {
        "colab": {
          "base_uri": "https://localhost:8080/"
        },
        "id": "yEK2kizn3j2m",
        "outputId": "ceb4f723-e027-4614-d009-85e8de7f4c78"
      },
      "source": [
        "from random import seed\r\n",
        "from random import random\r\n",
        "import random\r\n",
        "\r\n",
        "path = \"/content/drive/My Drive/career/Microsoft2.csv\"\r\n",
        "#!ls \"/content/drive/My Drive/career\"\r\n",
        "df_bonus = pd.read_csv(path)\r\n",
        "Job = df_bonus['Jobs']\r\n",
        "Link = df_bonus['Application Links']\r\n",
        "\r\n",
        "random = random.randint(7,20)\r\n",
        "print('Copy and paste the following Microsoft code to wordpress')\r\n",
        "print('Copy and paste the following  Microsoft  code to wordpress')\r\n",
        "print('<ol>')\r\n",
        "\r\n",
        "\r\n",
        "\r\n",
        "for i in range (6):\r\n",
        "  print('<li><span style=\"color: #000000;\"><a style=\"color: #000000;\" href=\"'+ Link[i]+ '\"' +  'target=\"_blank\" rel=\"noopener\">' + Job[i] + '</a></span></li>')\r\n",
        "\r\n",
        "\r\n",
        "\r\n",
        "print('<li><a href=\"https://www.knorange.com/microsoft-internship-career/\"target=\"_blank\" rel=\"noopener\">More...</a>')\r\n",
        "\r\n",
        "\r\n",
        "print('<ol>')\r\n",
        "print('<p style=\"padding-left: 40px; text-align: right;\">'+ '(Update: '+ Post_date +')</p>')\r\n",
        "print('<p style=\"padding-left: 40px; text-align: right;\">'+ str(random) + ' minutes ago'+ '</p>')"
      ],
      "execution_count": null,
      "outputs": [
        {
          "output_type": "stream",
          "text": [
            "Copy and paste the following Microsoft code to wordpress\n",
            "Copy and paste the following  Microsoft  code to wordpress\n",
            "<ol>\n",
            "<li><span style=\"color: #000000;\"><a style=\"color: #000000;\" href=\"https://careers.microsoft.com/students/us/en/job/856141/Internship-Opportunities-for-MBA-Students-Marketing\"target=\"_blank\" rel=\"noopener\">\n",
            "\n",
            "Internship Opportunities for MBA Students: Marketing\n",
            "\n",
            "</a></span></li>\n",
            "<li><span style=\"color: #000000;\"><a style=\"color: #000000;\" href=\"https://careers.microsoft.com/students/us/en/job/856145/Internship-Opportunities-for-MBA-Students-Business-Programs-and-Operations\"target=\"_blank\" rel=\"noopener\">\n",
            "\n",
            "Internship Opportunities for MBA Students: Business Programs and Operations\n",
            "\n",
            "</a></span></li>\n",
            "<li><span style=\"color: #000000;\"><a style=\"color: #000000;\" href=\"https://careers.microsoft.com/students/us/en/job/935895/Internship-Opportunities-for-PhD-Students-GSL-Researcher\"target=\"_blank\" rel=\"noopener\">\n",
            "\n",
            "Internship Opportunities for PhD Students - GSL Researcher\n",
            "\n",
            "</a></span></li>\n",
            "<li><span style=\"color: #000000;\"><a style=\"color: #000000;\" href=\"https://careers.microsoft.com/students/us/en/job/872545/Intern-Opportunities-for-MBA-Students-Technical-Sales\"target=\"_blank\" rel=\"noopener\">\n",
            "\n",
            "Intern Opportunities for MBA Students: Technical Sales\n",
            "\n",
            "</a></span></li>\n",
            "<li><span style=\"color: #000000;\"><a style=\"color: #000000;\" href=\"https://careers.microsoft.com/students/us/en/job/870951/Internship-Opportunities-for-Students-Explore-Program\"target=\"_blank\" rel=\"noopener\">\n",
            "\n",
            "Internship Opportunities for Students: Explore Program\n",
            "\n",
            "</a></span></li>\n",
            "<li><span style=\"color: #000000;\"><a style=\"color: #000000;\" href=\"https://careers.microsoft.com/students/us/en/job/870958/Internship-Opportunities-for-Students-Program-Manager\"target=\"_blank\" rel=\"noopener\">\n",
            "\n",
            "Internship Opportunities for Students - Program Manager\n",
            "\n",
            "</a></span></li>\n",
            "<li><a href=\"https://www.knorange.com/microsoft-internship-career/\"target=\"_blank\" rel=\"noopener\">More...</a>\n",
            "<ol>\n",
            "<p style=\"padding-left: 40px; text-align: right;\">(Update: Dec-27-2020)</p>\n",
            "<p style=\"padding-left: 40px; text-align: right;\">20 minutes ago</p>\n"
          ],
          "name": "stdout"
        }
      ]
    },
    {
      "cell_type": "markdown",
      "metadata": {
        "id": "NYsLMqGLVCAf"
      },
      "source": [
        "# **Tesla**"
      ]
    },
    {
      "cell_type": "code",
      "metadata": {
        "id": "WPXh8dY7cRno",
        "colab": {
          "base_uri": "https://localhost:8080/"
        },
        "outputId": "14568cdc-6fbd-4737-81da-36605ef4de77"
      },
      "source": [
        "from random import seed\n",
        "from random import random\n",
        "import random\n",
        "\n",
        "path = \"/content/drive/My Drive/career/Tesla.csv\"\n",
        "#!ls \"/content/drive/My Drive/career\"\n",
        "df_bonus = pd.read_csv(path)\n",
        "Job = df_bonus['Jobs']\n",
        "Link = df_bonus['Application Links']\n",
        "\n",
        "random = random.randint(7,20)\n",
        "print('Copy and paste the following Tesla code to wordpress')\n",
        "print('Copy and paste the following Tesla code to wordpress')\n",
        "print('<ol>')\n",
        "\n",
        "\n",
        "\n",
        "for i in range (6):\n",
        "  print('<li><span style=\"color: #000000;\"><a style=\"color: #000000;\" href=\"'+ Link[i]+ '\"' +  'target=\"_blank\" rel=\"noopener\">' + Job[i] + '</a></span></li>')\n",
        "\n",
        "\n",
        "\n",
        "print('<li><a href=\"https://www.knorange.com/index.php/tesla-career/\"target=\"_blank\" rel=\"noopener\">More...</a>')\n",
        "\n",
        "\n",
        "print('<ol>')\n",
        "print('<p style=\"padding-left: 40px; text-align: right;\">'+ '(Update: '+ Post_date +')</p>')\n",
        "print('<p style=\"padding-left: 40px; text-align: right;\">'+ str(random) + ' minutes ago'+ '</p>')"
      ],
      "execution_count": null,
      "outputs": [
        {
          "output_type": "stream",
          "text": [
            "Copy and paste the following Tesla code to wordpress\n",
            "Copy and paste the following Tesla code to wordpress\n",
            "<ol>\n",
            "<li><span style=\"color: #000000;\"><a style=\"color: #000000;\" href=\"https://www.tesla.com/careers/search/job/design-visual-and-graphic-internship-summer-2021-77546\"target=\"_blank\" rel=\"noopener\">Design - Visual and Graphic Internship (Summer 2021)</a></span></li>\n",
            "<li><span style=\"color: #000000;\"><a style=\"color: #000000;\" href=\"https://www.tesla.com/careers/search/job/design-soft-trim-seat-development-internship-summer-2021-77572\"target=\"_blank\" rel=\"noopener\">Design - Soft Trim & Seat Development Internship (Summer 2021)</a></span></li>\n",
            "<li><span style=\"color: #000000;\"><a style=\"color: #000000;\" href=\"https://www.tesla.com/careers/search/job/design-visual-and-graphic-internship-spring-2021-77547\"target=\"_blank\" rel=\"noopener\">Design - Visual and Graphic Internship (Spring 2021)</a></span></li>\n",
            "<li><span style=\"color: #000000;\"><a style=\"color: #000000;\" href=\"https://www.tesla.com/careers/search/job/design-quality-engineering-internship-summer-2021-77533\"target=\"_blank\" rel=\"noopener\">Design - Quality Engineering Internship (Summer 2021)</a></span></li>\n",
            "<li><span style=\"color: #000000;\"><a style=\"color: #000000;\" href=\"https://www.tesla.com/careers/search/job/product-manager-supply-chain-internal-tools-78713\"target=\"_blank\" rel=\"noopener\">Product Manager -Supply Chain Internal Tools</a></span></li>\n",
            "<li><span style=\"color: #000000;\"><a style=\"color: #000000;\" href=\"https://www.tesla.com/careers/search/job/design-content-internship-summer-2021-77537\"target=\"_blank\" rel=\"noopener\">Design - Content Internship (Summer 2021)</a></span></li>\n",
            "<li><a href=\"https://www.knorange.com/index.php/tesla-career/\"target=\"_blank\" rel=\"noopener\">More...</a>\n",
            "<ol>\n",
            "<p style=\"padding-left: 40px; text-align: right;\">(Update: Dec-26-2020)</p>\n",
            "<p style=\"padding-left: 40px; text-align: right;\">10 minutes ago</p>\n"
          ],
          "name": "stdout"
        }
      ]
    },
    {
      "cell_type": "markdown",
      "metadata": {
        "id": "ixFQkdGKVGCY"
      },
      "source": [
        "# **Tiktok**"
      ]
    },
    {
      "cell_type": "code",
      "metadata": {
        "id": "AuINLSc2cs1t",
        "colab": {
          "base_uri": "https://localhost:8080/"
        },
        "outputId": "f604e0e7-f145-45c5-97d8-4aca2063e929"
      },
      "source": [
        "from random import seed\n",
        "from random import random\n",
        "import random\n",
        "\n",
        "path = \"/content/drive/My Drive/career/Tiktok.csv\"\n",
        "#!ls \"/content/drive/My Drive/career\"\n",
        "df_bonus = pd.read_csv(path)\n",
        "Job = df_bonus['Jobs']\n",
        "Link = df_bonus['Application Links']\n",
        "\n",
        "random = random.randint(7,20)\n",
        "print('Copy and paste the following Tiktok code to wordpress')\n",
        "print('Copy and paste the following Tiktok code to wordpress')\n",
        "print('<ol>')\n",
        "\n",
        "\n",
        "\n",
        "for i in range (6):\n",
        "  print('<li><span style=\"color: #000000;\"><a style=\"color: #000000;\" href=\"'+ Link[i]+ '\"' +  'target=\"_blank\" rel=\"noopener\">' + Job[i] + '</a></span></li>')\n",
        "\n",
        "\n",
        "\n",
        "print('<li><a href=\"https://www.knorange.com/index.php/tiktok-career/\"target=\"_blank\" rel=\"noopener\">More...</a>')\n",
        "\n",
        "\n",
        "print('<ol>')\n",
        "print('<p style=\"padding-left: 40px; text-align: right;\">'+ '(Update: '+ Post_date +')</p>')\n",
        "print('<p style=\"padding-left: 40px; text-align: right;\">'+ str(random) + ' minutes ago'+ '</p>')"
      ],
      "execution_count": null,
      "outputs": [
        {
          "output_type": "stream",
          "text": [
            "Copy and paste the following Tiktok code to wordpress\n",
            "Copy and paste the following Tiktok code to wordpress\n",
            "<ol>\n",
            "<li><span style=\"color: #000000;\"><a style=\"color: #000000;\" href=\"https://careers.tiktok.com/position/detail/6904716507722205453\"target=\"_blank\" rel=\"noopener\">Culture & Diversity Data Analyst Intern - Organizational Culture & Employer Branding</a></span></li>\n",
            "<li><span style=\"color: #000000;\"><a style=\"color: #000000;\" href=\"https://careers.tiktok.com/position/detail/6893287708632172807\"target=\"_blank\" rel=\"noopener\">AR Effects Engineer Intern (Intelligent Creation Lab) - 2021 Summer</a></span></li>\n",
            "<li><span style=\"color: #000000;\"><a style=\"color: #000000;\" href=\"https://careers.tiktok.com/position/detail/6894843139934603527\"target=\"_blank\" rel=\"noopener\">Research Intern in Computer Graphics (Intelligent Creation Lab) -2021 Start</a></span></li>\n",
            "<li><span style=\"color: #000000;\"><a style=\"color: #000000;\" href=\"https://careers.tiktok.com/position/detail/6896164428041013511\"target=\"_blank\" rel=\"noopener\">Research Intern in Recommendation System (Applied Machine Learning) -2021 Summer</a></span></li>\n",
            "<li><span style=\"color: #000000;\"><a style=\"color: #000000;\" href=\"https://careers.tiktok.com/position/detail/6894843139934701831\"target=\"_blank\" rel=\"noopener\">Research Intern in Computer Vision (Intelligent Creation lab) -2021 Start</a></span></li>\n",
            "<li><span style=\"color: #000000;\"><a style=\"color: #000000;\" href=\"https://careers.tiktok.com/position/detail/6894989118050453767\"target=\"_blank\" rel=\"noopener\">ASIC Design and Verification Engineer Intern (Video Architecture) -2021 Summer</a></span></li>\n",
            "<li><a href=\"https://www.knorange.com/index.php/tiktok-career/\"target=\"_blank\" rel=\"noopener\">More...</a>\n",
            "<ol>\n",
            "<p style=\"padding-left: 40px; text-align: right;\">(Update: Dec-26-2020)</p>\n",
            "<p style=\"padding-left: 40px; text-align: right;\">7 minutes ago</p>\n"
          ],
          "name": "stdout"
        }
      ]
    },
    {
      "cell_type": "markdown",
      "metadata": {
        "id": "GaNIeUvsVIBg"
      },
      "source": [
        "# **Nividia**"
      ]
    },
    {
      "cell_type": "code",
      "metadata": {
        "id": "XjtRs0JCdGI6",
        "colab": {
          "base_uri": "https://localhost:8080/",
          "height": 438
        },
        "outputId": "7928cd86-5e64-4825-bcf0-25adf983e762"
      },
      "source": [
        "from random import seed\r\n",
        "from random import random\r\n",
        "import random\r\n",
        "\r\n",
        "path = \"/content/drive/My Drive/career/Nvidia.csv\"\r\n",
        "#!ls \"/content/drive/My Drive/career\"\r\n",
        "df_bonus = pd.read_csv(path)\r\n",
        "Job = df_bonus['Jobs']\r\n",
        "Link = df_bonus['Application Links']\r\n",
        "\r\n",
        "random = random.randint(7,20)\r\n",
        "print('Copy and paste the following Nvidia code to wordpress')\r\n",
        "print('Copy and paste the following Nvidia code to wordpress')\r\n",
        "print('<ol>')\r\n",
        "\r\n",
        "\r\n",
        "\r\n",
        "for i in range (6):\r\n",
        "  print('<li><span style=\"color: #000000;\"><a style=\"color: #000000;\" href=\"'+ Link[i]+ '\"' +  'target=\"_blank\" rel=\"noopener\">' + Job[i] + '</a></span></li>')\r\n",
        "\r\n",
        "\r\n",
        "\r\n",
        "print('<li><a href=\"https://www.knorange.com/index.php/nvidia-career/\"target=\"_blank\" rel=\"noopener\">More...</a>')\r\n",
        "\r\n",
        "\r\n",
        "print('<ol>')\r\n",
        "print('<p style=\"padding-left: 40px; text-align: right;\">'+ '(Update: '+ Post_date +')</p>')\r\n",
        "print('<p style=\"padding-left: 40px; text-align: right;\">'+ str(random) + ' minutes ago'+ '</p>')"
      ],
      "execution_count": null,
      "outputs": [
        {
          "output_type": "error",
          "ename": "FileNotFoundError",
          "evalue": "ignored",
          "traceback": [
            "\u001b[0;31m---------------------------------------------------------------------------\u001b[0m",
            "\u001b[0;31mFileNotFoundError\u001b[0m                         Traceback (most recent call last)",
            "\u001b[0;32m<ipython-input-15-4be07d9087ef>\u001b[0m in \u001b[0;36m<module>\u001b[0;34m()\u001b[0m\n\u001b[1;32m      5\u001b[0m \u001b[0mpath\u001b[0m \u001b[0;34m=\u001b[0m \u001b[0;34m\"/content/drive/My Drive/career/Nvidia.csv\"\u001b[0m\u001b[0;34m\u001b[0m\u001b[0;34m\u001b[0m\u001b[0m\n\u001b[1;32m      6\u001b[0m \u001b[0;31m#!ls \"/content/drive/My Drive/career\"\u001b[0m\u001b[0;34m\u001b[0m\u001b[0;34m\u001b[0m\u001b[0;34m\u001b[0m\u001b[0m\n\u001b[0;32m----> 7\u001b[0;31m \u001b[0mdf_bonus\u001b[0m \u001b[0;34m=\u001b[0m \u001b[0mpd\u001b[0m\u001b[0;34m.\u001b[0m\u001b[0mread_csv\u001b[0m\u001b[0;34m(\u001b[0m\u001b[0mpath\u001b[0m\u001b[0;34m)\u001b[0m\u001b[0;34m\u001b[0m\u001b[0;34m\u001b[0m\u001b[0m\n\u001b[0m\u001b[1;32m      8\u001b[0m \u001b[0mJob\u001b[0m \u001b[0;34m=\u001b[0m \u001b[0mdf_bonus\u001b[0m\u001b[0;34m[\u001b[0m\u001b[0;34m'Jobs'\u001b[0m\u001b[0;34m]\u001b[0m\u001b[0;34m\u001b[0m\u001b[0;34m\u001b[0m\u001b[0m\n\u001b[1;32m      9\u001b[0m \u001b[0mLink\u001b[0m \u001b[0;34m=\u001b[0m \u001b[0mdf_bonus\u001b[0m\u001b[0;34m[\u001b[0m\u001b[0;34m'Application Links'\u001b[0m\u001b[0;34m]\u001b[0m\u001b[0;34m\u001b[0m\u001b[0;34m\u001b[0m\u001b[0m\n",
            "\u001b[0;32m/usr/local/lib/python3.6/dist-packages/pandas/io/parsers.py\u001b[0m in \u001b[0;36mread_csv\u001b[0;34m(filepath_or_buffer, sep, delimiter, header, names, index_col, usecols, squeeze, prefix, mangle_dupe_cols, dtype, engine, converters, true_values, false_values, skipinitialspace, skiprows, skipfooter, nrows, na_values, keep_default_na, na_filter, verbose, skip_blank_lines, parse_dates, infer_datetime_format, keep_date_col, date_parser, dayfirst, cache_dates, iterator, chunksize, compression, thousands, decimal, lineterminator, quotechar, quoting, doublequote, escapechar, comment, encoding, dialect, error_bad_lines, warn_bad_lines, delim_whitespace, low_memory, memory_map, float_precision)\u001b[0m\n\u001b[1;32m    686\u001b[0m     )\n\u001b[1;32m    687\u001b[0m \u001b[0;34m\u001b[0m\u001b[0m\n\u001b[0;32m--> 688\u001b[0;31m     \u001b[0;32mreturn\u001b[0m \u001b[0m_read\u001b[0m\u001b[0;34m(\u001b[0m\u001b[0mfilepath_or_buffer\u001b[0m\u001b[0;34m,\u001b[0m \u001b[0mkwds\u001b[0m\u001b[0;34m)\u001b[0m\u001b[0;34m\u001b[0m\u001b[0;34m\u001b[0m\u001b[0m\n\u001b[0m\u001b[1;32m    689\u001b[0m \u001b[0;34m\u001b[0m\u001b[0m\n\u001b[1;32m    690\u001b[0m \u001b[0;34m\u001b[0m\u001b[0m\n",
            "\u001b[0;32m/usr/local/lib/python3.6/dist-packages/pandas/io/parsers.py\u001b[0m in \u001b[0;36m_read\u001b[0;34m(filepath_or_buffer, kwds)\u001b[0m\n\u001b[1;32m    452\u001b[0m \u001b[0;34m\u001b[0m\u001b[0m\n\u001b[1;32m    453\u001b[0m     \u001b[0;31m# Create the parser.\u001b[0m\u001b[0;34m\u001b[0m\u001b[0;34m\u001b[0m\u001b[0;34m\u001b[0m\u001b[0m\n\u001b[0;32m--> 454\u001b[0;31m     \u001b[0mparser\u001b[0m \u001b[0;34m=\u001b[0m \u001b[0mTextFileReader\u001b[0m\u001b[0;34m(\u001b[0m\u001b[0mfp_or_buf\u001b[0m\u001b[0;34m,\u001b[0m \u001b[0;34m**\u001b[0m\u001b[0mkwds\u001b[0m\u001b[0;34m)\u001b[0m\u001b[0;34m\u001b[0m\u001b[0;34m\u001b[0m\u001b[0m\n\u001b[0m\u001b[1;32m    455\u001b[0m \u001b[0;34m\u001b[0m\u001b[0m\n\u001b[1;32m    456\u001b[0m     \u001b[0;32mif\u001b[0m \u001b[0mchunksize\u001b[0m \u001b[0;32mor\u001b[0m \u001b[0miterator\u001b[0m\u001b[0;34m:\u001b[0m\u001b[0;34m\u001b[0m\u001b[0;34m\u001b[0m\u001b[0m\n",
            "\u001b[0;32m/usr/local/lib/python3.6/dist-packages/pandas/io/parsers.py\u001b[0m in \u001b[0;36m__init__\u001b[0;34m(self, f, engine, **kwds)\u001b[0m\n\u001b[1;32m    946\u001b[0m             \u001b[0mself\u001b[0m\u001b[0;34m.\u001b[0m\u001b[0moptions\u001b[0m\u001b[0;34m[\u001b[0m\u001b[0;34m\"has_index_names\"\u001b[0m\u001b[0;34m]\u001b[0m \u001b[0;34m=\u001b[0m \u001b[0mkwds\u001b[0m\u001b[0;34m[\u001b[0m\u001b[0;34m\"has_index_names\"\u001b[0m\u001b[0;34m]\u001b[0m\u001b[0;34m\u001b[0m\u001b[0;34m\u001b[0m\u001b[0m\n\u001b[1;32m    947\u001b[0m \u001b[0;34m\u001b[0m\u001b[0m\n\u001b[0;32m--> 948\u001b[0;31m         \u001b[0mself\u001b[0m\u001b[0;34m.\u001b[0m\u001b[0m_make_engine\u001b[0m\u001b[0;34m(\u001b[0m\u001b[0mself\u001b[0m\u001b[0;34m.\u001b[0m\u001b[0mengine\u001b[0m\u001b[0;34m)\u001b[0m\u001b[0;34m\u001b[0m\u001b[0;34m\u001b[0m\u001b[0m\n\u001b[0m\u001b[1;32m    949\u001b[0m \u001b[0;34m\u001b[0m\u001b[0m\n\u001b[1;32m    950\u001b[0m     \u001b[0;32mdef\u001b[0m \u001b[0mclose\u001b[0m\u001b[0;34m(\u001b[0m\u001b[0mself\u001b[0m\u001b[0;34m)\u001b[0m\u001b[0;34m:\u001b[0m\u001b[0;34m\u001b[0m\u001b[0;34m\u001b[0m\u001b[0m\n",
            "\u001b[0;32m/usr/local/lib/python3.6/dist-packages/pandas/io/parsers.py\u001b[0m in \u001b[0;36m_make_engine\u001b[0;34m(self, engine)\u001b[0m\n\u001b[1;32m   1178\u001b[0m     \u001b[0;32mdef\u001b[0m \u001b[0m_make_engine\u001b[0m\u001b[0;34m(\u001b[0m\u001b[0mself\u001b[0m\u001b[0;34m,\u001b[0m \u001b[0mengine\u001b[0m\u001b[0;34m=\u001b[0m\u001b[0;34m\"c\"\u001b[0m\u001b[0;34m)\u001b[0m\u001b[0;34m:\u001b[0m\u001b[0;34m\u001b[0m\u001b[0;34m\u001b[0m\u001b[0m\n\u001b[1;32m   1179\u001b[0m         \u001b[0;32mif\u001b[0m \u001b[0mengine\u001b[0m \u001b[0;34m==\u001b[0m \u001b[0;34m\"c\"\u001b[0m\u001b[0;34m:\u001b[0m\u001b[0;34m\u001b[0m\u001b[0;34m\u001b[0m\u001b[0m\n\u001b[0;32m-> 1180\u001b[0;31m             \u001b[0mself\u001b[0m\u001b[0;34m.\u001b[0m\u001b[0m_engine\u001b[0m \u001b[0;34m=\u001b[0m \u001b[0mCParserWrapper\u001b[0m\u001b[0;34m(\u001b[0m\u001b[0mself\u001b[0m\u001b[0;34m.\u001b[0m\u001b[0mf\u001b[0m\u001b[0;34m,\u001b[0m \u001b[0;34m**\u001b[0m\u001b[0mself\u001b[0m\u001b[0;34m.\u001b[0m\u001b[0moptions\u001b[0m\u001b[0;34m)\u001b[0m\u001b[0;34m\u001b[0m\u001b[0;34m\u001b[0m\u001b[0m\n\u001b[0m\u001b[1;32m   1181\u001b[0m         \u001b[0;32melse\u001b[0m\u001b[0;34m:\u001b[0m\u001b[0;34m\u001b[0m\u001b[0;34m\u001b[0m\u001b[0m\n\u001b[1;32m   1182\u001b[0m             \u001b[0;32mif\u001b[0m \u001b[0mengine\u001b[0m \u001b[0;34m==\u001b[0m \u001b[0;34m\"python\"\u001b[0m\u001b[0;34m:\u001b[0m\u001b[0;34m\u001b[0m\u001b[0;34m\u001b[0m\u001b[0m\n",
            "\u001b[0;32m/usr/local/lib/python3.6/dist-packages/pandas/io/parsers.py\u001b[0m in \u001b[0;36m__init__\u001b[0;34m(self, src, **kwds)\u001b[0m\n\u001b[1;32m   2008\u001b[0m         \u001b[0mkwds\u001b[0m\u001b[0;34m[\u001b[0m\u001b[0;34m\"usecols\"\u001b[0m\u001b[0;34m]\u001b[0m \u001b[0;34m=\u001b[0m \u001b[0mself\u001b[0m\u001b[0;34m.\u001b[0m\u001b[0musecols\u001b[0m\u001b[0;34m\u001b[0m\u001b[0;34m\u001b[0m\u001b[0m\n\u001b[1;32m   2009\u001b[0m \u001b[0;34m\u001b[0m\u001b[0m\n\u001b[0;32m-> 2010\u001b[0;31m         \u001b[0mself\u001b[0m\u001b[0;34m.\u001b[0m\u001b[0m_reader\u001b[0m \u001b[0;34m=\u001b[0m \u001b[0mparsers\u001b[0m\u001b[0;34m.\u001b[0m\u001b[0mTextReader\u001b[0m\u001b[0;34m(\u001b[0m\u001b[0msrc\u001b[0m\u001b[0;34m,\u001b[0m \u001b[0;34m**\u001b[0m\u001b[0mkwds\u001b[0m\u001b[0;34m)\u001b[0m\u001b[0;34m\u001b[0m\u001b[0;34m\u001b[0m\u001b[0m\n\u001b[0m\u001b[1;32m   2011\u001b[0m         \u001b[0mself\u001b[0m\u001b[0;34m.\u001b[0m\u001b[0munnamed_cols\u001b[0m \u001b[0;34m=\u001b[0m \u001b[0mself\u001b[0m\u001b[0;34m.\u001b[0m\u001b[0m_reader\u001b[0m\u001b[0;34m.\u001b[0m\u001b[0munnamed_cols\u001b[0m\u001b[0;34m\u001b[0m\u001b[0;34m\u001b[0m\u001b[0m\n\u001b[1;32m   2012\u001b[0m \u001b[0;34m\u001b[0m\u001b[0m\n",
            "\u001b[0;32mpandas/_libs/parsers.pyx\u001b[0m in \u001b[0;36mpandas._libs.parsers.TextReader.__cinit__\u001b[0;34m()\u001b[0m\n",
            "\u001b[0;32mpandas/_libs/parsers.pyx\u001b[0m in \u001b[0;36mpandas._libs.parsers.TextReader._setup_parser_source\u001b[0;34m()\u001b[0m\n",
            "\u001b[0;31mFileNotFoundError\u001b[0m: [Errno 2] No such file or directory: '/content/drive/My Drive/career/Nvidia.csv'"
          ]
        }
      ]
    },
    {
      "cell_type": "markdown",
      "metadata": {
        "id": "Gp41_fU_VLK2"
      },
      "source": [
        "# **Vmware**"
      ]
    },
    {
      "cell_type": "code",
      "metadata": {
        "id": "_pRjKTuTdbTV",
        "colab": {
          "base_uri": "https://localhost:8080/"
        },
        "outputId": "db2b4795-9b76-4753-974c-8f6604115859"
      },
      "source": [
        "from random import seed\r\n",
        "from random import random\r\n",
        "import random\r\n",
        "\r\n",
        "path = \"/content/drive/My Drive/career/Vmware.csv\"\r\n",
        "#!ls \"/content/drive/My Drive/career\"\r\n",
        "df_bonus = pd.read_csv(path)\r\n",
        "Job = df_bonus['Jobs']\r\n",
        "Link = df_bonus['Application Links']\r\n",
        "\r\n",
        "random = random.randint(7,20)\r\n",
        "print('Copy and paste the following Vmware code to wordpress')\r\n",
        "print('Copy and paste the following Vmware code to wordpress')\r\n",
        "print('<ol>')\r\n",
        "\r\n",
        "\r\n",
        "\r\n",
        "for i in range (6):\r\n",
        "  print('<li><span style=\"color: #000000;\"><a style=\"color: #000000;\" href=\"'+ Link[i]+ '\"' +  'target=\"_blank\" rel=\"noopener\">' + Job[i] + '</a></span></li>')\r\n",
        "\r\n",
        "\r\n",
        "\r\n",
        "print('<li><a href=\"https://www.knorange.com/index.php/vmware-career/\"target=\"_blank\" rel=\"noopener\">More...</a>')\r\n",
        "\r\n",
        "\r\n",
        "print('<ol>')\r\n",
        "print('<p style=\"padding-left: 40px; text-align: right;\">'+ '(Update: '+ Post_date +')</p>')\r\n",
        "print('<p style=\"padding-left: 40px; text-align: right;\">'+ str(random) + ' minutes ago'+ '</p>')"
      ],
      "execution_count": null,
      "outputs": [
        {
          "output_type": "stream",
          "text": [
            "Copy and paste the following Vmware code to wordpress\n",
            "Copy and paste the following Vmware code to wordpress\n",
            "<ol>\n",
            "<li><span style=\"color: #000000;\"><a style=\"color: #000000;\" href=\"https://careers.vmware.com/new-graduates/jobs/R2010849?lang=en-us\"target=\"_blank\" rel=\"noopener\">Intern - VMware Research Group - Formal Verification of Reinforcement Learning Controllers - Opportunity for Working Remotely</a></span></li>\n",
            "<li><span style=\"color: #000000;\"><a style=\"color: #000000;\" href=\"https://careers.vmware.com/new-graduates/jobs/R2010851?lang=en-us\"target=\"_blank\" rel=\"noopener\">Intern – VMware Research Group – AlloyCore: Enabling Lightweight Userspace-OS switching within a Core - Opportunity for Working Remotely</a></span></li>\n",
            "<li><span style=\"color: #000000;\"><a style=\"color: #000000;\" href=\"https://careers.vmware.com/new-graduates/jobs/R2010240?lang=en-us\"target=\"_blank\" rel=\"noopener\">Intern - Talent Acquisition - SWAT Recruiter - Opportunity for working remotely (Summer 2021)</a></span></li>\n",
            "<li><span style=\"color: #000000;\"><a style=\"color: #000000;\" href=\"https://careers.vmware.com/new-graduates/jobs/R2017605?lang=en-us\"target=\"_blank\" rel=\"noopener\">IT Artificial Intelligence/Machine Learning Research Intern - Opportunity for Working Remotely</a></span></li>\n",
            "<li><span style=\"color: #000000;\"><a style=\"color: #000000;\" href=\"https://careers.vmware.com/new-graduates/jobs/R2018064?lang=en-us\"target=\"_blank\" rel=\"noopener\">Intern - Legal - Generalist - Opportunity for working remotely (Summer 2021)</a></span></li>\n",
            "<li><span style=\"color: #000000;\"><a style=\"color: #000000;\" href=\"https://careers.vmware.com/new-graduates/jobs/R2010675?lang=en-us\"target=\"_blank\" rel=\"noopener\">Intern - Legal - Ethics and Compliance (Summer 2021)- Opportunity for working remotely</a></span></li>\n",
            "<li><a href=\"https://www.knorange.com/index.php/vmware-career/\"target=\"_blank\" rel=\"noopener\">More...</a>\n",
            "<ol>\n",
            "<p style=\"padding-left: 40px; text-align: right;\">(Update: Dec-26-2020)</p>\n",
            "<p style=\"padding-left: 40px; text-align: right;\">19 minutes ago</p>\n"
          ],
          "name": "stdout"
        }
      ]
    },
    {
      "cell_type": "markdown",
      "metadata": {
        "id": "uBwTTUVpVOXx"
      },
      "source": [
        "# **CapitalOne**"
      ]
    },
    {
      "cell_type": "code",
      "metadata": {
        "id": "yMou47O4dxw_",
        "colab": {
          "base_uri": "https://localhost:8080/",
          "height": 438
        },
        "outputId": "4d700e76-3df6-4449-8301-2b37427ad008"
      },
      "source": [
        "from random import seed\r\n",
        "from random import random\r\n",
        "import random\r\n",
        "\r\n",
        "path = \"/content/drive/My Drive/career/Capitalone.csv\"\r\n",
        "#!ls \"/content/drive/My Drive/career\"\r\n",
        "df_bonus = pd.read_csv(path)\r\n",
        "Job = df_bonus['Jobs']\r\n",
        "Link = df_bonus['Application Links']\r\n",
        "\r\n",
        "random = random.randint(7,20)\r\n",
        "print('Copy and paste the following Capitalone code to wordpress')\r\n",
        "print('Copy and paste the following Capitalone code to wordpress')\r\n",
        "print('<ol>')\r\n",
        "\r\n",
        "\r\n",
        "if (len(df_bonus)<7):\r\n",
        "    \r\n",
        "  for i in range (len(df_bonus)):\r\n",
        "    print('<li><span style=\"color: #000000;\"><a style=\"color: #000000;\" href=\"'+ Link[i]+ '\"' +  'target=\"_blank\" rel=\"noopener\">' + Job[i] + '</a></span></li>')\r\n",
        "\r\n",
        "\r\n",
        "else: \r\n",
        "    \r\n",
        "  for i in range (6):\r\n",
        "    print('<li><span style=\"color: #000000;\"><a style=\"color: #000000;\" href=\"'+ Link[i]+ '\"' +  'target=\"_blank\" rel=\"noopener\">' + Job[i] + '</a></span></li>')\r\n",
        "\r\n",
        "\r\n",
        "\r\n",
        "\r\n",
        "print('<li><a href=\"https://www.knorange.com/index.php/capital-one-career/\"target=\"_blank\" rel=\"noopener\">More...</a>')\r\n",
        "print('<ol>')\r\n",
        "print('<p style=\"padding-left: 40px; text-align: right;\">'+ '(Update: '+ Post_date +')</p>')\r\n",
        "print('<p style=\"padding-left: 40px; text-align: right;\">'+ str(random) + ' minutes ago'+ '</p>')"
      ],
      "execution_count": null,
      "outputs": [
        {
          "output_type": "error",
          "ename": "FileNotFoundError",
          "evalue": "ignored",
          "traceback": [
            "\u001b[0;31m---------------------------------------------------------------------------\u001b[0m",
            "\u001b[0;31mFileNotFoundError\u001b[0m                         Traceback (most recent call last)",
            "\u001b[0;32m<ipython-input-17-de421589f1d2>\u001b[0m in \u001b[0;36m<module>\u001b[0;34m()\u001b[0m\n\u001b[1;32m      5\u001b[0m \u001b[0mpath\u001b[0m \u001b[0;34m=\u001b[0m \u001b[0;34m\"/content/drive/My Drive/career/Capitalone.csv\"\u001b[0m\u001b[0;34m\u001b[0m\u001b[0;34m\u001b[0m\u001b[0m\n\u001b[1;32m      6\u001b[0m \u001b[0;31m#!ls \"/content/drive/My Drive/career\"\u001b[0m\u001b[0;34m\u001b[0m\u001b[0;34m\u001b[0m\u001b[0;34m\u001b[0m\u001b[0m\n\u001b[0;32m----> 7\u001b[0;31m \u001b[0mdf_bonus\u001b[0m \u001b[0;34m=\u001b[0m \u001b[0mpd\u001b[0m\u001b[0;34m.\u001b[0m\u001b[0mread_csv\u001b[0m\u001b[0;34m(\u001b[0m\u001b[0mpath\u001b[0m\u001b[0;34m)\u001b[0m\u001b[0;34m\u001b[0m\u001b[0;34m\u001b[0m\u001b[0m\n\u001b[0m\u001b[1;32m      8\u001b[0m \u001b[0mJob\u001b[0m \u001b[0;34m=\u001b[0m \u001b[0mdf_bonus\u001b[0m\u001b[0;34m[\u001b[0m\u001b[0;34m'Jobs'\u001b[0m\u001b[0;34m]\u001b[0m\u001b[0;34m\u001b[0m\u001b[0;34m\u001b[0m\u001b[0m\n\u001b[1;32m      9\u001b[0m \u001b[0mLink\u001b[0m \u001b[0;34m=\u001b[0m \u001b[0mdf_bonus\u001b[0m\u001b[0;34m[\u001b[0m\u001b[0;34m'Application Links'\u001b[0m\u001b[0;34m]\u001b[0m\u001b[0;34m\u001b[0m\u001b[0;34m\u001b[0m\u001b[0m\n",
            "\u001b[0;32m/usr/local/lib/python3.6/dist-packages/pandas/io/parsers.py\u001b[0m in \u001b[0;36mread_csv\u001b[0;34m(filepath_or_buffer, sep, delimiter, header, names, index_col, usecols, squeeze, prefix, mangle_dupe_cols, dtype, engine, converters, true_values, false_values, skipinitialspace, skiprows, skipfooter, nrows, na_values, keep_default_na, na_filter, verbose, skip_blank_lines, parse_dates, infer_datetime_format, keep_date_col, date_parser, dayfirst, cache_dates, iterator, chunksize, compression, thousands, decimal, lineterminator, quotechar, quoting, doublequote, escapechar, comment, encoding, dialect, error_bad_lines, warn_bad_lines, delim_whitespace, low_memory, memory_map, float_precision)\u001b[0m\n\u001b[1;32m    686\u001b[0m     )\n\u001b[1;32m    687\u001b[0m \u001b[0;34m\u001b[0m\u001b[0m\n\u001b[0;32m--> 688\u001b[0;31m     \u001b[0;32mreturn\u001b[0m \u001b[0m_read\u001b[0m\u001b[0;34m(\u001b[0m\u001b[0mfilepath_or_buffer\u001b[0m\u001b[0;34m,\u001b[0m \u001b[0mkwds\u001b[0m\u001b[0;34m)\u001b[0m\u001b[0;34m\u001b[0m\u001b[0;34m\u001b[0m\u001b[0m\n\u001b[0m\u001b[1;32m    689\u001b[0m \u001b[0;34m\u001b[0m\u001b[0m\n\u001b[1;32m    690\u001b[0m \u001b[0;34m\u001b[0m\u001b[0m\n",
            "\u001b[0;32m/usr/local/lib/python3.6/dist-packages/pandas/io/parsers.py\u001b[0m in \u001b[0;36m_read\u001b[0;34m(filepath_or_buffer, kwds)\u001b[0m\n\u001b[1;32m    452\u001b[0m \u001b[0;34m\u001b[0m\u001b[0m\n\u001b[1;32m    453\u001b[0m     \u001b[0;31m# Create the parser.\u001b[0m\u001b[0;34m\u001b[0m\u001b[0;34m\u001b[0m\u001b[0;34m\u001b[0m\u001b[0m\n\u001b[0;32m--> 454\u001b[0;31m     \u001b[0mparser\u001b[0m \u001b[0;34m=\u001b[0m \u001b[0mTextFileReader\u001b[0m\u001b[0;34m(\u001b[0m\u001b[0mfp_or_buf\u001b[0m\u001b[0;34m,\u001b[0m \u001b[0;34m**\u001b[0m\u001b[0mkwds\u001b[0m\u001b[0;34m)\u001b[0m\u001b[0;34m\u001b[0m\u001b[0;34m\u001b[0m\u001b[0m\n\u001b[0m\u001b[1;32m    455\u001b[0m \u001b[0;34m\u001b[0m\u001b[0m\n\u001b[1;32m    456\u001b[0m     \u001b[0;32mif\u001b[0m \u001b[0mchunksize\u001b[0m \u001b[0;32mor\u001b[0m \u001b[0miterator\u001b[0m\u001b[0;34m:\u001b[0m\u001b[0;34m\u001b[0m\u001b[0;34m\u001b[0m\u001b[0m\n",
            "\u001b[0;32m/usr/local/lib/python3.6/dist-packages/pandas/io/parsers.py\u001b[0m in \u001b[0;36m__init__\u001b[0;34m(self, f, engine, **kwds)\u001b[0m\n\u001b[1;32m    946\u001b[0m             \u001b[0mself\u001b[0m\u001b[0;34m.\u001b[0m\u001b[0moptions\u001b[0m\u001b[0;34m[\u001b[0m\u001b[0;34m\"has_index_names\"\u001b[0m\u001b[0;34m]\u001b[0m \u001b[0;34m=\u001b[0m \u001b[0mkwds\u001b[0m\u001b[0;34m[\u001b[0m\u001b[0;34m\"has_index_names\"\u001b[0m\u001b[0;34m]\u001b[0m\u001b[0;34m\u001b[0m\u001b[0;34m\u001b[0m\u001b[0m\n\u001b[1;32m    947\u001b[0m \u001b[0;34m\u001b[0m\u001b[0m\n\u001b[0;32m--> 948\u001b[0;31m         \u001b[0mself\u001b[0m\u001b[0;34m.\u001b[0m\u001b[0m_make_engine\u001b[0m\u001b[0;34m(\u001b[0m\u001b[0mself\u001b[0m\u001b[0;34m.\u001b[0m\u001b[0mengine\u001b[0m\u001b[0;34m)\u001b[0m\u001b[0;34m\u001b[0m\u001b[0;34m\u001b[0m\u001b[0m\n\u001b[0m\u001b[1;32m    949\u001b[0m \u001b[0;34m\u001b[0m\u001b[0m\n\u001b[1;32m    950\u001b[0m     \u001b[0;32mdef\u001b[0m \u001b[0mclose\u001b[0m\u001b[0;34m(\u001b[0m\u001b[0mself\u001b[0m\u001b[0;34m)\u001b[0m\u001b[0;34m:\u001b[0m\u001b[0;34m\u001b[0m\u001b[0;34m\u001b[0m\u001b[0m\n",
            "\u001b[0;32m/usr/local/lib/python3.6/dist-packages/pandas/io/parsers.py\u001b[0m in \u001b[0;36m_make_engine\u001b[0;34m(self, engine)\u001b[0m\n\u001b[1;32m   1178\u001b[0m     \u001b[0;32mdef\u001b[0m \u001b[0m_make_engine\u001b[0m\u001b[0;34m(\u001b[0m\u001b[0mself\u001b[0m\u001b[0;34m,\u001b[0m \u001b[0mengine\u001b[0m\u001b[0;34m=\u001b[0m\u001b[0;34m\"c\"\u001b[0m\u001b[0;34m)\u001b[0m\u001b[0;34m:\u001b[0m\u001b[0;34m\u001b[0m\u001b[0;34m\u001b[0m\u001b[0m\n\u001b[1;32m   1179\u001b[0m         \u001b[0;32mif\u001b[0m \u001b[0mengine\u001b[0m \u001b[0;34m==\u001b[0m \u001b[0;34m\"c\"\u001b[0m\u001b[0;34m:\u001b[0m\u001b[0;34m\u001b[0m\u001b[0;34m\u001b[0m\u001b[0m\n\u001b[0;32m-> 1180\u001b[0;31m             \u001b[0mself\u001b[0m\u001b[0;34m.\u001b[0m\u001b[0m_engine\u001b[0m \u001b[0;34m=\u001b[0m \u001b[0mCParserWrapper\u001b[0m\u001b[0;34m(\u001b[0m\u001b[0mself\u001b[0m\u001b[0;34m.\u001b[0m\u001b[0mf\u001b[0m\u001b[0;34m,\u001b[0m \u001b[0;34m**\u001b[0m\u001b[0mself\u001b[0m\u001b[0;34m.\u001b[0m\u001b[0moptions\u001b[0m\u001b[0;34m)\u001b[0m\u001b[0;34m\u001b[0m\u001b[0;34m\u001b[0m\u001b[0m\n\u001b[0m\u001b[1;32m   1181\u001b[0m         \u001b[0;32melse\u001b[0m\u001b[0;34m:\u001b[0m\u001b[0;34m\u001b[0m\u001b[0;34m\u001b[0m\u001b[0m\n\u001b[1;32m   1182\u001b[0m             \u001b[0;32mif\u001b[0m \u001b[0mengine\u001b[0m \u001b[0;34m==\u001b[0m \u001b[0;34m\"python\"\u001b[0m\u001b[0;34m:\u001b[0m\u001b[0;34m\u001b[0m\u001b[0;34m\u001b[0m\u001b[0m\n",
            "\u001b[0;32m/usr/local/lib/python3.6/dist-packages/pandas/io/parsers.py\u001b[0m in \u001b[0;36m__init__\u001b[0;34m(self, src, **kwds)\u001b[0m\n\u001b[1;32m   2008\u001b[0m         \u001b[0mkwds\u001b[0m\u001b[0;34m[\u001b[0m\u001b[0;34m\"usecols\"\u001b[0m\u001b[0;34m]\u001b[0m \u001b[0;34m=\u001b[0m \u001b[0mself\u001b[0m\u001b[0;34m.\u001b[0m\u001b[0musecols\u001b[0m\u001b[0;34m\u001b[0m\u001b[0;34m\u001b[0m\u001b[0m\n\u001b[1;32m   2009\u001b[0m \u001b[0;34m\u001b[0m\u001b[0m\n\u001b[0;32m-> 2010\u001b[0;31m         \u001b[0mself\u001b[0m\u001b[0;34m.\u001b[0m\u001b[0m_reader\u001b[0m \u001b[0;34m=\u001b[0m \u001b[0mparsers\u001b[0m\u001b[0;34m.\u001b[0m\u001b[0mTextReader\u001b[0m\u001b[0;34m(\u001b[0m\u001b[0msrc\u001b[0m\u001b[0;34m,\u001b[0m \u001b[0;34m**\u001b[0m\u001b[0mkwds\u001b[0m\u001b[0;34m)\u001b[0m\u001b[0;34m\u001b[0m\u001b[0;34m\u001b[0m\u001b[0m\n\u001b[0m\u001b[1;32m   2011\u001b[0m         \u001b[0mself\u001b[0m\u001b[0;34m.\u001b[0m\u001b[0munnamed_cols\u001b[0m \u001b[0;34m=\u001b[0m \u001b[0mself\u001b[0m\u001b[0;34m.\u001b[0m\u001b[0m_reader\u001b[0m\u001b[0;34m.\u001b[0m\u001b[0munnamed_cols\u001b[0m\u001b[0;34m\u001b[0m\u001b[0;34m\u001b[0m\u001b[0m\n\u001b[1;32m   2012\u001b[0m \u001b[0;34m\u001b[0m\u001b[0m\n",
            "\u001b[0;32mpandas/_libs/parsers.pyx\u001b[0m in \u001b[0;36mpandas._libs.parsers.TextReader.__cinit__\u001b[0;34m()\u001b[0m\n",
            "\u001b[0;32mpandas/_libs/parsers.pyx\u001b[0m in \u001b[0;36mpandas._libs.parsers.TextReader._setup_parser_source\u001b[0;34m()\u001b[0m\n",
            "\u001b[0;31mFileNotFoundError\u001b[0m: [Errno 2] No such file or directory: '/content/drive/My Drive/career/Capitalone.csv'"
          ]
        }
      ]
    },
    {
      "cell_type": "markdown",
      "metadata": {
        "id": "t-ZSQVlnVRJI"
      },
      "source": [
        "# **Cisco**"
      ]
    },
    {
      "cell_type": "code",
      "metadata": {
        "id": "XdKe-8l2d3Y6",
        "colab": {
          "base_uri": "https://localhost:8080/"
        },
        "outputId": "5dacae8f-ca6d-4ea3-f382-a352f8126f89"
      },
      "source": [
        "from random import seed\r\n",
        "from random import random\r\n",
        "import random\r\n",
        "\r\n",
        "path = \"/content/drive/My Drive/career/Cisco.csv\"\r\n",
        "#!ls \"/content/drive/My Drive/career\"\r\n",
        "df_bonus = pd.read_csv(path)\r\n",
        "Job = df_bonus['Jobs']\r\n",
        "Link = df_bonus['Application Links']\r\n",
        "\r\n",
        "random = random.randint(7,20)\r\n",
        "print('Copy and paste the following Cisco code to wordpress')\r\n",
        "print('Copy and paste the following Cisco code to wordpress')\r\n",
        "print('<ol>')\r\n",
        "\r\n",
        "\r\n",
        "\r\n",
        "for i in range (6):\r\n",
        "  print('<li><span style=\"color: #000000;\"><a style=\"color: #000000;\" href=\"'+ Link[i]+ '\"' +  'target=\"_blank\" rel=\"noopener\">' + Job[i] + '</a></span></li>')\r\n",
        "\r\n",
        "\r\n",
        "\r\n",
        "print('<li><a href=\"https://www.knorange.com/index.php/cisco-career/\"target=\"_blank\" rel=\"noopener\">More...</a>')\r\n",
        "\r\n",
        "\r\n",
        "print('<ol>')\r\n",
        "print('<p style=\"padding-left: 40px; text-align: right;\">'+ '(Update: '+ Post_date +')</p>')\r\n",
        "print('<p style=\"padding-left: 40px; text-align: right;\">'+ str(random) + ' minutes ago'+ '</p>')"
      ],
      "execution_count": null,
      "outputs": [
        {
          "output_type": "stream",
          "text": [
            "Copy and paste the following Cisco code to wordpress\n",
            "Copy and paste the following Cisco code to wordpress\n",
            "<ol>\n",
            "<li><span style=\"color: #000000;\"><a style=\"color: #000000;\" href=\"https://jobs.cisco.com/jobs/ProjectDetail/Legal-Doctorate-Intern-United-States/1314082\"target=\"_blank\" rel=\"noopener\">Legal Doctorate (Intern) - United States</a></span></li>\n",
            "<li><span style=\"color: #000000;\"><a style=\"color: #000000;\" href=\"https://jobs.cisco.com/jobs/ProjectDetail/Business-Strategy-Manager-MBA-Intern-United-States/1309530\"target=\"_blank\" rel=\"noopener\">Business Strategy Manager - MBA (Intern) – United States</a></span></li>\n",
            "<li><span style=\"color: #000000;\"><a style=\"color: #000000;\" href=\"https://jobs.cisco.com/jobs/ProjectDetail/Product-Manager-MBA-Intern-United-States/1298575\"target=\"_blank\" rel=\"noopener\">Product Manager - MBA (Intern) - United States</a></span></li>\n",
            "<li><span style=\"color: #000000;\"><a style=\"color: #000000;\" href=\"https://jobs.cisco.com/jobs/ProjectDetail/Product-Manager-MBA-Full-Time-United-States/1298576\"target=\"_blank\" rel=\"noopener\">Product Manager - MBA (Full Time) - United States</a></span></li>\n",
            "<li><span style=\"color: #000000;\"><a style=\"color: #000000;\" href=\"https://jobs.cisco.com/jobs/ProjectDetail/Program-Manager-MBA-Full-Time-United-States/1295657\"target=\"_blank\" rel=\"noopener\">Program Manager MBA (Full Time) - United States</a></span></li>\n",
            "<li><span style=\"color: #000000;\"><a style=\"color: #000000;\" href=\"https://jobs.cisco.com/jobs/ProjectDetail/Duo-Security-Product-Design-Intern-United-States/1308921\"target=\"_blank\" rel=\"noopener\">Duo Security Product Design (Intern)- United States</a></span></li>\n",
            "<li><a href=\"https://www.knorange.com/index.php/cisco-career/\"target=\"_blank\" rel=\"noopener\">More...</a>\n",
            "<ol>\n",
            "<p style=\"padding-left: 40px; text-align: right;\">(Update: Dec-26-2020)</p>\n",
            "<p style=\"padding-left: 40px; text-align: right;\">8 minutes ago</p>\n"
          ],
          "name": "stdout"
        }
      ]
    },
    {
      "cell_type": "markdown",
      "metadata": {
        "id": "hs8P432XVTSI"
      },
      "source": [
        "# **Ebay Internship**"
      ]
    },
    {
      "cell_type": "code",
      "metadata": {
        "id": "qY2-X7rOd9aS",
        "colab": {
          "base_uri": "https://localhost:8080/"
        },
        "outputId": "0e89b51c-7d0b-4cb3-ed8e-f43ffbc2be3f"
      },
      "source": [
        "from random import seed\r\n",
        "from random import random\r\n",
        "import random\r\n",
        "\r\n",
        "path = \"/content/drive/My Drive/career/Ebay_Part_1.csv\"\r\n",
        "#!ls \"/content/drive/My Drive/career\"\r\n",
        "df_bonus = pd.read_csv(path)\r\n",
        "Job = df_bonus['Jobs']\r\n",
        "Link = df_bonus['Application Links']\r\n",
        "\r\n",
        "random = random.randint(7,20)\r\n",
        "print('Copy and paste the following Ebay internship code to wordpress')\r\n",
        "print('Copy and paste the following Ebay internship code to wordpress')\r\n",
        "print('<ol>')\r\n",
        "\r\n",
        "\r\n",
        "\r\n",
        "for i in range (6):\r\n",
        "  print('<li><span style=\"color: #000000;\"><a style=\"color: #000000;\" href=\"'+ Link[i]+ '\"' +  'target=\"_blank\" rel=\"noopener\">' + Job[i] + '</a></span></li>')\r\n",
        "\r\n",
        "\r\n",
        "\r\n",
        "print('<li><a href=\"https://www.knorange.com/index.php/ebay-part-1-career/\"target=\"_blank\" rel=\"noopener\">More...</a>')\r\n",
        "\r\n",
        "\r\n",
        "print('<ol>')\r\n",
        "print('<p style=\"padding-left: 40px; text-align: right;\">'+ '(Update: '+ Post_date +')</p>')\r\n",
        "print('<p style=\"padding-left: 40px; text-align: right;\">'+ str(random) + ' minutes ago'+ '</p>')"
      ],
      "execution_count": null,
      "outputs": [
        {
          "output_type": "stream",
          "text": [
            "Copy and paste the following Ebay internship code to wordpress\n",
            "Copy and paste the following Ebay internship code to wordpress\n",
            "<ol>\n",
            "<li><span style=\"color: #000000;\"><a style=\"color: #000000;\" href=\"https://jobs.ebayinc.com/job/san-jose/employee-communications-intern/403/3348653136\"target=\"_blank\" rel=\"noopener\">Employee Communications Intern</a></span></li>\n",
            "<li><span style=\"color: #000000;\"><a style=\"color: #000000;\" href=\"https://jobs.ebayinc.com/job/dreilinden/prakt-werkstudent-d-w-m-partner-mngt/403/2148940080\"target=\"_blank\" rel=\"noopener\">Prakt./Werkstudent (d/w/m) Partner Mngt.</a></span></li>\n",
            "<li><span style=\"color: #000000;\"><a style=\"color: #000000;\" href=\"https://jobs.ebayinc.com/job/moscow/business-insights-intern/403/3036958048\"target=\"_blank\" rel=\"noopener\">Business Insights Intern</a></span></li>\n",
            "<li><span style=\"color: #000000;\"><a style=\"color: #000000;\" href=\"https://jobs.ebayinc.com/job/dreilinden/werkstudent-d-f-m-business-development/403/2958573040\"target=\"_blank\" rel=\"noopener\">Werkstudent (d/f/m) Business Development</a></span></li>\n",
            "<li><span style=\"color: #000000;\"><a style=\"color: #000000;\" href=\"https://jobs.ebayinc.com/job/dreilinden/wrk-stud-m-f-d-software-engineer/403/2404189536\"target=\"_blank\" rel=\"noopener\">Wrk Stud. (m/f/d) Software Engineer</a></span></li>\n",
            "<li><span style=\"color: #000000;\"><a style=\"color: #000000;\" href=\"https://jobs.ebayinc.com/job/dreilinden/praktikant-w-m-d-projektmgmt-ecommerce/403/2923661888\"target=\"_blank\" rel=\"noopener\">Praktikant (w/m/d) Projektmgmt eCommerce</a></span></li>\n",
            "<li><a href=\"https://www.knorange.com/index.php/ebay-part-1-career/\"target=\"_blank\" rel=\"noopener\">More...</a>\n",
            "<ol>\n",
            "<p style=\"padding-left: 40px; text-align: right;\">(Update: Dec-26-2020)</p>\n",
            "<p style=\"padding-left: 40px; text-align: right;\">7 minutes ago</p>\n"
          ],
          "name": "stdout"
        }
      ]
    },
    {
      "cell_type": "markdown",
      "metadata": {
        "id": "Sy5U6qytVV2Q"
      },
      "source": [
        "# **Ebay graduate**"
      ]
    },
    {
      "cell_type": "code",
      "metadata": {
        "id": "jlZyP57meCq6",
        "colab": {
          "base_uri": "https://localhost:8080/"
        },
        "outputId": "8bb3f7d3-c4d9-4961-cf95-cac413f5fd09"
      },
      "source": [
        "from random import seed\r\n",
        "from random import random\r\n",
        "import random\r\n",
        "\r\n",
        "path = \"/content/drive/My Drive/career/Ebay_Part_2.csv\"\r\n",
        "#!ls \"/content/drive/My Drive/career\"\r\n",
        "df_bonus = pd.read_csv(path)\r\n",
        "Job = df_bonus['Jobs']\r\n",
        "Link = df_bonus['Application Links']\r\n",
        "\r\n",
        "random = random.randint(7,20)\r\n",
        "print('Copy and paste the following Ebay recent graduate code to wordpress')\r\n",
        "print('Copy and paste the following Ebay recent gradaute code to wordpress')\r\n",
        "print('<ol>')\r\n",
        "\r\n",
        "\r\n",
        "\r\n",
        "for i in range (6):\r\n",
        "  print('<li><span style=\"color: #000000;\"><a style=\"color: #000000;\" href=\"'+ Link[i]+ '\"' +  'target=\"_blank\" rel=\"noopener\">' + Job[i] + '</a></span></li>')\r\n",
        "\r\n",
        "\r\n",
        "\r\n",
        "print('<li><a href=\"https://www.knorange.com/index.php/ebay-part-2-career/\"target=\"_blank\" rel=\"noopener\">More...</a>')\r\n",
        "\r\n",
        "\r\n",
        "print('<ol>')\r\n",
        "print('<p style=\"padding-left: 40px; text-align: right;\">'+ '(Update: '+ Post_date +')</p>')\r\n",
        "print('<p style=\"padding-left: 40px; text-align: right;\">'+ str(random) + ' minutes ago'+ '</p>')"
      ],
      "execution_count": null,
      "outputs": [
        {
          "output_type": "stream",
          "text": [
            "Copy and paste the following Ebay recent graduate code to wordpress\n",
            "Copy and paste the following Ebay recent gradaute code to wordpress\n",
            "<ol>\n",
            "<li><span style=\"color: #000000;\"><a style=\"color: #000000;\" href=\"https://jobs.ebayinc.com/job/san-jose/software-engineer-recent-graduate/403/1054728320\"target=\"_blank\" rel=\"noopener\">Software Engineer, Recent Graduate</a></span></li>\n",
            "<li><span style=\"color: #000000;\"><a style=\"color: #000000;\" href=\"https://jobs.ebayinc.com/job/san-jose/program-specialist-recent-graduate/403/1054729680\"target=\"_blank\" rel=\"noopener\">Program Specialist, Recent Graduate</a></span></li>\n",
            "<li><span style=\"color: #000000;\"><a style=\"color: #000000;\" href=\"https://jobs.ebayinc.com/job/san-jose/data-analyst-rcg/403/1054728816\"target=\"_blank\" rel=\"noopener\">Data Analyst RCG</a></span></li>\n",
            "<li><span style=\"color: #000000;\"><a style=\"color: #000000;\" href=\"https://jobs.ebayinc.com/job/san-jose/applied-researcher-recent-graduate/403/1296172912\"target=\"_blank\" rel=\"noopener\">Applied Researcher, Recent Graduate</a></span></li>\n",
            "<li><span style=\"color: #000000;\"><a style=\"color: #000000;\" href=\"https://jobs.ebayinc.com/job/san-jose/product-manager-recent-grad/403/1054729952\"target=\"_blank\" rel=\"noopener\">Product Manager Recent Grad</a></span></li>\n",
            "<li><span style=\"color: #000000;\"><a style=\"color: #000000;\" href=\"https://jobs.ebayinc.com/job/san-jose/data-science-engineer-recent-graduate/403/1054728752\"target=\"_blank\" rel=\"noopener\">Data Science Engineer, Recent Graduate</a></span></li>\n",
            "<li><a href=\"https://www.knorange.com/index.php/ebay-part-2-career/\"target=\"_blank\" rel=\"noopener\">More...</a>\n",
            "<ol>\n",
            "<p style=\"padding-left: 40px; text-align: right;\">(Update: Dec-26-2020)</p>\n",
            "<p style=\"padding-left: 40px; text-align: right;\">11 minutes ago</p>\n"
          ],
          "name": "stdout"
        }
      ]
    },
    {
      "cell_type": "markdown",
      "metadata": {
        "id": "G5Ju5PEdVYtW"
      },
      "source": [
        "# **HP**"
      ]
    },
    {
      "cell_type": "code",
      "metadata": {
        "id": "aZJv29r6eGqR",
        "colab": {
          "base_uri": "https://localhost:8080/"
        },
        "outputId": "2faaf12f-bd7b-449c-a7e3-87c6e815f7d1"
      },
      "source": [
        "from random import seed\r\n",
        "from random import random\r\n",
        "import random\r\n",
        "\r\n",
        "path = \"/content/drive/My Drive/career/HP.csv\"\r\n",
        "#!ls \"/content/drive/My Drive/career\"\r\n",
        "df_bonus = pd.read_csv(path)\r\n",
        "Job = df_bonus['Jobs']\r\n",
        "Link = df_bonus['Application Links']\r\n",
        "\r\n",
        "random = random.randint(7,20)\r\n",
        "print('Copy and paste the following HP code to wordpress')\r\n",
        "print('Copy and paste the following HP code to wordpress')\r\n",
        "print('<ol>')\r\n",
        "\r\n",
        "\r\n",
        "\r\n",
        "for i in range (6):\r\n",
        "  print('<li><span style=\"color: #000000;\"><a style=\"color: #000000;\" href=\"'+ Link[i]+ '\"' +  'target=\"_blank\" rel=\"noopener\">' + Job[i] + '</a></span></li>')\r\n",
        "\r\n",
        "\r\n",
        "\r\n",
        "print('<li><a href=\"https://www.knorange.com/index.php/hp-career/\"target=\"_blank\" rel=\"noopener\">More...</a>')\r\n",
        "\r\n",
        "\r\n",
        "print('<ol>')\r\n",
        "print('<p style=\"padding-left: 40px; text-align: right;\">'+ '(Update: '+ Post_date +')</p>')\r\n",
        "print('<p style=\"padding-left: 40px; text-align: right;\">'+ str(random) + ' minutes ago'+ '</p>')"
      ],
      "execution_count": null,
      "outputs": [
        {
          "output_type": "stream",
          "text": [
            "Copy and paste the following HP code to wordpress\n",
            "Copy and paste the following HP code to wordpress\n",
            "<ol>\n",
            "<li><span style=\"color: #000000;\"><a style=\"color: #000000;\" href=\"https://jobs.hp.com/en-us/showjob/jobid/6210/marketingmbasummerintern\"target=\"_blank\" rel=\"noopener\">Marketing MBA Summer Intern</a></span></li>\n",
            "<li><span style=\"color: #000000;\"><a style=\"color: #000000;\" href=\"https://jobs.hp.com/en-us/showjob/jobid/6369/globalmarketinginternship\"target=\"_blank\" rel=\"noopener\">Global Marketing Internship</a></span></li>\n",
            "<li><span style=\"color: #000000;\"><a style=\"color: #000000;\" href=\"https://jobs.hp.com/en-us/showjob/jobid/6276/officeofthehpcmombasummerintern2021\"target=\"_blank\" rel=\"noopener\">Office of the HP CMO MBA Summer Intern 2021</a></span></li>\n",
            "<li><span style=\"color: #000000;\"><a style=\"color: #000000;\" href=\"https://jobs.hp.com/en-us/showjob/jobid/6063/strategyleadprintservicessolutions\"target=\"_blank\" rel=\"noopener\">Strategy Lead, Print Services & Solutions</a></span></li>\n",
            "<li><span style=\"color: #000000;\"><a style=\"color: #000000;\" href=\"https://jobs.hp.com/en-us/showjob/jobid/5825/personalsystemsdesignintern\"target=\"_blank\" rel=\"noopener\">Personal Systems Design Intern</a></span></li>\n",
            "<li><span style=\"color: #000000;\"><a style=\"color: #000000;\" href=\"https://jobs.hp.com/en-us/showjob/jobid/701/globalpaidsearchmarketinganalystrecentgraduate%e2%80%93googleadwordsgoogleshopping\"target=\"_blank\" rel=\"noopener\">Global Paid Search Marketing Analyst (Recent Graduate) – Google Adwords & Google Shopping</a></span></li>\n",
            "<li><a href=\"https://www.knorange.com/index.php/hp-career/\"target=\"_blank\" rel=\"noopener\">More...</a>\n",
            "<ol>\n",
            "<p style=\"padding-left: 40px; text-align: right;\">(Update: Dec-26-2020)</p>\n",
            "<p style=\"padding-left: 40px; text-align: right;\">17 minutes ago</p>\n"
          ],
          "name": "stdout"
        }
      ]
    },
    {
      "cell_type": "markdown",
      "metadata": {
        "id": "wgP0G8HQVbJd"
      },
      "source": [
        "# **Intuit**"
      ]
    },
    {
      "cell_type": "code",
      "metadata": {
        "id": "zlAzqlWbeOqC",
        "colab": {
          "base_uri": "https://localhost:8080/"
        },
        "outputId": "afdd0521-807e-4a7a-ce5b-263f42075045"
      },
      "source": [
        "from random import seed\r\n",
        "from random import random\r\n",
        "import random\r\n",
        "\r\n",
        "path = \"/content/drive/My Drive/career/Intuit.csv\"\r\n",
        "#!ls \"/content/drive/My Drive/career\"\r\n",
        "df_bonus = pd.read_csv(path)\r\n",
        "Job = df_bonus['Jobs']\r\n",
        "Link = df_bonus['Application Links']\r\n",
        "\r\n",
        "random = random.randint(7,20)\r\n",
        "print('Copy and paste the following Intuit code to wordpress')\r\n",
        "print('Copy and paste the following Intuit code to wordpress')\r\n",
        "print('<ol>')\r\n",
        "\r\n",
        "\r\n",
        "\r\n",
        "for i in range (6):\r\n",
        "  print('<li><span style=\"color: #000000;\"><a style=\"color: #000000;\" href=\"'+ Link[i]+ '\"' +  'target=\"_blank\" rel=\"noopener\">' + Job[i] + '</a></span></li>')\r\n",
        "\r\n",
        "\r\n",
        "\r\n",
        "print('<li><a href=\"https://www.knorange.com/index.php/intuit-career/\"target=\"_blank\" rel=\"noopener\">More...</a>')\r\n",
        "\r\n",
        "\r\n",
        "print('<ol>')\r\n",
        "print('<p style=\"padding-left: 40px; text-align: right;\">'+ '(Update: '+ Post_date +')</p>')\r\n",
        "print('<p style=\"padding-left: 40px; text-align: right;\">'+ str(random) + ' minutes ago'+ '</p>')"
      ],
      "execution_count": null,
      "outputs": [
        {
          "output_type": "stream",
          "text": [
            "Copy and paste the following Intuit code to wordpress\n",
            "Copy and paste the following Intuit code to wordpress\n",
            "<ol>\n",
            "<li><span style=\"color: #000000;\"><a style=\"color: #000000;\" href=\"https://jobs.intuit.com/job/mountain-view/master-level-business-data-analyst-intern/27595/18284533\"target=\"_blank\" rel=\"noopener\">Master-Level Business Data Analyst Intern</a></span></li>\n",
            "<li><span style=\"color: #000000;\"><a style=\"color: #000000;\" href=\"https://jobs.intuit.com/job/ottawa/seasonal-french-bilingual-tax-expert-canada-remote/27595/18020010\"target=\"_blank\" rel=\"noopener\">Seasonal French Bilingual Tax Expert- Canada Remote</a></span></li>\n",
            "<li><span style=\"color: #000000;\"><a style=\"color: #000000;\" href=\"https://jobs.intuit.com/job/ottawa/seasonal-tax-expert-canada-remote/27595/18020005\"target=\"_blank\" rel=\"noopener\">Seasonal Tax Expert- Canada Remote</a></span></li>\n",
            "<li><span style=\"color: #000000;\"><a style=\"color: #000000;\" href=\"https://jobs.intuit.com/job/ottawa/remote-turbotax-live-seasonal-tax-expert-service-experience/27595/17713460\"target=\"_blank\" rel=\"noopener\">Remote -TurboTax Live Seasonal Tax Expert - Service Experience</a></span></li>\n",
            "<li><span style=\"color: #000000;\"><a style=\"color: #000000;\" href=\"https://jobs.intuit.com/job/san-diego/sr-software-engineering-manager-marketing-platforms/27595/18093378\"target=\"_blank\" rel=\"noopener\">Sr. Software Engineering Manager - Marketing Platforms</a></span></li>\n",
            "<li><span style=\"color: #000000;\"><a style=\"color: #000000;\" href=\"https://jobs.intuit.com/job/san-diego/senior-development-manager-marketing-platform/27595/17514853\"target=\"_blank\" rel=\"noopener\">Senior Development Manager - Marketing Platform</a></span></li>\n",
            "<li><a href=\"https://www.knorange.com/index.php/intuit-career/\"target=\"_blank\" rel=\"noopener\">More...</a>\n",
            "<ol>\n",
            "<p style=\"padding-left: 40px; text-align: right;\">(Update: Dec-26-2020)</p>\n",
            "<p style=\"padding-left: 40px; text-align: right;\">19 minutes ago</p>\n"
          ],
          "name": "stdout"
        }
      ]
    },
    {
      "cell_type": "markdown",
      "metadata": {
        "id": "DmEQlWCiVeRv"
      },
      "source": [
        "# **Lyft**"
      ]
    },
    {
      "cell_type": "code",
      "metadata": {
        "id": "z_7enH53eXdy",
        "colab": {
          "base_uri": "https://localhost:8080/"
        },
        "outputId": "196586d3-d055-4d3b-ea0e-6f9c5a0fe9df"
      },
      "source": [
        "from random import seed\r\n",
        "from random import random\r\n",
        "import random\r\n",
        "\r\n",
        "path = \"/content/drive/My Drive/career/Lyft.csv\"\r\n",
        "#!ls \"/content/drive/My Drive/career\"\r\n",
        "df_bonus = pd.read_csv(path)\r\n",
        "Job = df_bonus['Jobs']\r\n",
        "Link = df_bonus['Application Links']\r\n",
        "\r\n",
        "random = random.randint(7,20)\r\n",
        "print('Copy and paste the following Lyft code to wordpress')\r\n",
        "print('Copy and paste the following Lyft code to wordpress')\r\n",
        "print('<ol>')\r\n",
        "\r\n",
        "\r\n",
        "\r\n",
        "for i in range (6):\r\n",
        "  print('<li><span style=\"color: #000000;\"><a style=\"color: #000000;\" href=\"'+ Link[i]+ '\"' +  'target=\"_blank\" rel=\"noopener\">' + Job[i] + '</a></span></li>')\r\n",
        "\r\n",
        "\r\n",
        "\r\n",
        "print('<li><a href=\"https://www.knorange.com/index.php/lyft-career/\"target=\"_blank\" rel=\"noopener\">More...</a>')\r\n",
        "\r\n",
        "\r\n",
        "print('<ol>')\r\n",
        "print('<p style=\"padding-left: 40px; text-align: right;\">'+ '(Update: '+ Post_date +')</p>')\r\n",
        "print('<p style=\"padding-left: 40px; text-align: right;\">'+ str(random) + ' minutes ago'+ '</p>')"
      ],
      "execution_count": null,
      "outputs": [
        {
          "output_type": "stream",
          "text": [
            "Copy and paste the following Lyft code to wordpress\n",
            "Copy and paste the following Lyft code to wordpress\n",
            "<ol>\n",
            "<li><span style=\"color: #000000;\"><a style=\"color: #000000;\" href=\"https://boards.greenhouse.io/lyft/jobs/4932111002?gh_jid=4932111002\"target=\"_blank\" rel=\"noopener\">Data Privacy Analyst Intern (2021)\n",
            "Remote in California</a></span></li>\n",
            "<li><span style=\"color: #000000;\"><a style=\"color: #000000;\" href=\"https://boards.greenhouse.io/lyft/jobs/4953681002?gh_jid=4953681002\"target=\"_blank\" rel=\"noopener\">Data Science Intern, Algorithms - Machine Learning (2021)\n",
            "Remote in U.S.</a></span></li>\n",
            "<li><span style=\"color: #000000;\"><a style=\"color: #000000;\" href=\"https://boards.greenhouse.io/lyft/jobs/4953696002?gh_jid=4953696002\"target=\"_blank\" rel=\"noopener\">Data Science Intern, Algorithms - Optimization (2021)\n",
            "Remote in U.S.</a></span></li>\n",
            "<li><span style=\"color: #000000;\"><a style=\"color: #000000;\" href=\"https://boards.greenhouse.io/lyft/jobs/4953715002?gh_jid=4953715002\"target=\"_blank\" rel=\"noopener\">Data Science Intern, Decisions - Inference (2021)\n",
            "Remote in U.S.</a></span></li>\n",
            "<li><span style=\"color: #000000;\"><a style=\"color: #000000;\" href=\"https://boards.greenhouse.io/lyft/jobs/4851581002?gh_jid=4851581002\"target=\"_blank\" rel=\"noopener\">Data Science Intern, Decisions - Product (2021)\n",
            "Remote in U.S.</a></span></li>\n",
            "<li><span style=\"color: #000000;\"><a style=\"color: #000000;\" href=\"https://boards.greenhouse.io/lyft/jobs/4940647002?gh_jid=4940647002\"target=\"_blank\" rel=\"noopener\">Economist Intern (2021)\n",
            "Remote in U.S.</a></span></li>\n",
            "<li><a href=\"https://www.knorange.com/index.php/lyft-career/\"target=\"_blank\" rel=\"noopener\">More...</a>\n",
            "<ol>\n",
            "<p style=\"padding-left: 40px; text-align: right;\">(Update: Dec-26-2020)</p>\n",
            "<p style=\"padding-left: 40px; text-align: right;\">18 minutes ago</p>\n"
          ],
          "name": "stdout"
        }
      ]
    },
    {
      "cell_type": "markdown",
      "metadata": {
        "id": "ekNhjR13VgS5"
      },
      "source": [
        "# **Paypal**"
      ]
    },
    {
      "cell_type": "code",
      "metadata": {
        "id": "bwzLiwOKec6B",
        "colab": {
          "base_uri": "https://localhost:8080/"
        },
        "outputId": "20cbe397-dc47-4e1e-c8ce-7002d11e34c3"
      },
      "source": [
        "from random import seed\r\n",
        "from random import random\r\n",
        "import random\r\n",
        "\r\n",
        "path = \"/content/drive/My Drive/career/PayPal.csv\"\r\n",
        "#!ls \"/content/drive/My Drive/career\"\r\n",
        "df_bonus = pd.read_csv(path)\r\n",
        "Job = df_bonus['Jobs']\r\n",
        "Link = df_bonus['Application Links']\r\n",
        "Location = df_bonus['Location']\r\n",
        "\r\n",
        "random = random.randint(7,20)\r\n",
        "print('Copy and paste the following PayPalcode to wordpress')\r\n",
        "print('Copy and paste the following PayPal code to wordpress')\r\n",
        "print('<ol>')\r\n",
        "\r\n",
        "\r\n",
        "\r\n",
        "for i in range (6):\r\n",
        "  print('<li><span style=\"color: #000000;\"><a style=\"color: #000000;\" href=\"'+ Link[i]+ '\"' +  'target=\"_blank\" rel=\"noopener\">' + Job[i] + Location[i]+ '</a></span></li>')\r\n",
        "\r\n",
        "\r\n",
        "\r\n",
        "print('<li><a href=\"https://www.knorange.com/index.php/paypal-career/\"target=\"_blank\" rel=\"noopener\">More...</a>')\r\n",
        "\r\n",
        "\r\n",
        "print('<ol>')\r\n",
        "print('<p style=\"padding-left: 40px; text-align: right;\">'+ '(Update: '+ Post_date +')</p>')\r\n",
        "print('<p style=\"padding-left: 40px; text-align: right;\">'+ str(random) + ' minutes ago'+ '</p>')"
      ],
      "execution_count": null,
      "outputs": [
        {
          "output_type": "stream",
          "text": [
            "Copy and paste the following PayPalcode to wordpress\n",
            "Copy and paste the following PayPal code to wordpress\n",
            "<ol>\n",
            "<li><span style=\"color: #000000;\"><a style=\"color: #000000;\" href=\"https://jobsearch.paypal-corp.com/en-US/job/venmo-commercial-manager-mba-intern/J3T22160NLJS7LYD6GY\"target=\"_blank\" rel=\"noopener\">Venmo Commercial Manager MBA Intern\n",
            "New York, NY\n",
            "</a></span></li>\n",
            "<li><span style=\"color: #000000;\"><a style=\"color: #000000;\" href=\"https://jobsearch.paypal-corp.com/en-US/job/software-engineer-intern/J3Q6TN6R7SBFS42F4WP\"target=\"_blank\" rel=\"noopener\">Software Engineer Intern\n",
            "Remote Indiana, IN\n",
            "</a></span></li>\n",
            "<li><span style=\"color: #000000;\"><a style=\"color: #000000;\" href=\"https://jobsearch.paypal-corp.com/en-US/job/software-engineer-intern/J3V0TF6VCGZCG6YNJ4T\"target=\"_blank\" rel=\"noopener\">Software Engineer Intern\n",
            "Remote Arizona, AZ\n",
            "</a></span></li>\n",
            "<li><span style=\"color: #000000;\"><a style=\"color: #000000;\" href=\"https://jobsearch.paypal-corp.com/en-US/job/software-engineer-intern/J3S5WX6SKT4GPDSQCB1\"target=\"_blank\" rel=\"noopener\">Software Engineer Intern\n",
            "Newton - Massachusetts, MA\n",
            "</a></span></li>\n",
            "<li><span style=\"color: #000000;\"><a style=\"color: #000000;\" href=\"https://jobsearch.paypal-corp.com/en-US/job/software-engineer-intern/J3P4466G96M1Q3ZXW6J\"target=\"_blank\" rel=\"noopener\">Software Engineer Intern\n",
            "Remote Virginia, VA\n",
            "</a></span></li>\n",
            "<li><span style=\"color: #000000;\"><a style=\"color: #000000;\" href=\"https://jobsearch.paypal-corp.com/en-US/job/software-engineer-intern/J3R2DP7798J524QCGN2\"target=\"_blank\" rel=\"noopener\">Software Engineer Intern\n",
            "San Francisco - Braintree/Venmo, CA\n",
            "</a></span></li>\n",
            "<li><a href=\"https://www.knorange.com/index.php/paypal-career/\"target=\"_blank\" rel=\"noopener\">More...</a>\n",
            "<ol>\n",
            "<p style=\"padding-left: 40px; text-align: right;\">(Update: Dec-26-2020)</p>\n",
            "<p style=\"padding-left: 40px; text-align: right;\">12 minutes ago</p>\n"
          ],
          "name": "stdout"
        }
      ]
    },
    {
      "cell_type": "markdown",
      "metadata": {
        "id": "6z0xkHOxVjBd"
      },
      "source": [
        "**#Orcalce**"
      ]
    },
    {
      "cell_type": "code",
      "metadata": {
        "id": "jTMCOSSNekZs",
        "colab": {
          "base_uri": "https://localhost:8080/"
        },
        "outputId": "644ec8aa-09c3-4e85-a9f9-19c9473905eb"
      },
      "source": [
        "from random import seed\r\n",
        "from random import random\r\n",
        "import random\r\n",
        "\r\n",
        "path = \"/content/drive/My Drive/career/Oracle.csv\"\r\n",
        "#!ls \"/content/drive/My Drive/career\"\r\n",
        "df_bonus = pd.read_csv(path)\r\n",
        "Job = df_bonus['Jobs']\r\n",
        "Link = df_bonus['Application Links']\r\n",
        "\r\n",
        "random = random.randint(7,20)\r\n",
        "print('Copy and paste the following Oracle code to wordpress')\r\n",
        "print('Copy and paste the following Oracle code to wordpress')\r\n",
        "print('<ol>')\r\n",
        "\r\n",
        "\r\n",
        "if (len(df_bonus)<7):\r\n",
        "    \r\n",
        "  for i in range (len(df_bonus)):\r\n",
        "    print('<li><span style=\"color: #000000;\"><a style=\"color: #000000;\" href=\"'+ Link[i]+ '\"' +  'target=\"_blank\" rel=\"noopener\">' + Job[i] + '</a></span></li>')\r\n",
        "\r\n",
        "\r\n",
        "\r\n",
        "  \r\n",
        "else:\r\n",
        "    \r\n",
        "  for i in range (6):\r\n",
        "    print('<li><span style=\"color: #000000;\"><a style=\"color: #000000;\" href=\"'+ Link[i]+ '\"' +  'target=\"_blank\" rel=\"noopener\">' + Job[i] + '</a></span></li>')\r\n",
        "\r\n",
        "\r\n",
        "\r\n",
        "print('<li><a href=\"https://www.knorange.com/index.php/oracle-career/\"target=\"_blank\" rel=\"noopener\">More...</a>')\r\n",
        "print('<ol>')\r\n",
        "print('<p style=\"padding-left: 40px; text-align: right;\">'+ '(Update: '+ Post_date +')</p>')\r\n",
        "print('<p style=\"padding-left: 40px; text-align: right;\">'+ str(random) + ' minutes ago'+ '</p>')\r\n",
        "\r\n"
      ],
      "execution_count": null,
      "outputs": [
        {
          "output_type": "stream",
          "text": [
            "Copy and paste the following Oracle code to wordpress\n",
            "Copy and paste the following Oracle code to wordpress\n",
            "<ol>\n",
            "<li><span style=\"color: #000000;\"><a style=\"color: #000000;\" href=\"https://oracle.taleo.net/careersection/3/jobdetail.ftl?job=200015WY&tz=GMT%2B00%3A00&tzname=UTC\"target=\"_blank\" rel=\"noopener\">2021 Class Of Business Development Consultant – Indiana University – Summer</a></span></li>\n",
            "<li><span style=\"color: #000000;\"><a style=\"color: #000000;\" href=\"https://oracle.taleo.net/careersection/3/jobdetail.ftl?job=2000143H&tz=GMT%2B00%3A00&tzname=UTC\"target=\"_blank\" rel=\"noopener\">2021 Class Of Business Development Consultant – Ohio State University – Summer</a></span></li>\n",
            "<li><span style=\"color: #000000;\"><a style=\"color: #000000;\" href=\"https://oracle.taleo.net/careersection/3/jobdetail.ftl?job=200016F1&tz=GMT%2B00%3A00&tzname=UTC\"target=\"_blank\" rel=\"noopener\">Associate Software Developer</a></span></li>\n",
            "<li><span style=\"color: #000000;\"><a style=\"color: #000000;\" href=\"https://oracle.taleo.net/careersection/3/jobdetail.ftl?job=200016F3&tz=GMT%2B00%3A00&tzname=UTC\"target=\"_blank\" rel=\"noopener\">Associate Software Developer in Test</a></span></li>\n",
            "<li><span style=\"color: #000000;\"><a style=\"color: #000000;\" href=\"https://oracle.taleo.net/careersection/3/jobdetail.ftl?job=200016BR&tz=GMT%2B00%3A00&tzname=UTC\"target=\"_blank\" rel=\"noopener\">NetSuite Functional Associate Consultant</a></span></li>\n",
            "<li><span style=\"color: #000000;\"><a style=\"color: #000000;\" href=\"https://oracle.taleo.net/careersection/3/jobdetail.ftl?job=200016C0&tz=GMT%2B00%3A00&tzname=UTC\"target=\"_blank\" rel=\"noopener\">NetSuite Functional Associate Consultant</a></span></li>\n",
            "<li><a href=\"https://www.knorange.com/index.php/oracle-career/\"target=\"_blank\" rel=\"noopener\">More...</a>\n",
            "<ol>\n",
            "<p style=\"padding-left: 40px; text-align: right;\">(Update: Dec-26-2020)</p>\n",
            "<p style=\"padding-left: 40px; text-align: right;\">16 minutes ago</p>\n"
          ],
          "name": "stdout"
        }
      ]
    },
    {
      "cell_type": "markdown",
      "metadata": {
        "id": "p-V5zFCPVl4f"
      },
      "source": [
        "# **Reddit**"
      ]
    },
    {
      "cell_type": "code",
      "metadata": {
        "id": "V5DEctj4eolm",
        "colab": {
          "base_uri": "https://localhost:8080/"
        },
        "outputId": "10d56b07-c185-40c6-a493-328112d9af51"
      },
      "source": [
        "from random import seed\r\n",
        "from random import random\r\n",
        "import random\r\n",
        "\r\n",
        "path = \"/content/drive/My Drive/career/Reddit.csv\"\r\n",
        "#!ls \"/content/drive/My Drive/career\"\r\n",
        "df_bonus = pd.read_csv(path)\r\n",
        "Job = df_bonus['Jobs']\r\n",
        "Link = df_bonus['Application Links']\r\n",
        "\r\n",
        "random = random.randint(7,20)\r\n",
        "print('Copy and paste the following Reddit code to wordpress')\r\n",
        "print('Copy and paste the following Reddit code to wordpress')\r\n",
        "print('<ol>')\r\n",
        "\r\n",
        "\r\n",
        "\r\n",
        "if (len(df_bonus)<7):\r\n",
        "    \r\n",
        "  for i in range (len(df_bonus)):\r\n",
        "    print('<li><span style=\"color: #000000;\"><a style=\"color: #000000;\" href=\"'+ Link[i]+ '\"' +  'target=\"_blank\" rel=\"noopener\">' + Job[i] + '</a></span></li>')\r\n",
        "\r\n",
        "\r\n",
        "\r\n",
        "  \r\n",
        "else:\r\n",
        "    \r\n",
        "  for i in range (6):\r\n",
        "    print('<li><span style=\"color: #000000;\"><a style=\"color: #000000;\" href=\"'+ Link[i]+ '\"' +  'target=\"_blank\" rel=\"noopener\">' + Job[i] + '</a></span></li>')\r\n",
        "\r\n",
        "\r\n",
        "print('<li><a href=\"https://www.knorange.com/index.php/reddit-career/\"target=\"_blank\" rel=\"noopener\">More...</a>')\r\n",
        "print('<ol>')\r\n",
        "print('<p style=\"padding-left: 40px; text-align: right;\">'+ '(Update: '+ Post_date +')</p>')\r\n",
        "print('<p style=\"padding-left: 40px; text-align: right;\">'+ str(random) + ' minutes ago'+ '</p>')"
      ],
      "execution_count": null,
      "outputs": [
        {
          "output_type": "stream",
          "text": [
            "Copy and paste the following Reddit code to wordpress\n",
            "Copy and paste the following Reddit code to wordpress\n",
            "<ol>\n",
            "<li><span style=\"color: #000000;\"><a style=\"color: #000000;\" href=\"https://boards.greenhouse.io/reddit/jobs/2306100\"target=\"_blank\" rel=\"noopener\">Senior Backend Engineer, Machine Learning Infrastructure</a></span></li>\n",
            "<li><a href=\"https://www.knorange.com/index.php/reddit-career/\"target=\"_blank\" rel=\"noopener\">More...</a>\n",
            "<ol>\n",
            "<p style=\"padding-left: 40px; text-align: right;\">(Update: Dec-26-2020)</p>\n",
            "<p style=\"padding-left: 40px; text-align: right;\">16 minutes ago</p>\n"
          ],
          "name": "stdout"
        }
      ]
    },
    {
      "cell_type": "markdown",
      "metadata": {
        "id": "3Yvk1b0xVnvt"
      },
      "source": [
        "# **Samsung**"
      ]
    },
    {
      "cell_type": "code",
      "metadata": {
        "id": "zRDjKb0mes4g",
        "colab": {
          "base_uri": "https://localhost:8080/",
          "height": 438
        },
        "outputId": "0cfc2976-cb90-4ec1-b77e-9c8e6c019913"
      },
      "source": [
        "from random import seed\r\n",
        "from random import random\r\n",
        "import random\r\n",
        "\r\n",
        "path = \"/content/drive/My Drive/career/Samsung.csv\"\r\n",
        "#!ls \"/content/drive/My Drive/career\"\r\n",
        "df_bonus = pd.read_csv(path)\r\n",
        "Job = df_bonus['Jobs']\r\n",
        "Link = df_bonus['Application Links']\r\n",
        "\r\n",
        "random = random.randint(7,20)\r\n",
        "print('Copy and paste the following Samsung code to wordpress')\r\n",
        "print('Copy and paste the following Samsung code to wordpress')\r\n",
        "print('<ol>')\r\n",
        "\r\n",
        "\r\n",
        "if (len(df_bonus)<7):\r\n",
        "    \r\n",
        "  for i in range (len(df_bonus)):\r\n",
        "    print('<li><span style=\"color: #000000;\"><a style=\"color: #000000;\" href=\"'+ Link[i]+ '\"' +  'target=\"_blank\" rel=\"noopener\">' + Job[i] + '</a></span></li>')\r\n",
        "\r\n",
        "\r\n",
        "\r\n",
        "  \r\n",
        "else:\r\n",
        "    \r\n",
        "  for i in range (6):\r\n",
        "    print('<li><span style=\"color: #000000;\"><a style=\"color: #000000;\" href=\"'+ Link[i]+ '\"' +  'target=\"_blank\" rel=\"noopener\">' + Job[i] + '</a></span></li>')\r\n",
        "\r\n",
        "\r\n",
        "print('<li><a href=\"https://www.knorange.com/index.php/samsung-career/\"target=\"_blank\" rel=\"noopener\">More...</a>')\r\n",
        "\r\n",
        "\r\n",
        "print('<ol>')\r\n",
        "print('<p style=\"padding-left: 40px; text-align: right;\">'+ '(Update: '+ Post_date +')</p>')\r\n",
        "print('<p style=\"padding-left: 40px; text-align: right;\">'+ str(random) + ' minutes ago'+ '</p>')"
      ],
      "execution_count": null,
      "outputs": [
        {
          "output_type": "error",
          "ename": "FileNotFoundError",
          "evalue": "ignored",
          "traceback": [
            "\u001b[0;31m---------------------------------------------------------------------------\u001b[0m",
            "\u001b[0;31mFileNotFoundError\u001b[0m                         Traceback (most recent call last)",
            "\u001b[0;32m<ipython-input-27-effe15984c34>\u001b[0m in \u001b[0;36m<module>\u001b[0;34m()\u001b[0m\n\u001b[1;32m      5\u001b[0m \u001b[0mpath\u001b[0m \u001b[0;34m=\u001b[0m \u001b[0;34m\"/content/drive/My Drive/career/Samsung.csv\"\u001b[0m\u001b[0;34m\u001b[0m\u001b[0;34m\u001b[0m\u001b[0m\n\u001b[1;32m      6\u001b[0m \u001b[0;31m#!ls \"/content/drive/My Drive/career\"\u001b[0m\u001b[0;34m\u001b[0m\u001b[0;34m\u001b[0m\u001b[0;34m\u001b[0m\u001b[0m\n\u001b[0;32m----> 7\u001b[0;31m \u001b[0mdf_bonus\u001b[0m \u001b[0;34m=\u001b[0m \u001b[0mpd\u001b[0m\u001b[0;34m.\u001b[0m\u001b[0mread_csv\u001b[0m\u001b[0;34m(\u001b[0m\u001b[0mpath\u001b[0m\u001b[0;34m)\u001b[0m\u001b[0;34m\u001b[0m\u001b[0;34m\u001b[0m\u001b[0m\n\u001b[0m\u001b[1;32m      8\u001b[0m \u001b[0mJob\u001b[0m \u001b[0;34m=\u001b[0m \u001b[0mdf_bonus\u001b[0m\u001b[0;34m[\u001b[0m\u001b[0;34m'Jobs'\u001b[0m\u001b[0;34m]\u001b[0m\u001b[0;34m\u001b[0m\u001b[0;34m\u001b[0m\u001b[0m\n\u001b[1;32m      9\u001b[0m \u001b[0mLink\u001b[0m \u001b[0;34m=\u001b[0m \u001b[0mdf_bonus\u001b[0m\u001b[0;34m[\u001b[0m\u001b[0;34m'Application Links'\u001b[0m\u001b[0;34m]\u001b[0m\u001b[0;34m\u001b[0m\u001b[0;34m\u001b[0m\u001b[0m\n",
            "\u001b[0;32m/usr/local/lib/python3.6/dist-packages/pandas/io/parsers.py\u001b[0m in \u001b[0;36mread_csv\u001b[0;34m(filepath_or_buffer, sep, delimiter, header, names, index_col, usecols, squeeze, prefix, mangle_dupe_cols, dtype, engine, converters, true_values, false_values, skipinitialspace, skiprows, skipfooter, nrows, na_values, keep_default_na, na_filter, verbose, skip_blank_lines, parse_dates, infer_datetime_format, keep_date_col, date_parser, dayfirst, cache_dates, iterator, chunksize, compression, thousands, decimal, lineterminator, quotechar, quoting, doublequote, escapechar, comment, encoding, dialect, error_bad_lines, warn_bad_lines, delim_whitespace, low_memory, memory_map, float_precision)\u001b[0m\n\u001b[1;32m    686\u001b[0m     )\n\u001b[1;32m    687\u001b[0m \u001b[0;34m\u001b[0m\u001b[0m\n\u001b[0;32m--> 688\u001b[0;31m     \u001b[0;32mreturn\u001b[0m \u001b[0m_read\u001b[0m\u001b[0;34m(\u001b[0m\u001b[0mfilepath_or_buffer\u001b[0m\u001b[0;34m,\u001b[0m \u001b[0mkwds\u001b[0m\u001b[0;34m)\u001b[0m\u001b[0;34m\u001b[0m\u001b[0;34m\u001b[0m\u001b[0m\n\u001b[0m\u001b[1;32m    689\u001b[0m \u001b[0;34m\u001b[0m\u001b[0m\n\u001b[1;32m    690\u001b[0m \u001b[0;34m\u001b[0m\u001b[0m\n",
            "\u001b[0;32m/usr/local/lib/python3.6/dist-packages/pandas/io/parsers.py\u001b[0m in \u001b[0;36m_read\u001b[0;34m(filepath_or_buffer, kwds)\u001b[0m\n\u001b[1;32m    452\u001b[0m \u001b[0;34m\u001b[0m\u001b[0m\n\u001b[1;32m    453\u001b[0m     \u001b[0;31m# Create the parser.\u001b[0m\u001b[0;34m\u001b[0m\u001b[0;34m\u001b[0m\u001b[0;34m\u001b[0m\u001b[0m\n\u001b[0;32m--> 454\u001b[0;31m     \u001b[0mparser\u001b[0m \u001b[0;34m=\u001b[0m \u001b[0mTextFileReader\u001b[0m\u001b[0;34m(\u001b[0m\u001b[0mfp_or_buf\u001b[0m\u001b[0;34m,\u001b[0m \u001b[0;34m**\u001b[0m\u001b[0mkwds\u001b[0m\u001b[0;34m)\u001b[0m\u001b[0;34m\u001b[0m\u001b[0;34m\u001b[0m\u001b[0m\n\u001b[0m\u001b[1;32m    455\u001b[0m \u001b[0;34m\u001b[0m\u001b[0m\n\u001b[1;32m    456\u001b[0m     \u001b[0;32mif\u001b[0m \u001b[0mchunksize\u001b[0m \u001b[0;32mor\u001b[0m \u001b[0miterator\u001b[0m\u001b[0;34m:\u001b[0m\u001b[0;34m\u001b[0m\u001b[0;34m\u001b[0m\u001b[0m\n",
            "\u001b[0;32m/usr/local/lib/python3.6/dist-packages/pandas/io/parsers.py\u001b[0m in \u001b[0;36m__init__\u001b[0;34m(self, f, engine, **kwds)\u001b[0m\n\u001b[1;32m    946\u001b[0m             \u001b[0mself\u001b[0m\u001b[0;34m.\u001b[0m\u001b[0moptions\u001b[0m\u001b[0;34m[\u001b[0m\u001b[0;34m\"has_index_names\"\u001b[0m\u001b[0;34m]\u001b[0m \u001b[0;34m=\u001b[0m \u001b[0mkwds\u001b[0m\u001b[0;34m[\u001b[0m\u001b[0;34m\"has_index_names\"\u001b[0m\u001b[0;34m]\u001b[0m\u001b[0;34m\u001b[0m\u001b[0;34m\u001b[0m\u001b[0m\n\u001b[1;32m    947\u001b[0m \u001b[0;34m\u001b[0m\u001b[0m\n\u001b[0;32m--> 948\u001b[0;31m         \u001b[0mself\u001b[0m\u001b[0;34m.\u001b[0m\u001b[0m_make_engine\u001b[0m\u001b[0;34m(\u001b[0m\u001b[0mself\u001b[0m\u001b[0;34m.\u001b[0m\u001b[0mengine\u001b[0m\u001b[0;34m)\u001b[0m\u001b[0;34m\u001b[0m\u001b[0;34m\u001b[0m\u001b[0m\n\u001b[0m\u001b[1;32m    949\u001b[0m \u001b[0;34m\u001b[0m\u001b[0m\n\u001b[1;32m    950\u001b[0m     \u001b[0;32mdef\u001b[0m \u001b[0mclose\u001b[0m\u001b[0;34m(\u001b[0m\u001b[0mself\u001b[0m\u001b[0;34m)\u001b[0m\u001b[0;34m:\u001b[0m\u001b[0;34m\u001b[0m\u001b[0;34m\u001b[0m\u001b[0m\n",
            "\u001b[0;32m/usr/local/lib/python3.6/dist-packages/pandas/io/parsers.py\u001b[0m in \u001b[0;36m_make_engine\u001b[0;34m(self, engine)\u001b[0m\n\u001b[1;32m   1178\u001b[0m     \u001b[0;32mdef\u001b[0m \u001b[0m_make_engine\u001b[0m\u001b[0;34m(\u001b[0m\u001b[0mself\u001b[0m\u001b[0;34m,\u001b[0m \u001b[0mengine\u001b[0m\u001b[0;34m=\u001b[0m\u001b[0;34m\"c\"\u001b[0m\u001b[0;34m)\u001b[0m\u001b[0;34m:\u001b[0m\u001b[0;34m\u001b[0m\u001b[0;34m\u001b[0m\u001b[0m\n\u001b[1;32m   1179\u001b[0m         \u001b[0;32mif\u001b[0m \u001b[0mengine\u001b[0m \u001b[0;34m==\u001b[0m \u001b[0;34m\"c\"\u001b[0m\u001b[0;34m:\u001b[0m\u001b[0;34m\u001b[0m\u001b[0;34m\u001b[0m\u001b[0m\n\u001b[0;32m-> 1180\u001b[0;31m             \u001b[0mself\u001b[0m\u001b[0;34m.\u001b[0m\u001b[0m_engine\u001b[0m \u001b[0;34m=\u001b[0m \u001b[0mCParserWrapper\u001b[0m\u001b[0;34m(\u001b[0m\u001b[0mself\u001b[0m\u001b[0;34m.\u001b[0m\u001b[0mf\u001b[0m\u001b[0;34m,\u001b[0m \u001b[0;34m**\u001b[0m\u001b[0mself\u001b[0m\u001b[0;34m.\u001b[0m\u001b[0moptions\u001b[0m\u001b[0;34m)\u001b[0m\u001b[0;34m\u001b[0m\u001b[0;34m\u001b[0m\u001b[0m\n\u001b[0m\u001b[1;32m   1181\u001b[0m         \u001b[0;32melse\u001b[0m\u001b[0;34m:\u001b[0m\u001b[0;34m\u001b[0m\u001b[0;34m\u001b[0m\u001b[0m\n\u001b[1;32m   1182\u001b[0m             \u001b[0;32mif\u001b[0m \u001b[0mengine\u001b[0m \u001b[0;34m==\u001b[0m \u001b[0;34m\"python\"\u001b[0m\u001b[0;34m:\u001b[0m\u001b[0;34m\u001b[0m\u001b[0;34m\u001b[0m\u001b[0m\n",
            "\u001b[0;32m/usr/local/lib/python3.6/dist-packages/pandas/io/parsers.py\u001b[0m in \u001b[0;36m__init__\u001b[0;34m(self, src, **kwds)\u001b[0m\n\u001b[1;32m   2008\u001b[0m         \u001b[0mkwds\u001b[0m\u001b[0;34m[\u001b[0m\u001b[0;34m\"usecols\"\u001b[0m\u001b[0;34m]\u001b[0m \u001b[0;34m=\u001b[0m \u001b[0mself\u001b[0m\u001b[0;34m.\u001b[0m\u001b[0musecols\u001b[0m\u001b[0;34m\u001b[0m\u001b[0;34m\u001b[0m\u001b[0m\n\u001b[1;32m   2009\u001b[0m \u001b[0;34m\u001b[0m\u001b[0m\n\u001b[0;32m-> 2010\u001b[0;31m         \u001b[0mself\u001b[0m\u001b[0;34m.\u001b[0m\u001b[0m_reader\u001b[0m \u001b[0;34m=\u001b[0m \u001b[0mparsers\u001b[0m\u001b[0;34m.\u001b[0m\u001b[0mTextReader\u001b[0m\u001b[0;34m(\u001b[0m\u001b[0msrc\u001b[0m\u001b[0;34m,\u001b[0m \u001b[0;34m**\u001b[0m\u001b[0mkwds\u001b[0m\u001b[0;34m)\u001b[0m\u001b[0;34m\u001b[0m\u001b[0;34m\u001b[0m\u001b[0m\n\u001b[0m\u001b[1;32m   2011\u001b[0m         \u001b[0mself\u001b[0m\u001b[0;34m.\u001b[0m\u001b[0munnamed_cols\u001b[0m \u001b[0;34m=\u001b[0m \u001b[0mself\u001b[0m\u001b[0;34m.\u001b[0m\u001b[0m_reader\u001b[0m\u001b[0;34m.\u001b[0m\u001b[0munnamed_cols\u001b[0m\u001b[0;34m\u001b[0m\u001b[0;34m\u001b[0m\u001b[0m\n\u001b[1;32m   2012\u001b[0m \u001b[0;34m\u001b[0m\u001b[0m\n",
            "\u001b[0;32mpandas/_libs/parsers.pyx\u001b[0m in \u001b[0;36mpandas._libs.parsers.TextReader.__cinit__\u001b[0;34m()\u001b[0m\n",
            "\u001b[0;32mpandas/_libs/parsers.pyx\u001b[0m in \u001b[0;36mpandas._libs.parsers.TextReader._setup_parser_source\u001b[0;34m()\u001b[0m\n",
            "\u001b[0;31mFileNotFoundError\u001b[0m: [Errno 2] No such file or directory: '/content/drive/My Drive/career/Samsung.csv'"
          ]
        }
      ]
    },
    {
      "cell_type": "markdown",
      "metadata": {
        "id": "F8weQl8AVqrv"
      },
      "source": [
        "# **T mobile intern**"
      ]
    },
    {
      "cell_type": "code",
      "metadata": {
        "id": "pV45UaJAe-v4",
        "colab": {
          "base_uri": "https://localhost:8080/"
        },
        "outputId": "0536e900-1f1a-45c3-8bac-03a7695be8db"
      },
      "source": [
        "from random import seed\r\n",
        "from random import random\r\n",
        "import random\r\n",
        "\r\n",
        "path = \"/content/drive/My Drive/career/TMobile_Part_1.csv\"\r\n",
        "#!ls \"/content/drive/My Drive/career\"\r\n",
        "df_bonus = pd.read_csv(path)\r\n",
        "Job = df_bonus['Jobs']\r\n",
        "Link = df_bonus['Application Links']\r\n",
        "\r\n",
        "random = random.randint(7,20)\r\n",
        "print('Copy and paste the following TMobile internship code to wordpress')\r\n",
        "print('Copy and paste the following TMobile internship code to wordpress')\r\n",
        "print('<ol>')\r\n",
        "\r\n",
        "\r\n",
        "\r\n",
        "if (len(df_bonus)<7):\r\n",
        "    \r\n",
        "  for i in range (len(df_bonus)):\r\n",
        "    print('<li><span style=\"color: #000000;\"><a style=\"color: #000000;\" href=\"'+ Link[i]+ '\"' +  'target=\"_blank\" rel=\"noopener\">' + Job[i] + '</a></span></li>')\r\n",
        "\r\n",
        "\r\n",
        "\r\n",
        "  \r\n",
        "else:\r\n",
        "    \r\n",
        "  for i in range (6):\r\n",
        "    print('<li><span style=\"color: #000000;\"><a style=\"color: #000000;\" href=\"'+ Link[i]+ '\"' +  'target=\"_blank\" rel=\"noopener\">' + Job[i] + '</a></span></li>')\r\n",
        "\r\n",
        "\r\n",
        "\r\n",
        "print('<li><a href=\"https://www.knorange.com/index.php/tmobile-part-1-career/\"target=\"_blank\" rel=\"noopener\">More...</a>')\r\n",
        "\r\n",
        "\r\n",
        "print('<ol>')\r\n",
        "print('<p style=\"padding-left: 40px; text-align: right;\">'+ '(Update: '+ Post_date +')</p>')\r\n",
        "print('<p style=\"padding-left: 40px; text-align: right;\">'+ str(random) + ' minutes ago'+ '</p>')"
      ],
      "execution_count": null,
      "outputs": [
        {
          "output_type": "stream",
          "text": [
            "Copy and paste the following TMobile internship code to wordpress\n",
            "Copy and paste the following TMobile internship code to wordpress\n",
            "<ol>\n",
            "<li><span style=\"color: #000000;\"><a style=\"color: #000000;\" href=\"https://www.tmobile.careers/job-details/engineering/155288BR-2021-advanced--emerging-technology-internships\"target=\"_blank\" rel=\"noopener\">2021 Advanced & Emerging Technology Internships</a></span></li>\n",
            "<li><span style=\"color: #000000;\"><a style=\"color: #000000;\" href=\"https://www.tmobile.careers/job-details/training/150930BR-2021-customer-care-internships\"target=\"_blank\" rel=\"noopener\">2021 Customer Care Internships</a></span></li>\n",
            "<li><span style=\"color: #000000;\"><a style=\"color: #000000;\" href=\"https://www.tmobile.careers/job-details/retail/150929BR-2021-consumer-markets-internships\"target=\"_blank\" rel=\"noopener\">2021 Consumer Markets Internships</a></span></li>\n",
            "<li><span style=\"color: #000000;\"><a style=\"color: #000000;\" href=\"https://www.tmobile.careers/job-details/engineering/150847BR-2021-field-engineering-project-management-internship-west-region\"target=\"_blank\" rel=\"noopener\">2021 Field Engineering (Project Management) Internship (West Region)</a></span></li>\n",
            "<li><span style=\"color: #000000;\"><a style=\"color: #000000;\" href=\"https://www.tmobile.careers/job-details/engineering/150678BR-2021-software-engineerdeveloper-internship--product-and-technology\"target=\"_blank\" rel=\"noopener\">2021 Software Engineer/Developer Internship- Product and Technology</a></span></li>\n",
            "<li><span style=\"color: #000000;\"><a style=\"color: #000000;\" href=\"https://www.tmobile.careers/job-details/engineering/150611BR-2021-procurement--supply-summer-internships\"target=\"_blank\" rel=\"noopener\">2021 Procurement & Supply Summer Internships</a></span></li>\n",
            "<li><a href=\"https://www.knorange.com/index.php/tmobile-part-1-career/\"target=\"_blank\" rel=\"noopener\">More...</a>\n",
            "<ol>\n",
            "<p style=\"padding-left: 40px; text-align: right;\">(Update: Dec-26-2020)</p>\n",
            "<p style=\"padding-left: 40px; text-align: right;\">11 minutes ago</p>\n"
          ],
          "name": "stdout"
        }
      ]
    },
    {
      "cell_type": "markdown",
      "metadata": {
        "id": "C-wwBfu7Vs2A"
      },
      "source": [
        "# **T mobile gradaute**"
      ]
    },
    {
      "cell_type": "code",
      "metadata": {
        "id": "qIJLyfMSfEmC",
        "colab": {
          "base_uri": "https://localhost:8080/"
        },
        "outputId": "00dbcdea-767d-4dd5-bd2c-55f038b7d1c1"
      },
      "source": [
        "from random import seed\r\n",
        "from random import random\r\n",
        "import random\r\n",
        "\r\n",
        "path = \"/content/drive/My Drive/career/TMobile_Part_2.csv\"\r\n",
        "#!ls \"/content/drive/My Drive/career\"\r\n",
        "df_bonus = pd.read_csv(path)\r\n",
        "Job = df_bonus['Jobs']\r\n",
        "Link = df_bonus['Application Links']\r\n",
        "\r\n",
        "random = random.randint(7,20)\r\n",
        "print('Copy and paste the following TMobile graduate code to wordpress')\r\n",
        "print('Copy and paste the following TMobile graduate code to wordpress')\r\n",
        "print('<ol>')\r\n",
        "\r\n",
        "\r\n",
        "if (len(df_bonus)<7):\r\n",
        "    \r\n",
        "  for i in range (len(df_bonus)):\r\n",
        "    print('<li><span style=\"color: #000000;\"><a style=\"color: #000000;\" href=\"'+ Link[i]+ '\"' +  'target=\"_blank\" rel=\"noopener\">' + Job[i] + '</a></span></li>')\r\n",
        "\r\n",
        "\r\n",
        "\r\n",
        "  \r\n",
        "else:\r\n",
        "    \r\n",
        "  for i in range (6):\r\n",
        "    print('<li><span style=\"color: #000000;\"><a style=\"color: #000000;\" href=\"'+ Link[i]+ '\"' +  'target=\"_blank\" rel=\"noopener\">' + Job[i] + '</a></span></li>')\r\n",
        "\r\n",
        "\r\n",
        "\r\n",
        "print('<li><a href=\"https://www.knorange.com/index.php/tmobile-part-2-career/\"target=\"_blank\" rel=\"noopener\">More...</a>')\r\n",
        "\r\n",
        "\r\n",
        "print('<ol>')\r\n",
        "print('<p style=\"padding-left: 40px; text-align: right;\">'+ '(Update: '+ Post_date +')</p>')\r\n",
        "print('<p style=\"padding-left: 40px; text-align: right;\">'+ str(random) + ' minutes ago'+ '</p>')"
      ],
      "execution_count": null,
      "outputs": [
        {
          "output_type": "stream",
          "text": [
            "Copy and paste the following TMobile graduate code to wordpress\n",
            "Copy and paste the following TMobile graduate code to wordpress\n",
            "<ol>\n",
            "<li><span style=\"color: #000000;\"><a style=\"color: #000000;\" href=\"https://www.tmobile.careers/job-details/engineering/151227BR-assoc-technician-switch\"target=\"_blank\" rel=\"noopener\">Assoc Technician, Switch</a></span></li>\n",
            "<li><span style=\"color: #000000;\"><a style=\"color: #000000;\" href=\"https://www.tmobile.careers/job-details/customer-service/148085BR-customer-service-associate-expert-richmond\"target=\"_blank\" rel=\"noopener\">Customer Service Associate Expert - Richmond</a></span></li>\n",
            "<li><span style=\"color: #000000;\"><a style=\"color: #000000;\" href=\"https://www.tmobile.careers/job-details/retail/156537BR-mobile-event-expert\"target=\"_blank\" rel=\"noopener\">Mobile Event Expert</a></span></li>\n",
            "<li><span style=\"color: #000000;\"><a style=\"color: #000000;\" href=\"https://www.tmobile.careers/job-details/retail/156536BR-mobile-event-expert\"target=\"_blank\" rel=\"noopener\">Mobile Event Expert</a></span></li>\n",
            "<li><span style=\"color: #000000;\"><a style=\"color: #000000;\" href=\"https://www.tmobile.careers/job-details/retail/156515BR-mobile-event-expert\"target=\"_blank\" rel=\"noopener\">Mobile Event Expert</a></span></li>\n",
            "<li><span style=\"color: #000000;\"><a style=\"color: #000000;\" href=\"https://www.tmobile.careers/job-details/retail/156514BR-mobile-event-expert\"target=\"_blank\" rel=\"noopener\">Mobile Event Expert</a></span></li>\n",
            "<li><a href=\"https://www.knorange.com/index.php/tmobile-part-2-career/\"target=\"_blank\" rel=\"noopener\">More...</a>\n",
            "<ol>\n",
            "<p style=\"padding-left: 40px; text-align: right;\">(Update: Dec-26-2020)</p>\n",
            "<p style=\"padding-left: 40px; text-align: right;\">19 minutes ago</p>\n"
          ],
          "name": "stdout"
        }
      ]
    },
    {
      "cell_type": "markdown",
      "metadata": {
        "id": "8AKfElojVvRq"
      },
      "source": [
        "# **Adobe**"
      ]
    },
    {
      "cell_type": "code",
      "metadata": {
        "id": "svmOm2nifLK2",
        "colab": {
          "base_uri": "https://localhost:8080/",
          "height": 438
        },
        "outputId": "e81e4a5d-cae1-41ee-c79f-c13e7e627d7d"
      },
      "source": [
        "from random import seed\r\n",
        "from random import random\r\n",
        "import random\r\n",
        "\r\n",
        "path = \"/content/drive/My Drive/career/Adobe.csv\"\r\n",
        "#!ls \"/content/drive/My Drive/career\"\r\n",
        "df_bonus = pd.read_csv(path)\r\n",
        "Job = df_bonus['Jobs']\r\n",
        "Link = df_bonus['Application Links']\r\n",
        "\r\n",
        "random = random.randint(7,20)\r\n",
        "print('Copy and paste the following Adobe code to wordpress')\r\n",
        "print('Copy and paste the following Adobe code to wordpress')\r\n",
        "print('<ol>')\r\n",
        "\r\n",
        "\r\n",
        "\r\n",
        "if (len(df_bonus)<7):\r\n",
        "    \r\n",
        "  for i in range (len(df_bonus)):\r\n",
        "    print('<li><span style=\"color: #000000;\"><a style=\"color: #000000;\" href=\"'+ Link[i]+ '\"' +  'target=\"_blank\" rel=\"noopener\">' + Job[i] + '</a></span></li>')\r\n",
        "\r\n",
        "\r\n",
        "\r\n",
        "  \r\n",
        "else:\r\n",
        "    \r\n",
        "  for i in range (6):\r\n",
        "    print('<li><span style=\"color: #000000;\"><a style=\"color: #000000;\" href=\"'+ Link[i]+ '\"' +  'target=\"_blank\" rel=\"noopener\">' + Job[i] + '</a></span></li>')\r\n",
        "\r\n",
        "\r\n",
        "\r\n",
        "print('<li><a href=\"https://www.knorange.com/index.php/adobe-career/\"target=\"_blank\" rel=\"noopener\">More...</a>')\r\n",
        "\r\n",
        "\r\n",
        "print('<ol>')\r\n",
        "print('<p style=\"padding-left: 40px; text-align: right;\">'+ '(Update: '+ Post_date +')</p>')\r\n",
        "print('<p style=\"padding-left: 40px; text-align: right;\">'+ str(random) + ' minutes ago'+ '</p>')"
      ],
      "execution_count": null,
      "outputs": [
        {
          "output_type": "error",
          "ename": "FileNotFoundError",
          "evalue": "ignored",
          "traceback": [
            "\u001b[0;31m---------------------------------------------------------------------------\u001b[0m",
            "\u001b[0;31mFileNotFoundError\u001b[0m                         Traceback (most recent call last)",
            "\u001b[0;32m<ipython-input-30-7f9dad9dd49f>\u001b[0m in \u001b[0;36m<module>\u001b[0;34m()\u001b[0m\n\u001b[1;32m      5\u001b[0m \u001b[0mpath\u001b[0m \u001b[0;34m=\u001b[0m \u001b[0;34m\"/content/drive/My Drive/career/Adobe.csv\"\u001b[0m\u001b[0;34m\u001b[0m\u001b[0;34m\u001b[0m\u001b[0m\n\u001b[1;32m      6\u001b[0m \u001b[0;31m#!ls \"/content/drive/My Drive/career\"\u001b[0m\u001b[0;34m\u001b[0m\u001b[0;34m\u001b[0m\u001b[0;34m\u001b[0m\u001b[0m\n\u001b[0;32m----> 7\u001b[0;31m \u001b[0mdf_bonus\u001b[0m \u001b[0;34m=\u001b[0m \u001b[0mpd\u001b[0m\u001b[0;34m.\u001b[0m\u001b[0mread_csv\u001b[0m\u001b[0;34m(\u001b[0m\u001b[0mpath\u001b[0m\u001b[0;34m)\u001b[0m\u001b[0;34m\u001b[0m\u001b[0;34m\u001b[0m\u001b[0m\n\u001b[0m\u001b[1;32m      8\u001b[0m \u001b[0mJob\u001b[0m \u001b[0;34m=\u001b[0m \u001b[0mdf_bonus\u001b[0m\u001b[0;34m[\u001b[0m\u001b[0;34m'Jobs'\u001b[0m\u001b[0;34m]\u001b[0m\u001b[0;34m\u001b[0m\u001b[0;34m\u001b[0m\u001b[0m\n\u001b[1;32m      9\u001b[0m \u001b[0mLink\u001b[0m \u001b[0;34m=\u001b[0m \u001b[0mdf_bonus\u001b[0m\u001b[0;34m[\u001b[0m\u001b[0;34m'Application Links'\u001b[0m\u001b[0;34m]\u001b[0m\u001b[0;34m\u001b[0m\u001b[0;34m\u001b[0m\u001b[0m\n",
            "\u001b[0;32m/usr/local/lib/python3.6/dist-packages/pandas/io/parsers.py\u001b[0m in \u001b[0;36mread_csv\u001b[0;34m(filepath_or_buffer, sep, delimiter, header, names, index_col, usecols, squeeze, prefix, mangle_dupe_cols, dtype, engine, converters, true_values, false_values, skipinitialspace, skiprows, skipfooter, nrows, na_values, keep_default_na, na_filter, verbose, skip_blank_lines, parse_dates, infer_datetime_format, keep_date_col, date_parser, dayfirst, cache_dates, iterator, chunksize, compression, thousands, decimal, lineterminator, quotechar, quoting, doublequote, escapechar, comment, encoding, dialect, error_bad_lines, warn_bad_lines, delim_whitespace, low_memory, memory_map, float_precision)\u001b[0m\n\u001b[1;32m    686\u001b[0m     )\n\u001b[1;32m    687\u001b[0m \u001b[0;34m\u001b[0m\u001b[0m\n\u001b[0;32m--> 688\u001b[0;31m     \u001b[0;32mreturn\u001b[0m \u001b[0m_read\u001b[0m\u001b[0;34m(\u001b[0m\u001b[0mfilepath_or_buffer\u001b[0m\u001b[0;34m,\u001b[0m \u001b[0mkwds\u001b[0m\u001b[0;34m)\u001b[0m\u001b[0;34m\u001b[0m\u001b[0;34m\u001b[0m\u001b[0m\n\u001b[0m\u001b[1;32m    689\u001b[0m \u001b[0;34m\u001b[0m\u001b[0m\n\u001b[1;32m    690\u001b[0m \u001b[0;34m\u001b[0m\u001b[0m\n",
            "\u001b[0;32m/usr/local/lib/python3.6/dist-packages/pandas/io/parsers.py\u001b[0m in \u001b[0;36m_read\u001b[0;34m(filepath_or_buffer, kwds)\u001b[0m\n\u001b[1;32m    452\u001b[0m \u001b[0;34m\u001b[0m\u001b[0m\n\u001b[1;32m    453\u001b[0m     \u001b[0;31m# Create the parser.\u001b[0m\u001b[0;34m\u001b[0m\u001b[0;34m\u001b[0m\u001b[0;34m\u001b[0m\u001b[0m\n\u001b[0;32m--> 454\u001b[0;31m     \u001b[0mparser\u001b[0m \u001b[0;34m=\u001b[0m \u001b[0mTextFileReader\u001b[0m\u001b[0;34m(\u001b[0m\u001b[0mfp_or_buf\u001b[0m\u001b[0;34m,\u001b[0m \u001b[0;34m**\u001b[0m\u001b[0mkwds\u001b[0m\u001b[0;34m)\u001b[0m\u001b[0;34m\u001b[0m\u001b[0;34m\u001b[0m\u001b[0m\n\u001b[0m\u001b[1;32m    455\u001b[0m \u001b[0;34m\u001b[0m\u001b[0m\n\u001b[1;32m    456\u001b[0m     \u001b[0;32mif\u001b[0m \u001b[0mchunksize\u001b[0m \u001b[0;32mor\u001b[0m \u001b[0miterator\u001b[0m\u001b[0;34m:\u001b[0m\u001b[0;34m\u001b[0m\u001b[0;34m\u001b[0m\u001b[0m\n",
            "\u001b[0;32m/usr/local/lib/python3.6/dist-packages/pandas/io/parsers.py\u001b[0m in \u001b[0;36m__init__\u001b[0;34m(self, f, engine, **kwds)\u001b[0m\n\u001b[1;32m    946\u001b[0m             \u001b[0mself\u001b[0m\u001b[0;34m.\u001b[0m\u001b[0moptions\u001b[0m\u001b[0;34m[\u001b[0m\u001b[0;34m\"has_index_names\"\u001b[0m\u001b[0;34m]\u001b[0m \u001b[0;34m=\u001b[0m \u001b[0mkwds\u001b[0m\u001b[0;34m[\u001b[0m\u001b[0;34m\"has_index_names\"\u001b[0m\u001b[0;34m]\u001b[0m\u001b[0;34m\u001b[0m\u001b[0;34m\u001b[0m\u001b[0m\n\u001b[1;32m    947\u001b[0m \u001b[0;34m\u001b[0m\u001b[0m\n\u001b[0;32m--> 948\u001b[0;31m         \u001b[0mself\u001b[0m\u001b[0;34m.\u001b[0m\u001b[0m_make_engine\u001b[0m\u001b[0;34m(\u001b[0m\u001b[0mself\u001b[0m\u001b[0;34m.\u001b[0m\u001b[0mengine\u001b[0m\u001b[0;34m)\u001b[0m\u001b[0;34m\u001b[0m\u001b[0;34m\u001b[0m\u001b[0m\n\u001b[0m\u001b[1;32m    949\u001b[0m \u001b[0;34m\u001b[0m\u001b[0m\n\u001b[1;32m    950\u001b[0m     \u001b[0;32mdef\u001b[0m \u001b[0mclose\u001b[0m\u001b[0;34m(\u001b[0m\u001b[0mself\u001b[0m\u001b[0;34m)\u001b[0m\u001b[0;34m:\u001b[0m\u001b[0;34m\u001b[0m\u001b[0;34m\u001b[0m\u001b[0m\n",
            "\u001b[0;32m/usr/local/lib/python3.6/dist-packages/pandas/io/parsers.py\u001b[0m in \u001b[0;36m_make_engine\u001b[0;34m(self, engine)\u001b[0m\n\u001b[1;32m   1178\u001b[0m     \u001b[0;32mdef\u001b[0m \u001b[0m_make_engine\u001b[0m\u001b[0;34m(\u001b[0m\u001b[0mself\u001b[0m\u001b[0;34m,\u001b[0m \u001b[0mengine\u001b[0m\u001b[0;34m=\u001b[0m\u001b[0;34m\"c\"\u001b[0m\u001b[0;34m)\u001b[0m\u001b[0;34m:\u001b[0m\u001b[0;34m\u001b[0m\u001b[0;34m\u001b[0m\u001b[0m\n\u001b[1;32m   1179\u001b[0m         \u001b[0;32mif\u001b[0m \u001b[0mengine\u001b[0m \u001b[0;34m==\u001b[0m \u001b[0;34m\"c\"\u001b[0m\u001b[0;34m:\u001b[0m\u001b[0;34m\u001b[0m\u001b[0;34m\u001b[0m\u001b[0m\n\u001b[0;32m-> 1180\u001b[0;31m             \u001b[0mself\u001b[0m\u001b[0;34m.\u001b[0m\u001b[0m_engine\u001b[0m \u001b[0;34m=\u001b[0m \u001b[0mCParserWrapper\u001b[0m\u001b[0;34m(\u001b[0m\u001b[0mself\u001b[0m\u001b[0;34m.\u001b[0m\u001b[0mf\u001b[0m\u001b[0;34m,\u001b[0m \u001b[0;34m**\u001b[0m\u001b[0mself\u001b[0m\u001b[0;34m.\u001b[0m\u001b[0moptions\u001b[0m\u001b[0;34m)\u001b[0m\u001b[0;34m\u001b[0m\u001b[0;34m\u001b[0m\u001b[0m\n\u001b[0m\u001b[1;32m   1181\u001b[0m         \u001b[0;32melse\u001b[0m\u001b[0;34m:\u001b[0m\u001b[0;34m\u001b[0m\u001b[0;34m\u001b[0m\u001b[0m\n\u001b[1;32m   1182\u001b[0m             \u001b[0;32mif\u001b[0m \u001b[0mengine\u001b[0m \u001b[0;34m==\u001b[0m \u001b[0;34m\"python\"\u001b[0m\u001b[0;34m:\u001b[0m\u001b[0;34m\u001b[0m\u001b[0;34m\u001b[0m\u001b[0m\n",
            "\u001b[0;32m/usr/local/lib/python3.6/dist-packages/pandas/io/parsers.py\u001b[0m in \u001b[0;36m__init__\u001b[0;34m(self, src, **kwds)\u001b[0m\n\u001b[1;32m   2008\u001b[0m         \u001b[0mkwds\u001b[0m\u001b[0;34m[\u001b[0m\u001b[0;34m\"usecols\"\u001b[0m\u001b[0;34m]\u001b[0m \u001b[0;34m=\u001b[0m \u001b[0mself\u001b[0m\u001b[0;34m.\u001b[0m\u001b[0musecols\u001b[0m\u001b[0;34m\u001b[0m\u001b[0;34m\u001b[0m\u001b[0m\n\u001b[1;32m   2009\u001b[0m \u001b[0;34m\u001b[0m\u001b[0m\n\u001b[0;32m-> 2010\u001b[0;31m         \u001b[0mself\u001b[0m\u001b[0;34m.\u001b[0m\u001b[0m_reader\u001b[0m \u001b[0;34m=\u001b[0m \u001b[0mparsers\u001b[0m\u001b[0;34m.\u001b[0m\u001b[0mTextReader\u001b[0m\u001b[0;34m(\u001b[0m\u001b[0msrc\u001b[0m\u001b[0;34m,\u001b[0m \u001b[0;34m**\u001b[0m\u001b[0mkwds\u001b[0m\u001b[0;34m)\u001b[0m\u001b[0;34m\u001b[0m\u001b[0;34m\u001b[0m\u001b[0m\n\u001b[0m\u001b[1;32m   2011\u001b[0m         \u001b[0mself\u001b[0m\u001b[0;34m.\u001b[0m\u001b[0munnamed_cols\u001b[0m \u001b[0;34m=\u001b[0m \u001b[0mself\u001b[0m\u001b[0;34m.\u001b[0m\u001b[0m_reader\u001b[0m\u001b[0;34m.\u001b[0m\u001b[0munnamed_cols\u001b[0m\u001b[0;34m\u001b[0m\u001b[0;34m\u001b[0m\u001b[0m\n\u001b[1;32m   2012\u001b[0m \u001b[0;34m\u001b[0m\u001b[0m\n",
            "\u001b[0;32mpandas/_libs/parsers.pyx\u001b[0m in \u001b[0;36mpandas._libs.parsers.TextReader.__cinit__\u001b[0;34m()\u001b[0m\n",
            "\u001b[0;32mpandas/_libs/parsers.pyx\u001b[0m in \u001b[0;36mpandas._libs.parsers.TextReader._setup_parser_source\u001b[0;34m()\u001b[0m\n",
            "\u001b[0;31mFileNotFoundError\u001b[0m: [Errno 2] No such file or directory: '/content/drive/My Drive/career/Adobe.csv'"
          ]
        }
      ]
    },
    {
      "cell_type": "markdown",
      "metadata": {
        "id": "RQC_NMrrV2jM"
      },
      "source": [
        "# **Netflix**"
      ]
    },
    {
      "cell_type": "code",
      "metadata": {
        "id": "YsPSQbaPCv_b",
        "colab": {
          "base_uri": "https://localhost:8080/"
        },
        "outputId": "bdaed09a-1d43-4339-e342-0e41ebe69a23"
      },
      "source": [
        "from random import seed\r\n",
        "from random import random\r\n",
        "import random\r\n",
        "\r\n",
        "path = \"/content/drive/My Drive/career/Netflix.csv\"\r\n",
        "#!ls \"/content/drive/My Drive/career\"\r\n",
        "df_bonus = pd.read_csv(path)\r\n",
        "Job = df_bonus['Jobs']\r\n",
        "Link = df_bonus['Application Links']\r\n",
        "\r\n",
        "random = random.randint(7,20)\r\n",
        "print('Copy and paste the following Netflix code to wordpress')\r\n",
        "print('Copy and paste the following Netflix code to wordpress')\r\n",
        "print('<ol>')\r\n",
        "\r\n",
        "\r\n",
        "\r\n",
        "if (len(df_bonus)<7):\r\n",
        "    \r\n",
        "  for i in range (len(df_bonus)):\r\n",
        "    print('<li><span style=\"color: #000000;\"><a style=\"color: #000000;\" href=\"'+ Link[i]+ '\"' +  'target=\"_blank\" rel=\"noopener\">' + Job[i] + '</a></span></li>')\r\n",
        "\r\n",
        "\r\n",
        "\r\n",
        "  \r\n",
        "else:\r\n",
        "    \r\n",
        "  for i in range (6):\r\n",
        "    print('<li><span style=\"color: #000000;\"><a style=\"color: #000000;\" href=\"'+ Link[i]+ '\"' +  'target=\"_blank\" rel=\"noopener\">' + Job[i] + '</a></span></li>')\r\n",
        "\r\n",
        "\r\n",
        "\r\n",
        "print('<li><a href=\"https://www.knorange.com/index.php/netflix-career/\"target=\"_blank\" rel=\"noopener\">More...</a>')\r\n",
        "\r\n",
        "\r\n",
        "print('<ol>')\r\n",
        "print('<p style=\"padding-left: 40px; text-align: right;\">'+ '(Update: '+ Post_date +')</p>')\r\n",
        "print('<p style=\"padding-left: 40px; text-align: right;\">'+ str(random) + ' minutes ago'+ '</p>')"
      ],
      "execution_count": null,
      "outputs": [
        {
          "output_type": "stream",
          "text": [
            "Copy and paste the following Netflix code to wordpress\n",
            "Copy and paste the following Netflix code to wordpress\n",
            "<ol>\n",
            "<li><span style=\"color: #000000;\"><a style=\"color: #000000;\" href=\"https://jobs.netflix.com/jobs/40242271\"target=\"_blank\" rel=\"noopener\">Experimentation & Causal Inference Intern</a></span></li>\n",
            "<li><span style=\"color: #000000;\"><a style=\"color: #000000;\" href=\"https://jobs.netflix.com/jobs/40242907\"target=\"_blank\" rel=\"noopener\">Data Engineering Intern, Data Science and Engineering</a></span></li>\n",
            "<li><span style=\"color: #000000;\"><a style=\"color: #000000;\" href=\"https://jobs.netflix.com/jobs/40242272\"target=\"_blank\" rel=\"noopener\">Machine Learning Intern (Research)</a></span></li>\n",
            "<li><span style=\"color: #000000;\"><a style=\"color: #000000;\" href=\"https://jobs.netflix.com/jobs/47956263\"target=\"_blank\" rel=\"noopener\">Security Software Engineer Intern, Cloud Infrastructure Security</a></span></li>\n",
            "<li><span style=\"color: #000000;\"><a style=\"color: #000000;\" href=\"https://jobs.netflix.com/jobs/40242270\"target=\"_blank\" rel=\"noopener\">Analytics Engineering Intern, Data Science and Engineering</a></span></li>\n",
            "<li><a href=\"https://www.knorange.com/index.php/netflix-career/\"target=\"_blank\" rel=\"noopener\">More...</a>\n",
            "<ol>\n",
            "<p style=\"padding-left: 40px; text-align: right;\">(Update: Dec-26-2020)</p>\n",
            "<p style=\"padding-left: 40px; text-align: right;\">15 minutes ago</p>\n"
          ],
          "name": "stdout"
        }
      ]
    },
    {
      "cell_type": "markdown",
      "metadata": {
        "id": "FQ0ewgShV4b7"
      },
      "source": [
        "# **Riotgames**"
      ]
    },
    {
      "cell_type": "code",
      "metadata": {
        "id": "iGIb2emVC2qV",
        "colab": {
          "base_uri": "https://localhost:8080/"
        },
        "outputId": "013e7042-2b16-4114-8fe2-e3a5ae47ea6d"
      },
      "source": [
        "from random import seed\r\n",
        "from random import random\r\n",
        "import random\r\n",
        "\r\n",
        "path = \"/content/drive/My Drive/career/Riotgames.csv\"\r\n",
        "#!ls \"/content/drive/My Drive/career\"\r\n",
        "df_bonus = pd.read_csv(path)\r\n",
        "Job = df_bonus['Jobs']\r\n",
        "Link = df_bonus['Application Links']\r\n",
        "\r\n",
        "random = random.randint(7,20)\r\n",
        "print('Copy and paste the following Riotgames code to wordpress')\r\n",
        "print('Copy and paste the following Riotgames code to wordpress')\r\n",
        "print('<ol>')\r\n",
        "\r\n",
        "\r\n",
        "\r\n",
        "if (len(df_bonus)<7):\r\n",
        "    \r\n",
        "  for i in range (len(df_bonus)):\r\n",
        "    print('<li><span style=\"color: #000000;\"><a style=\"color: #000000;\" href=\"'+ Link[i]+ '\"' +  'target=\"_blank\" rel=\"noopener\">' + Job[i] + '</a></span></li>')\r\n",
        "\r\n",
        "\r\n",
        "\r\n",
        "  \r\n",
        "else:\r\n",
        "    \r\n",
        "  for i in range (6):\r\n",
        "    print('<li><span style=\"color: #000000;\"><a style=\"color: #000000;\" href=\"'+ Link[i]+ '\"' +  'target=\"_blank\" rel=\"noopener\">' + Job[i] + '</a></span></li>')\r\n",
        "\r\n",
        "\r\n",
        "\r\n",
        "print('<li><a href=\"https://www.knorange.com/index.php/riot-games-career/\"target=\"_blank\" rel=\"noopener\">More...</a>')\r\n",
        "\r\n",
        "\r\n",
        "print('<ol>')\r\n",
        "print('<p style=\"padding-left: 40px; text-align: right;\">'+ '(Update: '+ Post_date +')</p>')\r\n",
        "print('<p style=\"padding-left: 40px; text-align: right;\">'+ str(random) + ' minutes ago'+ '</p>')"
      ],
      "execution_count": null,
      "outputs": [
        {
          "output_type": "stream",
          "text": [
            "Copy and paste the following Riotgames code to wordpress\n",
            "Copy and paste the following Riotgames code to wordpress\n",
            "<ol>\n",
            "<li><span style=\"color: #000000;\"><a style=\"color: #000000;\" href=\"https://www.riotgames.com/en/university-programs#\"target=\"_blank\" rel=\"noopener\">Open Positions: 15</a></span></li>\n",
            "<li><span style=\"color: #000000;\"><a style=\"color: #000000;\" href=\"https://www.riotgames.com/en/j/2337881\"target=\"_blank\" rel=\"noopener\">3D Character Art Intern</a></span></li>\n",
            "<li><span style=\"color: #000000;\"><a style=\"color: #000000;\" href=\"https://www.riotgames.com/en/j/2337883\"target=\"_blank\" rel=\"noopener\">3D Weapon Art Intern - VALORANT</a></span></li>\n",
            "<li><span style=\"color: #000000;\"><a style=\"color: #000000;\" href=\"https://www.riotgames.com/en/j/2337876\"target=\"_blank\" rel=\"noopener\">Animation Intern - League of Legends</a></span></li>\n",
            "<li><span style=\"color: #000000;\"><a style=\"color: #000000;\" href=\"https://www.riotgames.com/en/j/2337836\"target=\"_blank\" rel=\"noopener\">Audio Design Intern - League of Legends</a></span></li>\n",
            "<li><span style=\"color: #000000;\"><a style=\"color: #000000;\" href=\"https://www.riotgames.com/en/j/2337874\"target=\"_blank\" rel=\"noopener\">Character Concept Art Intern - League of Legends</a></span></li>\n",
            "<li><a href=\"https://www.knorange.com/index.php/riot-games-career/\"target=\"_blank\" rel=\"noopener\">More...</a>\n",
            "<ol>\n",
            "<p style=\"padding-left: 40px; text-align: right;\">(Update: Dec-26-2020)</p>\n",
            "<p style=\"padding-left: 40px; text-align: right;\">18 minutes ago</p>\n"
          ],
          "name": "stdout"
        }
      ]
    },
    {
      "cell_type": "markdown",
      "metadata": {
        "id": "mFB1Y9KFV76p"
      },
      "source": [
        "# **Spotify**"
      ]
    },
    {
      "cell_type": "code",
      "metadata": {
        "id": "4JGV3GRUDChh",
        "colab": {
          "base_uri": "https://localhost:8080/"
        },
        "outputId": "aced44f5-ce29-466e-b85f-21362cf64aba"
      },
      "source": [
        "from random import seed\r\n",
        "from random import random\r\n",
        "import random\r\n",
        "\r\n",
        "path = \"/content/drive/My Drive/career/Spotify.csv\"\r\n",
        "#!ls \"/content/drive/My Drive/career\"\r\n",
        "df_bonus = pd.read_csv(path)\r\n",
        "Job = df_bonus['Jobs']\r\n",
        "Link = df_bonus['Application Links']\r\n",
        "\r\n",
        "random = random.randint(7,20)\r\n",
        "print('Copy and paste the following Spotify code to wordpress')\r\n",
        "print('Copy and paste the following Spotify code to wordpress')\r\n",
        "print('<ol>')\r\n",
        "\r\n",
        "\r\n",
        "\r\n",
        "if (len(df_bonus)<7):\r\n",
        "    \r\n",
        "  for i in range (len(df_bonus)):\r\n",
        "    print('<li><span style=\"color: #000000;\"><a style=\"color: #000000;\" href=\"'+ Link[i]+ '\"' +  'target=\"_blank\" rel=\"noopener\">' + Job[i] + '</a></span></li>')\r\n",
        "\r\n",
        "\r\n",
        "\r\n",
        "  \r\n",
        "else:\r\n",
        "    \r\n",
        "  for i in range (6):\r\n",
        "    print('<li><span style=\"color: #000000;\"><a style=\"color: #000000;\" href=\"'+ Link[i]+ '\"' +  'target=\"_blank\" rel=\"noopener\">' + Job[i] + '</a></span></li>')\r\n",
        "\r\n",
        "\r\n",
        "\r\n",
        "print('<li><a href=\"https://www.knorange.com/index.php/spotify-career/\"target=\"_blank\" rel=\"noopener\">More...</a>')\r\n",
        "\r\n",
        "\r\n",
        "print('<ol>')\r\n",
        "print('<p style=\"padding-left: 40px; text-align: right;\">'+ '(Update: '+ Post_date +')</p>')\r\n",
        "print('<p style=\"padding-left: 40px; text-align: right;\">'+ str(random) + ' minutes ago'+ '</p>')"
      ],
      "execution_count": null,
      "outputs": [
        {
          "output_type": "stream",
          "text": [
            "Copy and paste the following Spotify code to wordpress\n",
            "Copy and paste the following Spotify code to wordpress\n",
            "<ol>\n",
            "<li><span style=\"color: #000000;\"><a style=\"color: #000000;\" href=\"https://www.spotifyjobs.com/jobs/how-to-save-a-planet-internship-gimlet\"target=\"_blank\" rel=\"noopener\">How to Save a Planet, Internship - Gimlet</a></span></li>\n",
            "<li><span style=\"color: #000000;\"><a style=\"color: #000000;\" href=\"https://www.spotifyjobs.com/jobs/linguistics-summer-internship\"target=\"_blank\" rel=\"noopener\">Linguistics - Summer Internship</a></span></li>\n",
            "<li><span style=\"color: #000000;\"><a style=\"color: #000000;\" href=\"https://www.spotifyjobs.com/jobs/hr-generalist-summer-internship\"target=\"_blank\" rel=\"noopener\">HR Generalist - Summer Internship</a></span></li>\n",
            "<li><a href=\"https://www.knorange.com/index.php/spotify-career/\"target=\"_blank\" rel=\"noopener\">More...</a>\n",
            "<ol>\n",
            "<p style=\"padding-left: 40px; text-align: right;\">(Update: Dec-26-2020)</p>\n",
            "<p style=\"padding-left: 40px; text-align: right;\">13 minutes ago</p>\n"
          ],
          "name": "stdout"
        }
      ]
    },
    {
      "cell_type": "markdown",
      "metadata": {
        "id": "UMqE2ECoV-Kv"
      },
      "source": [
        "# **Saleforce**"
      ]
    },
    {
      "cell_type": "code",
      "metadata": {
        "id": "p5zCL6O0hIg3",
        "colab": {
          "base_uri": "https://localhost:8080/",
          "height": 438
        },
        "outputId": "d30afd52-5295-4c05-bc6a-46991a790158"
      },
      "source": [
        "from random import seed\r\n",
        "from random import random\r\n",
        "import random\r\n",
        "\r\n",
        "path = \"/content/drive/My Drive/career/Salesforce.csv\"\r\n",
        "#!ls \"/content/drive/My Drive/career\"\r\n",
        "df_bonus = pd.read_csv(path)\r\n",
        "Job = df_bonus['Jobs']\r\n",
        "Link = df_bonus['Application Links']\r\n",
        "\r\n",
        "random = random.randint(7,20)\r\n",
        "print('Copy and paste the following Salesforce code to wordpress')\r\n",
        "print('Copy and paste the following Salesforce code to wordpress')\r\n",
        "print('<ol>')\r\n",
        "\r\n",
        "\r\n",
        "\r\n",
        "if (len(df_bonus)<7):\r\n",
        "    \r\n",
        "  for i in range (len(df_bonus)):\r\n",
        "    print('<li><span style=\"color: #000000;\"><a style=\"color: #000000;\" href=\"'+ Link[i]+ '\"' +  'target=\"_blank\" rel=\"noopener\">' + Job[i] + '</a></span></li>')\r\n",
        "\r\n",
        "\r\n",
        "\r\n",
        "  \r\n",
        "else:\r\n",
        "    \r\n",
        "  for i in range (6):\r\n",
        "    print('<li><span style=\"color: #000000;\"><a style=\"color: #000000;\" href=\"'+ Link[i]+ '\"' +  'target=\"_blank\" rel=\"noopener\">' + Job[i] + '</a></span></li>')\r\n",
        "\r\n",
        "\r\n",
        "\r\n",
        "print('<li><a href=\"https://www.knorange.com/index.php/salesforce-career/\"target=\"_blank\" rel=\"noopener\">More...</a>')\r\n",
        "\r\n",
        "\r\n",
        "print('<ol>')\r\n",
        "print('<p style=\"padding-left: 40px; text-align: right;\">'+ '(Update: '+ Post_date +')</p>')\r\n",
        "print('<p style=\"padding-left: 40px; text-align: right;\">'+ str(random) + ' minutes ago'+ '</p>')"
      ],
      "execution_count": null,
      "outputs": [
        {
          "output_type": "error",
          "ename": "FileNotFoundError",
          "evalue": "ignored",
          "traceback": [
            "\u001b[0;31m---------------------------------------------------------------------------\u001b[0m",
            "\u001b[0;31mFileNotFoundError\u001b[0m                         Traceback (most recent call last)",
            "\u001b[0;32m<ipython-input-34-20f957f5a312>\u001b[0m in \u001b[0;36m<module>\u001b[0;34m()\u001b[0m\n\u001b[1;32m      5\u001b[0m \u001b[0mpath\u001b[0m \u001b[0;34m=\u001b[0m \u001b[0;34m\"/content/drive/My Drive/career/Salesforce.csv\"\u001b[0m\u001b[0;34m\u001b[0m\u001b[0;34m\u001b[0m\u001b[0m\n\u001b[1;32m      6\u001b[0m \u001b[0;31m#!ls \"/content/drive/My Drive/career\"\u001b[0m\u001b[0;34m\u001b[0m\u001b[0;34m\u001b[0m\u001b[0;34m\u001b[0m\u001b[0m\n\u001b[0;32m----> 7\u001b[0;31m \u001b[0mdf_bonus\u001b[0m \u001b[0;34m=\u001b[0m \u001b[0mpd\u001b[0m\u001b[0;34m.\u001b[0m\u001b[0mread_csv\u001b[0m\u001b[0;34m(\u001b[0m\u001b[0mpath\u001b[0m\u001b[0;34m)\u001b[0m\u001b[0;34m\u001b[0m\u001b[0;34m\u001b[0m\u001b[0m\n\u001b[0m\u001b[1;32m      8\u001b[0m \u001b[0mJob\u001b[0m \u001b[0;34m=\u001b[0m \u001b[0mdf_bonus\u001b[0m\u001b[0;34m[\u001b[0m\u001b[0;34m'Jobs'\u001b[0m\u001b[0;34m]\u001b[0m\u001b[0;34m\u001b[0m\u001b[0;34m\u001b[0m\u001b[0m\n\u001b[1;32m      9\u001b[0m \u001b[0mLink\u001b[0m \u001b[0;34m=\u001b[0m \u001b[0mdf_bonus\u001b[0m\u001b[0;34m[\u001b[0m\u001b[0;34m'Application Links'\u001b[0m\u001b[0;34m]\u001b[0m\u001b[0;34m\u001b[0m\u001b[0;34m\u001b[0m\u001b[0m\n",
            "\u001b[0;32m/usr/local/lib/python3.6/dist-packages/pandas/io/parsers.py\u001b[0m in \u001b[0;36mread_csv\u001b[0;34m(filepath_or_buffer, sep, delimiter, header, names, index_col, usecols, squeeze, prefix, mangle_dupe_cols, dtype, engine, converters, true_values, false_values, skipinitialspace, skiprows, skipfooter, nrows, na_values, keep_default_na, na_filter, verbose, skip_blank_lines, parse_dates, infer_datetime_format, keep_date_col, date_parser, dayfirst, cache_dates, iterator, chunksize, compression, thousands, decimal, lineterminator, quotechar, quoting, doublequote, escapechar, comment, encoding, dialect, error_bad_lines, warn_bad_lines, delim_whitespace, low_memory, memory_map, float_precision)\u001b[0m\n\u001b[1;32m    686\u001b[0m     )\n\u001b[1;32m    687\u001b[0m \u001b[0;34m\u001b[0m\u001b[0m\n\u001b[0;32m--> 688\u001b[0;31m     \u001b[0;32mreturn\u001b[0m \u001b[0m_read\u001b[0m\u001b[0;34m(\u001b[0m\u001b[0mfilepath_or_buffer\u001b[0m\u001b[0;34m,\u001b[0m \u001b[0mkwds\u001b[0m\u001b[0;34m)\u001b[0m\u001b[0;34m\u001b[0m\u001b[0;34m\u001b[0m\u001b[0m\n\u001b[0m\u001b[1;32m    689\u001b[0m \u001b[0;34m\u001b[0m\u001b[0m\n\u001b[1;32m    690\u001b[0m \u001b[0;34m\u001b[0m\u001b[0m\n",
            "\u001b[0;32m/usr/local/lib/python3.6/dist-packages/pandas/io/parsers.py\u001b[0m in \u001b[0;36m_read\u001b[0;34m(filepath_or_buffer, kwds)\u001b[0m\n\u001b[1;32m    452\u001b[0m \u001b[0;34m\u001b[0m\u001b[0m\n\u001b[1;32m    453\u001b[0m     \u001b[0;31m# Create the parser.\u001b[0m\u001b[0;34m\u001b[0m\u001b[0;34m\u001b[0m\u001b[0;34m\u001b[0m\u001b[0m\n\u001b[0;32m--> 454\u001b[0;31m     \u001b[0mparser\u001b[0m \u001b[0;34m=\u001b[0m \u001b[0mTextFileReader\u001b[0m\u001b[0;34m(\u001b[0m\u001b[0mfp_or_buf\u001b[0m\u001b[0;34m,\u001b[0m \u001b[0;34m**\u001b[0m\u001b[0mkwds\u001b[0m\u001b[0;34m)\u001b[0m\u001b[0;34m\u001b[0m\u001b[0;34m\u001b[0m\u001b[0m\n\u001b[0m\u001b[1;32m    455\u001b[0m \u001b[0;34m\u001b[0m\u001b[0m\n\u001b[1;32m    456\u001b[0m     \u001b[0;32mif\u001b[0m \u001b[0mchunksize\u001b[0m \u001b[0;32mor\u001b[0m \u001b[0miterator\u001b[0m\u001b[0;34m:\u001b[0m\u001b[0;34m\u001b[0m\u001b[0;34m\u001b[0m\u001b[0m\n",
            "\u001b[0;32m/usr/local/lib/python3.6/dist-packages/pandas/io/parsers.py\u001b[0m in \u001b[0;36m__init__\u001b[0;34m(self, f, engine, **kwds)\u001b[0m\n\u001b[1;32m    946\u001b[0m             \u001b[0mself\u001b[0m\u001b[0;34m.\u001b[0m\u001b[0moptions\u001b[0m\u001b[0;34m[\u001b[0m\u001b[0;34m\"has_index_names\"\u001b[0m\u001b[0;34m]\u001b[0m \u001b[0;34m=\u001b[0m \u001b[0mkwds\u001b[0m\u001b[0;34m[\u001b[0m\u001b[0;34m\"has_index_names\"\u001b[0m\u001b[0;34m]\u001b[0m\u001b[0;34m\u001b[0m\u001b[0;34m\u001b[0m\u001b[0m\n\u001b[1;32m    947\u001b[0m \u001b[0;34m\u001b[0m\u001b[0m\n\u001b[0;32m--> 948\u001b[0;31m         \u001b[0mself\u001b[0m\u001b[0;34m.\u001b[0m\u001b[0m_make_engine\u001b[0m\u001b[0;34m(\u001b[0m\u001b[0mself\u001b[0m\u001b[0;34m.\u001b[0m\u001b[0mengine\u001b[0m\u001b[0;34m)\u001b[0m\u001b[0;34m\u001b[0m\u001b[0;34m\u001b[0m\u001b[0m\n\u001b[0m\u001b[1;32m    949\u001b[0m \u001b[0;34m\u001b[0m\u001b[0m\n\u001b[1;32m    950\u001b[0m     \u001b[0;32mdef\u001b[0m \u001b[0mclose\u001b[0m\u001b[0;34m(\u001b[0m\u001b[0mself\u001b[0m\u001b[0;34m)\u001b[0m\u001b[0;34m:\u001b[0m\u001b[0;34m\u001b[0m\u001b[0;34m\u001b[0m\u001b[0m\n",
            "\u001b[0;32m/usr/local/lib/python3.6/dist-packages/pandas/io/parsers.py\u001b[0m in \u001b[0;36m_make_engine\u001b[0;34m(self, engine)\u001b[0m\n\u001b[1;32m   1178\u001b[0m     \u001b[0;32mdef\u001b[0m \u001b[0m_make_engine\u001b[0m\u001b[0;34m(\u001b[0m\u001b[0mself\u001b[0m\u001b[0;34m,\u001b[0m \u001b[0mengine\u001b[0m\u001b[0;34m=\u001b[0m\u001b[0;34m\"c\"\u001b[0m\u001b[0;34m)\u001b[0m\u001b[0;34m:\u001b[0m\u001b[0;34m\u001b[0m\u001b[0;34m\u001b[0m\u001b[0m\n\u001b[1;32m   1179\u001b[0m         \u001b[0;32mif\u001b[0m \u001b[0mengine\u001b[0m \u001b[0;34m==\u001b[0m \u001b[0;34m\"c\"\u001b[0m\u001b[0;34m:\u001b[0m\u001b[0;34m\u001b[0m\u001b[0;34m\u001b[0m\u001b[0m\n\u001b[0;32m-> 1180\u001b[0;31m             \u001b[0mself\u001b[0m\u001b[0;34m.\u001b[0m\u001b[0m_engine\u001b[0m \u001b[0;34m=\u001b[0m \u001b[0mCParserWrapper\u001b[0m\u001b[0;34m(\u001b[0m\u001b[0mself\u001b[0m\u001b[0;34m.\u001b[0m\u001b[0mf\u001b[0m\u001b[0;34m,\u001b[0m \u001b[0;34m**\u001b[0m\u001b[0mself\u001b[0m\u001b[0;34m.\u001b[0m\u001b[0moptions\u001b[0m\u001b[0;34m)\u001b[0m\u001b[0;34m\u001b[0m\u001b[0;34m\u001b[0m\u001b[0m\n\u001b[0m\u001b[1;32m   1181\u001b[0m         \u001b[0;32melse\u001b[0m\u001b[0;34m:\u001b[0m\u001b[0;34m\u001b[0m\u001b[0;34m\u001b[0m\u001b[0m\n\u001b[1;32m   1182\u001b[0m             \u001b[0;32mif\u001b[0m \u001b[0mengine\u001b[0m \u001b[0;34m==\u001b[0m \u001b[0;34m\"python\"\u001b[0m\u001b[0;34m:\u001b[0m\u001b[0;34m\u001b[0m\u001b[0;34m\u001b[0m\u001b[0m\n",
            "\u001b[0;32m/usr/local/lib/python3.6/dist-packages/pandas/io/parsers.py\u001b[0m in \u001b[0;36m__init__\u001b[0;34m(self, src, **kwds)\u001b[0m\n\u001b[1;32m   2008\u001b[0m         \u001b[0mkwds\u001b[0m\u001b[0;34m[\u001b[0m\u001b[0;34m\"usecols\"\u001b[0m\u001b[0;34m]\u001b[0m \u001b[0;34m=\u001b[0m \u001b[0mself\u001b[0m\u001b[0;34m.\u001b[0m\u001b[0musecols\u001b[0m\u001b[0;34m\u001b[0m\u001b[0;34m\u001b[0m\u001b[0m\n\u001b[1;32m   2009\u001b[0m \u001b[0;34m\u001b[0m\u001b[0m\n\u001b[0;32m-> 2010\u001b[0;31m         \u001b[0mself\u001b[0m\u001b[0;34m.\u001b[0m\u001b[0m_reader\u001b[0m \u001b[0;34m=\u001b[0m \u001b[0mparsers\u001b[0m\u001b[0;34m.\u001b[0m\u001b[0mTextReader\u001b[0m\u001b[0;34m(\u001b[0m\u001b[0msrc\u001b[0m\u001b[0;34m,\u001b[0m \u001b[0;34m**\u001b[0m\u001b[0mkwds\u001b[0m\u001b[0;34m)\u001b[0m\u001b[0;34m\u001b[0m\u001b[0;34m\u001b[0m\u001b[0m\n\u001b[0m\u001b[1;32m   2011\u001b[0m         \u001b[0mself\u001b[0m\u001b[0;34m.\u001b[0m\u001b[0munnamed_cols\u001b[0m \u001b[0;34m=\u001b[0m \u001b[0mself\u001b[0m\u001b[0;34m.\u001b[0m\u001b[0m_reader\u001b[0m\u001b[0;34m.\u001b[0m\u001b[0munnamed_cols\u001b[0m\u001b[0;34m\u001b[0m\u001b[0;34m\u001b[0m\u001b[0m\n\u001b[1;32m   2012\u001b[0m \u001b[0;34m\u001b[0m\u001b[0m\n",
            "\u001b[0;32mpandas/_libs/parsers.pyx\u001b[0m in \u001b[0;36mpandas._libs.parsers.TextReader.__cinit__\u001b[0;34m()\u001b[0m\n",
            "\u001b[0;32mpandas/_libs/parsers.pyx\u001b[0m in \u001b[0;36mpandas._libs.parsers.TextReader._setup_parser_source\u001b[0;34m()\u001b[0m\n",
            "\u001b[0;31mFileNotFoundError\u001b[0m: [Errno 2] No such file or directory: '/content/drive/My Drive/career/Salesforce.csv'"
          ]
        }
      ]
    },
    {
      "cell_type": "markdown",
      "metadata": {
        "id": "a8ExUcNwV_7n"
      },
      "source": [
        "# **Playstation**"
      ]
    },
    {
      "cell_type": "code",
      "metadata": {
        "id": "z0H-lw3WeUfm",
        "colab": {
          "base_uri": "https://localhost:8080/",
          "height": 438
        },
        "outputId": "aec4aaf8-c28b-4a81-e294-a82bb60cb9c5"
      },
      "source": [
        "from random import seed\r\n",
        "from random import random\r\n",
        "import random\r\n",
        "\r\n",
        "path = \"/content/drive/My Drive/career/Playstation.csv\"\r\n",
        "#!ls \"/content/drive/My Drive/career\"\r\n",
        "df_bonus = pd.read_csv(path)\r\n",
        "Job = df_bonus['Jobs']\r\n",
        "Link = df_bonus['Application Links']\r\n",
        "\r\n",
        "random = random.randint(7,20)\r\n",
        "print('Copy and paste the following Playstation code to wordpress')\r\n",
        "print('Copy and paste the following Playstation code to wordpress')\r\n",
        "print('<ol>')\r\n",
        "\r\n",
        "\r\n",
        "\r\n",
        "if (len(df_bonus)<7):\r\n",
        "    \r\n",
        "  for i in range (len(df_bonus)):\r\n",
        "    print('<li><span style=\"color: #000000;\"><a style=\"color: #000000;\" href=\"'+ Link[i]+ '\"' +  'target=\"_blank\" rel=\"noopener\">' + Job[i] + '</a></span></li>')\r\n",
        "\r\n",
        "\r\n",
        "\r\n",
        "  \r\n",
        "else:\r\n",
        "    \r\n",
        "  for i in range (6):\r\n",
        "    print('<li><span style=\"color: #000000;\"><a style=\"color: #000000;\" href=\"'+ Link[i]+ '\"' +  'target=\"_blank\" rel=\"noopener\">' + Job[i] + '</a></span></li>')\r\n",
        "\r\n",
        "\r\n",
        "\r\n",
        "print('<li><a href=\"https://www.knorange.com/index.php/sony-playstation-career/\"target=\"_blank\" rel=\"noopener\">More...</a>')\r\n",
        "\r\n",
        "\r\n",
        "print('<ol>')\r\n",
        "print('<p style=\"padding-left: 40px; text-align: right;\">'+ '(Update: '+ Post_date +')</p>')\r\n",
        "print('<p style=\"padding-left: 40px; text-align: right;\">'+ str(random) + ' minutes ago'+ '</p>')"
      ],
      "execution_count": null,
      "outputs": [
        {
          "output_type": "error",
          "ename": "FileNotFoundError",
          "evalue": "ignored",
          "traceback": [
            "\u001b[0;31m---------------------------------------------------------------------------\u001b[0m",
            "\u001b[0;31mFileNotFoundError\u001b[0m                         Traceback (most recent call last)",
            "\u001b[0;32m<ipython-input-35-e85f2a4cb898>\u001b[0m in \u001b[0;36m<module>\u001b[0;34m()\u001b[0m\n\u001b[1;32m      5\u001b[0m \u001b[0mpath\u001b[0m \u001b[0;34m=\u001b[0m \u001b[0;34m\"/content/drive/My Drive/career/Playstation.csv\"\u001b[0m\u001b[0;34m\u001b[0m\u001b[0;34m\u001b[0m\u001b[0m\n\u001b[1;32m      6\u001b[0m \u001b[0;31m#!ls \"/content/drive/My Drive/career\"\u001b[0m\u001b[0;34m\u001b[0m\u001b[0;34m\u001b[0m\u001b[0;34m\u001b[0m\u001b[0m\n\u001b[0;32m----> 7\u001b[0;31m \u001b[0mdf_bonus\u001b[0m \u001b[0;34m=\u001b[0m \u001b[0mpd\u001b[0m\u001b[0;34m.\u001b[0m\u001b[0mread_csv\u001b[0m\u001b[0;34m(\u001b[0m\u001b[0mpath\u001b[0m\u001b[0;34m)\u001b[0m\u001b[0;34m\u001b[0m\u001b[0;34m\u001b[0m\u001b[0m\n\u001b[0m\u001b[1;32m      8\u001b[0m \u001b[0mJob\u001b[0m \u001b[0;34m=\u001b[0m \u001b[0mdf_bonus\u001b[0m\u001b[0;34m[\u001b[0m\u001b[0;34m'Jobs'\u001b[0m\u001b[0;34m]\u001b[0m\u001b[0;34m\u001b[0m\u001b[0;34m\u001b[0m\u001b[0m\n\u001b[1;32m      9\u001b[0m \u001b[0mLink\u001b[0m \u001b[0;34m=\u001b[0m \u001b[0mdf_bonus\u001b[0m\u001b[0;34m[\u001b[0m\u001b[0;34m'Application Links'\u001b[0m\u001b[0;34m]\u001b[0m\u001b[0;34m\u001b[0m\u001b[0;34m\u001b[0m\u001b[0m\n",
            "\u001b[0;32m/usr/local/lib/python3.6/dist-packages/pandas/io/parsers.py\u001b[0m in \u001b[0;36mread_csv\u001b[0;34m(filepath_or_buffer, sep, delimiter, header, names, index_col, usecols, squeeze, prefix, mangle_dupe_cols, dtype, engine, converters, true_values, false_values, skipinitialspace, skiprows, skipfooter, nrows, na_values, keep_default_na, na_filter, verbose, skip_blank_lines, parse_dates, infer_datetime_format, keep_date_col, date_parser, dayfirst, cache_dates, iterator, chunksize, compression, thousands, decimal, lineterminator, quotechar, quoting, doublequote, escapechar, comment, encoding, dialect, error_bad_lines, warn_bad_lines, delim_whitespace, low_memory, memory_map, float_precision)\u001b[0m\n\u001b[1;32m    686\u001b[0m     )\n\u001b[1;32m    687\u001b[0m \u001b[0;34m\u001b[0m\u001b[0m\n\u001b[0;32m--> 688\u001b[0;31m     \u001b[0;32mreturn\u001b[0m \u001b[0m_read\u001b[0m\u001b[0;34m(\u001b[0m\u001b[0mfilepath_or_buffer\u001b[0m\u001b[0;34m,\u001b[0m \u001b[0mkwds\u001b[0m\u001b[0;34m)\u001b[0m\u001b[0;34m\u001b[0m\u001b[0;34m\u001b[0m\u001b[0m\n\u001b[0m\u001b[1;32m    689\u001b[0m \u001b[0;34m\u001b[0m\u001b[0m\n\u001b[1;32m    690\u001b[0m \u001b[0;34m\u001b[0m\u001b[0m\n",
            "\u001b[0;32m/usr/local/lib/python3.6/dist-packages/pandas/io/parsers.py\u001b[0m in \u001b[0;36m_read\u001b[0;34m(filepath_or_buffer, kwds)\u001b[0m\n\u001b[1;32m    452\u001b[0m \u001b[0;34m\u001b[0m\u001b[0m\n\u001b[1;32m    453\u001b[0m     \u001b[0;31m# Create the parser.\u001b[0m\u001b[0;34m\u001b[0m\u001b[0;34m\u001b[0m\u001b[0;34m\u001b[0m\u001b[0m\n\u001b[0;32m--> 454\u001b[0;31m     \u001b[0mparser\u001b[0m \u001b[0;34m=\u001b[0m \u001b[0mTextFileReader\u001b[0m\u001b[0;34m(\u001b[0m\u001b[0mfp_or_buf\u001b[0m\u001b[0;34m,\u001b[0m \u001b[0;34m**\u001b[0m\u001b[0mkwds\u001b[0m\u001b[0;34m)\u001b[0m\u001b[0;34m\u001b[0m\u001b[0;34m\u001b[0m\u001b[0m\n\u001b[0m\u001b[1;32m    455\u001b[0m \u001b[0;34m\u001b[0m\u001b[0m\n\u001b[1;32m    456\u001b[0m     \u001b[0;32mif\u001b[0m \u001b[0mchunksize\u001b[0m \u001b[0;32mor\u001b[0m \u001b[0miterator\u001b[0m\u001b[0;34m:\u001b[0m\u001b[0;34m\u001b[0m\u001b[0;34m\u001b[0m\u001b[0m\n",
            "\u001b[0;32m/usr/local/lib/python3.6/dist-packages/pandas/io/parsers.py\u001b[0m in \u001b[0;36m__init__\u001b[0;34m(self, f, engine, **kwds)\u001b[0m\n\u001b[1;32m    946\u001b[0m             \u001b[0mself\u001b[0m\u001b[0;34m.\u001b[0m\u001b[0moptions\u001b[0m\u001b[0;34m[\u001b[0m\u001b[0;34m\"has_index_names\"\u001b[0m\u001b[0;34m]\u001b[0m \u001b[0;34m=\u001b[0m \u001b[0mkwds\u001b[0m\u001b[0;34m[\u001b[0m\u001b[0;34m\"has_index_names\"\u001b[0m\u001b[0;34m]\u001b[0m\u001b[0;34m\u001b[0m\u001b[0;34m\u001b[0m\u001b[0m\n\u001b[1;32m    947\u001b[0m \u001b[0;34m\u001b[0m\u001b[0m\n\u001b[0;32m--> 948\u001b[0;31m         \u001b[0mself\u001b[0m\u001b[0;34m.\u001b[0m\u001b[0m_make_engine\u001b[0m\u001b[0;34m(\u001b[0m\u001b[0mself\u001b[0m\u001b[0;34m.\u001b[0m\u001b[0mengine\u001b[0m\u001b[0;34m)\u001b[0m\u001b[0;34m\u001b[0m\u001b[0;34m\u001b[0m\u001b[0m\n\u001b[0m\u001b[1;32m    949\u001b[0m \u001b[0;34m\u001b[0m\u001b[0m\n\u001b[1;32m    950\u001b[0m     \u001b[0;32mdef\u001b[0m \u001b[0mclose\u001b[0m\u001b[0;34m(\u001b[0m\u001b[0mself\u001b[0m\u001b[0;34m)\u001b[0m\u001b[0;34m:\u001b[0m\u001b[0;34m\u001b[0m\u001b[0;34m\u001b[0m\u001b[0m\n",
            "\u001b[0;32m/usr/local/lib/python3.6/dist-packages/pandas/io/parsers.py\u001b[0m in \u001b[0;36m_make_engine\u001b[0;34m(self, engine)\u001b[0m\n\u001b[1;32m   1178\u001b[0m     \u001b[0;32mdef\u001b[0m \u001b[0m_make_engine\u001b[0m\u001b[0;34m(\u001b[0m\u001b[0mself\u001b[0m\u001b[0;34m,\u001b[0m \u001b[0mengine\u001b[0m\u001b[0;34m=\u001b[0m\u001b[0;34m\"c\"\u001b[0m\u001b[0;34m)\u001b[0m\u001b[0;34m:\u001b[0m\u001b[0;34m\u001b[0m\u001b[0;34m\u001b[0m\u001b[0m\n\u001b[1;32m   1179\u001b[0m         \u001b[0;32mif\u001b[0m \u001b[0mengine\u001b[0m \u001b[0;34m==\u001b[0m \u001b[0;34m\"c\"\u001b[0m\u001b[0;34m:\u001b[0m\u001b[0;34m\u001b[0m\u001b[0;34m\u001b[0m\u001b[0m\n\u001b[0;32m-> 1180\u001b[0;31m             \u001b[0mself\u001b[0m\u001b[0;34m.\u001b[0m\u001b[0m_engine\u001b[0m \u001b[0;34m=\u001b[0m \u001b[0mCParserWrapper\u001b[0m\u001b[0;34m(\u001b[0m\u001b[0mself\u001b[0m\u001b[0;34m.\u001b[0m\u001b[0mf\u001b[0m\u001b[0;34m,\u001b[0m \u001b[0;34m**\u001b[0m\u001b[0mself\u001b[0m\u001b[0;34m.\u001b[0m\u001b[0moptions\u001b[0m\u001b[0;34m)\u001b[0m\u001b[0;34m\u001b[0m\u001b[0;34m\u001b[0m\u001b[0m\n\u001b[0m\u001b[1;32m   1181\u001b[0m         \u001b[0;32melse\u001b[0m\u001b[0;34m:\u001b[0m\u001b[0;34m\u001b[0m\u001b[0;34m\u001b[0m\u001b[0m\n\u001b[1;32m   1182\u001b[0m             \u001b[0;32mif\u001b[0m \u001b[0mengine\u001b[0m \u001b[0;34m==\u001b[0m \u001b[0;34m\"python\"\u001b[0m\u001b[0;34m:\u001b[0m\u001b[0;34m\u001b[0m\u001b[0;34m\u001b[0m\u001b[0m\n",
            "\u001b[0;32m/usr/local/lib/python3.6/dist-packages/pandas/io/parsers.py\u001b[0m in \u001b[0;36m__init__\u001b[0;34m(self, src, **kwds)\u001b[0m\n\u001b[1;32m   2008\u001b[0m         \u001b[0mkwds\u001b[0m\u001b[0;34m[\u001b[0m\u001b[0;34m\"usecols\"\u001b[0m\u001b[0;34m]\u001b[0m \u001b[0;34m=\u001b[0m \u001b[0mself\u001b[0m\u001b[0;34m.\u001b[0m\u001b[0musecols\u001b[0m\u001b[0;34m\u001b[0m\u001b[0;34m\u001b[0m\u001b[0m\n\u001b[1;32m   2009\u001b[0m \u001b[0;34m\u001b[0m\u001b[0m\n\u001b[0;32m-> 2010\u001b[0;31m         \u001b[0mself\u001b[0m\u001b[0;34m.\u001b[0m\u001b[0m_reader\u001b[0m \u001b[0;34m=\u001b[0m \u001b[0mparsers\u001b[0m\u001b[0;34m.\u001b[0m\u001b[0mTextReader\u001b[0m\u001b[0;34m(\u001b[0m\u001b[0msrc\u001b[0m\u001b[0;34m,\u001b[0m \u001b[0;34m**\u001b[0m\u001b[0mkwds\u001b[0m\u001b[0;34m)\u001b[0m\u001b[0;34m\u001b[0m\u001b[0;34m\u001b[0m\u001b[0m\n\u001b[0m\u001b[1;32m   2011\u001b[0m         \u001b[0mself\u001b[0m\u001b[0;34m.\u001b[0m\u001b[0munnamed_cols\u001b[0m \u001b[0;34m=\u001b[0m \u001b[0mself\u001b[0m\u001b[0;34m.\u001b[0m\u001b[0m_reader\u001b[0m\u001b[0;34m.\u001b[0m\u001b[0munnamed_cols\u001b[0m\u001b[0;34m\u001b[0m\u001b[0;34m\u001b[0m\u001b[0m\n\u001b[1;32m   2012\u001b[0m \u001b[0;34m\u001b[0m\u001b[0m\n",
            "\u001b[0;32mpandas/_libs/parsers.pyx\u001b[0m in \u001b[0;36mpandas._libs.parsers.TextReader.__cinit__\u001b[0;34m()\u001b[0m\n",
            "\u001b[0;32mpandas/_libs/parsers.pyx\u001b[0m in \u001b[0;36mpandas._libs.parsers.TextReader._setup_parser_source\u001b[0;34m()\u001b[0m\n",
            "\u001b[0;31mFileNotFoundError\u001b[0m: [Errno 2] No such file or directory: '/content/drive/My Drive/career/Playstation.csv'"
          ]
        }
      ]
    },
    {
      "cell_type": "markdown",
      "metadata": {
        "id": "mq3NDvpJWffD"
      },
      "source": [
        "# **Accenture**"
      ]
    },
    {
      "cell_type": "code",
      "metadata": {
        "id": "pBxeKzzDWKk7",
        "colab": {
          "base_uri": "https://localhost:8080/"
        },
        "outputId": "e01703c6-c70a-403b-f711-ce6573efd281"
      },
      "source": [
        "from random import seed\r\n",
        "from random import random\r\n",
        "import random\r\n",
        "\r\n",
        "drive.mount('/content/drive')\r\n",
        "path = \"/content/drive/My Drive/career/Accenture.csv\"\r\n",
        "#!ls \"/content/drive/My Drive/career\"\r\n",
        "df_bonus = pd.read_csv(path)\r\n",
        "Job = df_bonus['Jobs']\r\n",
        "Link = df_bonus['Application Links']\r\n",
        "\r\n",
        "random = random.randint(7,20)\r\n",
        "print('Copy and paste the following Accenture code to wordpress')\r\n",
        "print('Copy and paste the following Accenture code to wordpress')\r\n",
        "print('<ol>')\r\n",
        "\r\n",
        "\r\n",
        "\r\n",
        "if (len(df_bonus)<7):\r\n",
        "    \r\n",
        "  for i in range (len(df_bonus)):\r\n",
        "    print('<li><span style=\"color: #000000;\"><a style=\"color: #000000;\" href=\"'+ Link[i]+ '\"' +  'target=\"_blank\" rel=\"noopener\">' + Job[i] + '</a></span></li>')\r\n",
        "\r\n",
        "\r\n",
        "\r\n",
        "  \r\n",
        "else:\r\n",
        "    \r\n",
        "  for i in range (6):\r\n",
        "    print('<li><span style=\"color: #000000;\"><a style=\"color: #000000;\" href=\"'+ Link[i]+ '\"' +  'target=\"_blank\" rel=\"noopener\">' + Job[i] + '</a></span></li>')\r\n",
        "\r\n",
        "\r\n",
        "\r\n",
        "print('<li><a href=\"https://www.knorange.com/index.php/accenture-plc-career/\"target=\"_blank\" rel=\"noopener\">More...</a>')\r\n",
        "\r\n",
        "\r\n",
        "print('<ol>')\r\n",
        "print('<p style=\"padding-left: 40px; text-align: right;\">'+ '(Update: '+ Post_date +')</p>')\r\n",
        "print('<p style=\"padding-left: 40px; text-align: right;\">'+ str(random) + ' minutes ago'+ '</p>')\r\n"
      ],
      "execution_count": null,
      "outputs": [
        {
          "output_type": "stream",
          "text": [
            "Drive already mounted at /content/drive; to attempt to forcibly remount, call drive.mount(\"/content/drive\", force_remount=True).\n",
            "Copy and paste the following Accenture code to wordpress\n",
            "Copy and paste the following Accenture code to wordpress\n",
            "<ol>\n",
            "<li><span style=\"color: #000000;\"><a style=\"color: #000000;\" href=\"https://www.accenture.com/us-en/careers/jobdetails?id=00856708_en&title=Client+Financial+Mgmt+Summer+Analyst+-+Atlanta%2c+Florham+Park%2c+Philadelphia\"target=\"_blank\" rel=\"noopener\">Client Financial Mgmt Summer Analyst - Atlanta, Florham Park, Philadelphia</a></span></li>\n",
            "<li><span style=\"color: #000000;\"><a style=\"color: #000000;\" href=\"https://www.accenture.com/us-en/careers/jobdetails?id=00859577_en&title=FY21+Corporate+Development+%26+Transaction+Services+Summer+Analyst+-+Atlanta%2c+Chicago%2c+Dallas+Or+NYC\"target=\"_blank\" rel=\"noopener\">FY21 Corporate Development & Transaction Services Summer Analyst - Atlanta, Chicago, Dallas Or NYC</a></span></li>\n",
            "<li><span style=\"color: #000000;\"><a style=\"color: #000000;\" href=\"https://www.accenture.com/us-en/careers/jobdetails?id=00895344_en&title=Federal+-+Junior+Java+Developer+Analyst\"target=\"_blank\" rel=\"noopener\">Federal - Junior Java Developer Analyst</a></span></li>\n",
            "<li><span style=\"color: #000000;\"><a style=\"color: #000000;\" href=\"https://www.accenture.com/us-en/careers/jobdetails?id=00895349_en&title=Federal+-+Entry+Level+Java+Developer+Associate\"target=\"_blank\" rel=\"noopener\">Federal - Entry Level Java Developer Associate</a></span></li>\n",
            "<li><span style=\"color: #000000;\"><a style=\"color: #000000;\" href=\"https://www.accenture.com/us-en/careers/jobdetails?id=00895356_en&title=Entry+Level+Digital+(ServiceNow)+Associate\"target=\"_blank\" rel=\"noopener\">Entry Level Digital (ServiceNow) Associate</a></span></li>\n",
            "<li><span style=\"color: #000000;\"><a style=\"color: #000000;\" href=\"https://www.accenture.com/us-en/careers/jobdetails?id=00895364_en&title=Federal+-+Entry+Level+Digital+(Salesforce)+Platform+Associate\"target=\"_blank\" rel=\"noopener\">Federal - Entry Level Digital (Salesforce) Platform Associate</a></span></li>\n",
            "<li><a href=\"https://www.knorange.com/index.php/accenture-plc-career/\"target=\"_blank\" rel=\"noopener\">More...</a>\n",
            "<ol>\n",
            "<p style=\"padding-left: 40px; text-align: right;\">(Update: Dec-26-2020)</p>\n",
            "<p style=\"padding-left: 40px; text-align: right;\">9 minutes ago</p>\n"
          ],
          "name": "stdout"
        }
      ]
    },
    {
      "cell_type": "markdown",
      "metadata": {
        "id": "FWNTpZJaWhEz"
      },
      "source": [
        "# **BCG**"
      ]
    },
    {
      "cell_type": "code",
      "metadata": {
        "id": "ho3h6fmkWLEA",
        "colab": {
          "base_uri": "https://localhost:8080/"
        },
        "outputId": "afbb0f71-0af9-417a-901b-188c5408b6fe"
      },
      "source": [
        "from random import seed\r\n",
        "from random import random\r\n",
        "import random\r\n",
        "\r\n",
        "drive.mount('/content/drive')\r\n",
        "path = \"/content/drive/My Drive/career/bcg.csv\"\r\n",
        "#!ls \"/content/drive/My Drive/career\"\r\n",
        "df_bonus = pd.read_csv(path)\r\n",
        "Job = df_bonus['Jobs']\r\n",
        "Link = df_bonus['Application Links']\r\n",
        "\r\n",
        "random = random.randint(7,20)\r\n",
        "print('Copy and paste the following bcg code to wordpress')\r\n",
        "print('Copy and paste the following bcg code to wordpress')\r\n",
        "print('<ol>')\r\n",
        "\r\n",
        "\r\n",
        "\r\n",
        "if (len(df_bonus)<7):\r\n",
        "    \r\n",
        "  for i in range (len(df_bonus)):\r\n",
        "    print('<li><span style=\"color: #000000;\"><a style=\"color: #000000;\" href=\"'+ Link[i]+ '\"' +  'target=\"_blank\" rel=\"noopener\">' + Job[i] + '</a></span></li>')\r\n",
        "\r\n",
        "\r\n",
        "\r\n",
        "  \r\n",
        "else:\r\n",
        "    \r\n",
        "  for i in range (6):\r\n",
        "    print('<li><span style=\"color: #000000;\"><a style=\"color: #000000;\" href=\"'+ Link[i]+ '\"' +  'target=\"_blank\" rel=\"noopener\">' + Job[i] + '</a></span></li>')\r\n",
        "\r\n",
        "\r\n",
        "\r\n",
        "print('<li><a href=\"https://www.knorange.com/index.php/boston-consulting-group-career/\"target=\"_blank\" rel=\"noopener\">More...</a>')\r\n",
        "\r\n",
        "\r\n",
        "print('<ol>')\r\n",
        "print('<p style=\"padding-left: 40px; text-align: right;\">'+ '(Update: '+ Post_date +')</p>')\r\n",
        "print('<p style=\"padding-left: 40px; text-align: right;\">'+ str(random) + ' minutes ago'+ '</p>')\r\n"
      ],
      "execution_count": null,
      "outputs": [
        {
          "output_type": "stream",
          "text": [
            "Drive already mounted at /content/drive; to attempt to forcibly remount, call drive.mount(\"/content/drive\", force_remount=True).\n",
            "Copy and paste the following bcg code to wordpress\n",
            "Copy and paste the following bcg code to wordpress\n",
            "<ol>\n",
            "<li><span style=\"color: #000000;\"><a style=\"color: #000000;\" href=\"https://careers.bcg.com/job/10013667/Consulting-Internship\"target=\"_blank\" rel=\"noopener\">Consulting - Internship</a></span></li>\n",
            "<li><span style=\"color: #000000;\"><a style=\"color: #000000;\" href=\"https://careers.bcg.com/job/10020535/BCG-GAMMA-Consulting-Internship\"target=\"_blank\" rel=\"noopener\">BCG GAMMA Consulting – Internship</a></span></li>\n",
            "<li><span style=\"color: #000000;\"><a style=\"color: #000000;\" href=\"https://careers.bcg.com/job/10038748/Internship-Campaign-Turkey\"target=\"_blank\" rel=\"noopener\">Internship Campaign - Turkey</a></span></li>\n",
            "<li><span style=\"color: #000000;\"><a style=\"color: #000000;\" href=\"https://careers.bcg.com/job/10033793/Digital-Strategy-Internship-DigitalBCG\"target=\"_blank\" rel=\"noopener\">Digital Strategy Internship (DigitalBCG)</a></span></li>\n",
            "<li><span style=\"color: #000000;\"><a style=\"color: #000000;\" href=\"https://careers.bcg.com/job/10031495/Visiting-Software-Engineer-internship\"target=\"_blank\" rel=\"noopener\">Visiting Software Engineer (internship)</a></span></li>\n",
            "<li><span style=\"color: #000000;\"><a style=\"color: #000000;\" href=\"https://careers.bcg.com/job/4964861002/Data-Scientist-Intern-Summer-2021\"target=\"_blank\" rel=\"noopener\">Data Scientist Intern (Summer 2021)</a></span></li>\n",
            "<li><a href=\"https://www.knorange.com/index.php/boston-consulting-group-career/\"target=\"_blank\" rel=\"noopener\">More...</a>\n",
            "<ol>\n",
            "<p style=\"padding-left: 40px; text-align: right;\">(Update: Dec-26-2020)</p>\n",
            "<p style=\"padding-left: 40px; text-align: right;\">13 minutes ago</p>\n"
          ],
          "name": "stdout"
        }
      ]
    },
    {
      "cell_type": "markdown",
      "metadata": {
        "id": "S1NkcIG4WiKd"
      },
      "source": [
        "# **Deloittee**"
      ]
    },
    {
      "cell_type": "code",
      "metadata": {
        "id": "jK-tH1b8WLQx",
        "colab": {
          "base_uri": "https://localhost:8080/"
        },
        "outputId": "4a966766-bd6a-44db-8547-25520bf5a164"
      },
      "source": [
        "\r\n",
        "from random import seed\r\n",
        "from random import random\r\n",
        "import random\r\n",
        "\r\n",
        "drive.mount('/content/drive')\r\n",
        "path = \"/content/drive/My Drive/career/Deloitte.csv\"\r\n",
        "#!ls \"/content/drive/My Drive/career\"\r\n",
        "df_bonus = pd.read_csv(path)\r\n",
        "Job = df_bonus['Jobs']\r\n",
        "Link = df_bonus['Application Links']\r\n",
        "\r\n",
        "random = random.randint(7,20)\r\n",
        "print('Copy and paste the following Deloitte code to wordpress')\r\n",
        "print('Copy and paste the following Deloitte code to wordpress')\r\n",
        "print('<ol>')\r\n",
        "\r\n",
        "\r\n",
        "\r\n",
        "if (len(df_bonus)<7):\r\n",
        "    \r\n",
        "  for i in range (len(df_bonus)):\r\n",
        "    print('<li><span style=\"color: #000000;\"><a style=\"color: #000000;\" href=\"'+ Link[i]+ '\"' +  'target=\"_blank\" rel=\"noopener\">' + Job[i] + '</a></span></li>')\r\n",
        "\r\n",
        "\r\n",
        "\r\n",
        "  \r\n",
        "else:\r\n",
        "    \r\n",
        "  for i in range (6):\r\n",
        "    print('<li><span style=\"color: #000000;\"><a style=\"color: #000000;\" href=\"'+ Link[i]+ '\"' +  'target=\"_blank\" rel=\"noopener\">' + Job[i] + '</a></span></li>')\r\n",
        "\r\n",
        "\r\n",
        "\r\n",
        "print('<li><a href=\"https://www.knorange.com/index.php/deloitte-career/\"target=\"_blank\" rel=\"noopener\">More...</a>')\r\n",
        "\r\n",
        "\r\n",
        "print('<ol>')\r\n",
        "print('<p style=\"padding-left: 40px; text-align: right;\">'+ '(Update: '+ Post_date +')</p>')\r\n",
        "print('<p style=\"padding-left: 40px; text-align: right;\">'+ str(random) + ' minutes ago'+ '</p>')\r\n"
      ],
      "execution_count": null,
      "outputs": [
        {
          "output_type": "stream",
          "text": [
            "Drive already mounted at /content/drive; to attempt to forcibly remount, call drive.mount(\"/content/drive\", force_remount=True).\n",
            "Copy and paste the following Deloitte code to wordpress\n",
            "Copy and paste the following Deloitte code to wordpress\n",
            "<ol>\n",
            "<li><span style=\"color: #000000;\"><a style=\"color: #000000;\" href=\"https://apply.deloitte.com/careers/JobDetail/Audit-Assurance-Analytics-Intern-FY21/2314\"target=\"_blank\" rel=\"noopener\">Audit & Assurance Analytics Intern</a></span></li>\n",
            "<li><span style=\"color: #000000;\"><a style=\"color: #000000;\" href=\"https://apply.deloitte.com/careers/JobDetail/Audit-Assurance-Analytics-Specialist-FY21/2006\"target=\"_blank\" rel=\"noopener\">Audit & Assurance Analytics Specialist</a></span></li>\n",
            "<li><span style=\"color: #000000;\"><a style=\"color: #000000;\" href=\"https://apply.deloitte.com/careers/JobDetail/Audit-Assurance-Delivery-Assistant-Full-Time-FY21/2315\"target=\"_blank\" rel=\"noopener\">Audit & Assurance Delivery Assistant (Full Time)</a></span></li>\n",
            "<li><span style=\"color: #000000;\"><a style=\"color: #000000;\" href=\"https://apply.deloitte.com/careers/JobDetail/Audit-Assurance-Part-Time-Talent-Intern-FY21/2317\"target=\"_blank\" rel=\"noopener\">Audit & Assurance Part-Time Talent Intern</a></span></li>\n",
            "<li><span style=\"color: #000000;\"><a style=\"color: #000000;\" href=\"https://apply.deloitte.com/careers/JobDetail/Audit-Assurance-Staff-Full-Time-FY21/2008\"target=\"_blank\" rel=\"noopener\">Audit & Assurance Staff Full Time</a></span></li>\n",
            "<li><span style=\"color: #000000;\"><a style=\"color: #000000;\" href=\"https://apply.deloitte.com/careers/JobDetail/Audit-Assurance-Staff-Full-Time-Japanese-Services-Group-FY21/2318\"target=\"_blank\" rel=\"noopener\">Audit & Assurance Staff Full Time (Japanese Services Group)</a></span></li>\n",
            "<li><a href=\"https://www.knorange.com/index.php/deloitte-career/\"target=\"_blank\" rel=\"noopener\">More...</a>\n",
            "<ol>\n",
            "<p style=\"padding-left: 40px; text-align: right;\">(Update: Dec-26-2020)</p>\n",
            "<p style=\"padding-left: 40px; text-align: right;\">16 minutes ago</p>\n"
          ],
          "name": "stdout"
        }
      ]
    },
    {
      "cell_type": "markdown",
      "metadata": {
        "id": "5EsQsQx1Wks-"
      },
      "source": [
        "# **Mckinesy**"
      ]
    },
    {
      "cell_type": "code",
      "metadata": {
        "id": "Ufk7VM2LWLTq",
        "colab": {
          "base_uri": "https://localhost:8080/"
        },
        "outputId": "4e074129-a750-4824-864f-c16557226f4e"
      },
      "source": [
        "\r\n",
        "\r\n",
        "\r\n",
        "\r\n",
        "\r\n",
        "from random import seed\r\n",
        "from random import random\r\n",
        "import random\r\n",
        "\r\n",
        "drive.mount('/content/drive')\r\n",
        "path = \"/content/drive/My Drive/career/mckinsey.csv\"\r\n",
        "#!ls \"/content/drive/My Drive/career\"\r\n",
        "df_bonus = pd.read_csv(path)\r\n",
        "Job = df_bonus['Jobs']\r\n",
        "Link = df_bonus['Application Links']\r\n",
        "\r\n",
        "random = random.randint(7,20)\r\n",
        "print('Copy and paste the following mckinsey code to wordpress')\r\n",
        "print('Copy and paste the following mckinsey code to wordpress')\r\n",
        "print('<ol>')\r\n",
        "\r\n",
        "\r\n",
        "\r\n",
        "if (len(df_bonus)<7):\r\n",
        "    \r\n",
        "  for i in range (len(df_bonus)):\r\n",
        "    print('<li><span style=\"color: #000000;\"><a style=\"color: #000000;\" href=\"'+ Link[i]+ '\"' +  'target=\"_blank\" rel=\"noopener\">' + Job[i] + '</a></span></li>')\r\n",
        "\r\n",
        "\r\n",
        "\r\n",
        "  \r\n",
        "else:\r\n",
        "    \r\n",
        "  for i in range (6):\r\n",
        "    print('<li><span style=\"color: #000000;\"><a style=\"color: #000000;\" href=\"'+ Link[i]+ '\"' +  'target=\"_blank\" rel=\"noopener\">' + Job[i] + '</a></span></li>')\r\n",
        "\r\n",
        "\r\n",
        "\r\n",
        "print('<li><a href=\"https://www.knorange.com/index.php/mckinsey-company-career/\"target=\"_blank\" rel=\"noopener\">More...</a>')\r\n",
        "\r\n",
        "\r\n",
        "print('<ol>')\r\n",
        "print('<p style=\"padding-left: 40px; text-align: right;\">'+ '(Update: '+ Post_date +')</p>')\r\n",
        "print('<p style=\"padding-left: 40px; text-align: right;\">'+ str(random) + ' minutes ago'+ '</p>')\r\n"
      ],
      "execution_count": null,
      "outputs": [
        {
          "output_type": "stream",
          "text": [
            "Drive already mounted at /content/drive; to attempt to forcibly remount, call drive.mount(\"/content/drive\", force_remount=True).\n",
            "Copy and paste the following mckinsey code to wordpress\n",
            "Copy and paste the following mckinsey code to wordpress\n",
            "<ol>\n",
            "<li><span style=\"color: #000000;\"><a style=\"color: #000000;\" href=\"https://www.mckinsey.com/careers/search-jobs/jobs/firstyearsummerbusinessanalyst-45072\"target=\"_blank\" rel=\"noopener\">First Year Summer Business Analyst</a></span></li>\n",
            "<li><span style=\"color: #000000;\"><a style=\"color: #000000;\" href=\"https://www.mckinsey.com/careers/search-jobs/jobs/executiveassistant2020-2021graduates-38776\"target=\"_blank\" rel=\"noopener\">Executive Assistant (2020-2021 Graduates)</a></span></li>\n",
            "<li><span style=\"color: #000000;\"><a style=\"color: #000000;\" href=\"https://www.mckinsey.com/careers/search-jobs/jobs/datascienceanalyst-mckinseyanalyticsquantumblackcampusstudent-41573\"target=\"_blank\" rel=\"noopener\">Data Science Analyst - McKinsey Analytics / QuantumBlack  (Campus Student)</a></span></li>\n",
            "<li><span style=\"color: #000000;\"><a style=\"color: #000000;\" href=\"https://www.mckinsey.com/careers/search-jobs/jobs/analyst-capabilitiesinsightsuscanadapublicsectorresearch-45838\"target=\"_blank\" rel=\"noopener\">Analyst - Capabilities & Insights , US/Canada Public Sector Research</a></span></li>\n",
            "<li><span style=\"color: #000000;\"><a style=\"color: #000000;\" href=\"https://www.mckinsey.com/careers/search-jobs/jobs/instructionaldesigner-mckinseyacademy-37113\"target=\"_blank\" rel=\"noopener\">Instructional Designer - McKinsey Academy</a></span></li>\n",
            "<li><span style=\"color: #000000;\"><a style=\"color: #000000;\" href=\"https://www.mckinsey.com/careers/search-jobs/jobs/cyberspecialist-22283\"target=\"_blank\" rel=\"noopener\">Cyber Specialist</a></span></li>\n",
            "<li><a href=\"https://www.knorange.com/index.php/mckinsey-company-career/\"target=\"_blank\" rel=\"noopener\">More...</a>\n",
            "<ol>\n",
            "<p style=\"padding-left: 40px; text-align: right;\">(Update: Dec-26-2020)</p>\n",
            "<p style=\"padding-left: 40px; text-align: right;\">19 minutes ago</p>\n"
          ],
          "name": "stdout"
        }
      ]
    },
    {
      "cell_type": "markdown",
      "metadata": {
        "id": "_Gv7zV-TWnBE"
      },
      "source": [
        "# **Citi group**"
      ]
    },
    {
      "cell_type": "code",
      "metadata": {
        "id": "w__HL_eZWLWb",
        "colab": {
          "base_uri": "https://localhost:8080/"
        },
        "outputId": "bce3bc62-37e2-4441-af75-83e037c58546"
      },
      "source": [
        "\r\n",
        "from random import seed\r\n",
        "from random import random\r\n",
        "import random\r\n",
        "\r\n",
        "drive.mount('/content/drive')\r\n",
        "path = \"/content/drive/My Drive/career/Citi.csv\"\r\n",
        "#!ls \"/content/drive/My Drive/career\"\r\n",
        "df_bonus = pd.read_csv(path)\r\n",
        "Job = df_bonus['Jobs']\r\n",
        "Link = df_bonus['Application Links']\r\n",
        "\r\n",
        "random = random.randint(7,20)\r\n",
        "print('Copy and paste the following Citi code to wordpress')\r\n",
        "print('Copy and paste the following Citi code to wordpress')\r\n",
        "print('<ol>')\r\n",
        "\r\n",
        "\r\n",
        "\r\n",
        "if (len(df_bonus)<7):\r\n",
        "    \r\n",
        "  for i in range (len(df_bonus)):\r\n",
        "    print('<li><span style=\"color: #000000;\"><a style=\"color: #000000;\" href=\"'+ Link[i]+ '\"' +  'target=\"_blank\" rel=\"noopener\">' + Job[i] + '</a></span></li>')\r\n",
        "\r\n",
        "\r\n",
        "\r\n",
        "  \r\n",
        "else:\r\n",
        "    \r\n",
        "  for i in range (6):\r\n",
        "    print('<li><span style=\"color: #000000;\"><a style=\"color: #000000;\" href=\"'+ Link[i]+ '\"' +  'target=\"_blank\" rel=\"noopener\">' + Job[i] + '</a></span></li>')\r\n",
        "\r\n",
        "\r\n",
        "\r\n",
        "print('<li><a href=\"https://www.knorange.com/index.php/citigroupcareer/\"target=\"_blank\" rel=\"noopener\">More...</a>')\r\n",
        "\r\n",
        "\r\n",
        "print('<ol>')\r\n",
        "print('<p style=\"padding-left: 40px; text-align: right;\">'+ '(Update: '+ Post_date +')</p>')\r\n",
        "print('<p style=\"padding-left: 40px; text-align: right;\">'+ str(random) + ' minutes ago'+ '</p>')\r\n"
      ],
      "execution_count": null,
      "outputs": [
        {
          "output_type": "stream",
          "text": [
            "Drive already mounted at /content/drive; to attempt to forcibly remount, call drive.mount(\"/content/drive\", force_remount=True).\n",
            "Copy and paste the following Citi code to wordpress\n",
            "Copy and paste the following Citi code to wordpress\n",
            "<ol>\n",
            "<li><span style=\"color: #000000;\"><a style=\"color: #000000;\" href=\"https://jobs.citi.com/job/tampa/business-intermediate-analyst-tampa-c11/287/18345890\"target=\"_blank\" rel=\"noopener\">Business Intermediate Analyst-TAMPA C11</a></span></li>\n",
            "<li><span style=\"color: #000000;\"><a style=\"color: #000000;\" href=\"https://jobs.citi.com/job/new-york/investment-banking-analyst-latam/287/18339351\"target=\"_blank\" rel=\"noopener\">Investment Banking Analyst Latam</a></span></li>\n",
            "<li><span style=\"color: #000000;\"><a style=\"color: #000000;\" href=\"https://jobs.citi.com/job/irving/assistant-vice-president-credit-portfolio-sr-analyst/287/18306384\"target=\"_blank\" rel=\"noopener\">Assistant Vice President, Credit Portfolio Sr Analyst</a></span></li>\n",
            "<li><span style=\"color: #000000;\"><a style=\"color: #000000;\" href=\"https://jobs.citi.com/job/sioux-falls/avp-cx-insights-management-senior-analyst/287/18164398\"target=\"_blank\" rel=\"noopener\">AVP, CX Insights Management Senior Analyst</a></span></li>\n",
            "<li><span style=\"color: #000000;\"><a style=\"color: #000000;\" href=\"https://jobs.citi.com/job/irving/application-support-manager-irving-tx-c12-avp-r2045170-r2045181/287/18300365\"target=\"_blank\" rel=\"noopener\">Application Support Manager - Irving-TX - C12/AVP (R2045170; R2045181)</a></span></li>\n",
            "<li><span style=\"color: #000000;\"><a style=\"color: #000000;\" href=\"https://jobs.citi.com/job/o-fallon/document-support-specialist-2-imaging-o-fallon-mo/287/18287855\"target=\"_blank\" rel=\"noopener\">Document Support Specialist 2 -  Imaging - O'Fallon, MO</a></span></li>\n",
            "<li><a href=\"https://www.knorange.com/index.php/citigroupcareer/\"target=\"_blank\" rel=\"noopener\">More...</a>\n",
            "<ol>\n",
            "<p style=\"padding-left: 40px; text-align: right;\">(Update: Dec-26-2020)</p>\n",
            "<p style=\"padding-left: 40px; text-align: right;\">20 minutes ago</p>\n"
          ],
          "name": "stdout"
        }
      ]
    },
    {
      "cell_type": "markdown",
      "metadata": {
        "id": "sfoGYGnbWpgf"
      },
      "source": [
        "# **Citadel internship**"
      ]
    },
    {
      "cell_type": "code",
      "metadata": {
        "id": "TzwdaG-NWLZM",
        "colab": {
          "base_uri": "https://localhost:8080/"
        },
        "outputId": "33c2b3ae-e3a0-4e48-d303-5b4c1cd83860"
      },
      "source": [
        "from random import seed\r\n",
        "from random import random\r\n",
        "import random\r\n",
        "\r\n",
        "drive.mount('/content/drive')\r\n",
        "path = \"/content/drive/My Drive/career/Citadel.csv\"\r\n",
        "#!ls \"/content/drive/My Drive/career\"\r\n",
        "df_bonus = pd.read_csv(path)\r\n",
        "Job = df_bonus['Jobs']\r\n",
        "Link = df_bonus['Application Links']\r\n",
        "\r\n",
        "random = random.randint(7,20)\r\n",
        "print('Copy and paste the following Citade internship code to wordpress')\r\n",
        "print('Copy and paste the following Citade internship code to wordpress')\r\n",
        "print('<ol>')\r\n",
        "\r\n",
        "\r\n",
        "\r\n",
        "if (len(df_bonus)<7):\r\n",
        "    \r\n",
        "  for i in range (len(df_bonus)):\r\n",
        "    print('<li><span style=\"color: #000000;\"><a style=\"color: #000000;\" href=\"'+ Link[i]+ '\"' +  'target=\"_blank\" rel=\"noopener\">' + Job[i] + '</a></span></li>')\r\n",
        "\r\n",
        "\r\n",
        "\r\n",
        "  \r\n",
        "else:\r\n",
        "    \r\n",
        "  for i in range (6):\r\n",
        "    print('<li><span style=\"color: #000000;\"><a style=\"color: #000000;\" href=\"'+ Link[i]+ '\"' +  'target=\"_blank\" rel=\"noopener\">' + Job[i] + '</a></span></li>')\r\n",
        "\r\n",
        "\r\n",
        "\r\n",
        "print('<li><a href=\"https://www.knorange.com/index.php/citadel-investment-group-career/\"target=\"_blank\" rel=\"noopener\">More...</a>')\r\n",
        "\r\n",
        "\r\n",
        "print('<ol>')\r\n",
        "print('<p style=\"padding-left: 40px; text-align: right;\">'+ '(Update: '+ Post_date +')</p>')\r\n",
        "print('<p style=\"padding-left: 40px; text-align: right;\">'+ str(random) + ' minutes ago'+ '</p>')\r\n"
      ],
      "execution_count": null,
      "outputs": [
        {
          "output_type": "stream",
          "text": [
            "Drive already mounted at /content/drive; to attempt to forcibly remount, call drive.mount(\"/content/drive\", force_remount=True).\n",
            "Copy and paste the following Citade internship code to wordpress\n",
            "Copy and paste the following Citade internship code to wordpress\n",
            "<ol>\n",
            "<li><span style=\"color: #000000;\"><a style=\"color: #000000;\" href=\"https://www.citadel.com/careers/details/accounting-finance-internship-europe/\"target=\"_blank\" rel=\"noopener\">Accounting & Finance Internship (Europe)</a></span></li>\n",
            "<li><span style=\"color: #000000;\"><a style=\"color: #000000;\" href=\"https://www.citadel.com/careers/details/compute-engineering-internship/\"target=\"_blank\" rel=\"noopener\">Compute Engineering Internship</a></span></li>\n",
            "<li><span style=\"color: #000000;\"><a style=\"color: #000000;\" href=\"https://www.citadel.com/careers/details/information-security-engineering-internship/\"target=\"_blank\" rel=\"noopener\">Information Security Engineering Internship</a></span></li>\n",
            "<li><span style=\"color: #000000;\"><a style=\"color: #000000;\" href=\"https://www.citadel.com/careers/details/it-infrastructure-operations-internship/\"target=\"_blank\" rel=\"noopener\">IT Infrastructure Operations Internship</a></span></li>\n",
            "<li><span style=\"color: #000000;\"><a style=\"color: #000000;\" href=\"https://www.citadel.com/careers/details/network-engineering-internship/\"target=\"_blank\" rel=\"noopener\">Network Engineering Internship</a></span></li>\n",
            "<li><span style=\"color: #000000;\"><a style=\"color: #000000;\" href=\"https://www.citadel.com/careers/details/operations-internship-europe/\"target=\"_blank\" rel=\"noopener\">Operations Internship (Europe)</a></span></li>\n",
            "<li><a href=\"https://www.knorange.com/index.php/citadel-investment-group-career/\"target=\"_blank\" rel=\"noopener\">More...</a>\n",
            "<ol>\n",
            "<p style=\"padding-left: 40px; text-align: right;\">(Update: Dec-26-2020)</p>\n",
            "<p style=\"padding-left: 40px; text-align: right;\">7 minutes ago</p>\n"
          ],
          "name": "stdout"
        }
      ]
    },
    {
      "cell_type": "markdown",
      "metadata": {
        "id": "eFkAmPSUWsHm"
      },
      "source": [
        "# **Citadel Recent graduate**"
      ]
    },
    {
      "cell_type": "code",
      "metadata": {
        "id": "BpEiock2WLbq",
        "colab": {
          "base_uri": "https://localhost:8080/"
        },
        "outputId": "6851dfb6-2316-4e9f-a41c-60aa2ff59f26"
      },
      "source": [
        "from random import seed\r\n",
        "from random import random\r\n",
        "import random\r\n",
        "\r\n",
        "drive.mount('/content/drive')\r\n",
        "path = \"/content/drive/My Drive/career/Citade2.csv\"\r\n",
        "#!ls \"/content/drive/My Drive/career\"\r\n",
        "df_bonus = pd.read_csv(path)\r\n",
        "Job = df_bonus['Jobs']\r\n",
        "Link = df_bonus['Application Links']\r\n",
        "\r\n",
        "random = random.randint(7,20)\r\n",
        "print('Copy and paste the following Citade2(Recent Graduate) code to wordpress')\r\n",
        "print('Copy and paste the following Citade2 (Recent Graduate) code to wordpress')\r\n",
        "print('<ol>')\r\n",
        "\r\n",
        "\r\n",
        "\r\n",
        "if (len(df_bonus)<7):\r\n",
        "    \r\n",
        "  for i in range (len(df_bonus)):\r\n",
        "    print('<li><span style=\"color: #000000;\"><a style=\"color: #000000;\" href=\"'+ Link[i]+ '\"' +  'target=\"_blank\" rel=\"noopener\">' + Job[i] + '</a></span></li>')\r\n",
        "\r\n",
        "\r\n",
        "\r\n",
        "  \r\n",
        "else:\r\n",
        "    \r\n",
        "  for i in range (6):\r\n",
        "    print('<li><span style=\"color: #000000;\"><a style=\"color: #000000;\" href=\"'+ Link[i]+ '\"' +  'target=\"_blank\" rel=\"noopener\">' + Job[i] + '</a></span></li>')\r\n",
        "\r\n",
        "\r\n",
        "\r\n",
        "print('<li><a href=\"https://www.knorange.com/citadel-investment-group-career-recent-graduate/\"target=\"_blank\" rel=\"noopener\">More...</a>')\r\n",
        "\r\n",
        "\r\n",
        "print('<ol>')\r\n",
        "print('<p style=\"padding-left: 40px; text-align: right;\">'+ '(Update: '+ Post_date +')</p>')\r\n",
        "print('<p style=\"padding-left: 40px; text-align: right;\">'+ str(random) + ' minutes ago'+ '</p>')\r\n"
      ],
      "execution_count": null,
      "outputs": [
        {
          "output_type": "stream",
          "text": [
            "Drive already mounted at /content/drive; to attempt to forcibly remount, call drive.mount(\"/content/drive\", force_remount=True).\n",
            "Copy and paste the following Citade2(Recent Graduate) code to wordpress\n",
            "Copy and paste the following Citade2 (Recent Graduate) code to wordpress\n",
            "<ol>\n",
            "<li><span style=\"color: #000000;\"><a style=\"color: #000000;\" href=\"https://www.citadel.com/careers/details/quantitative-researcher-full-time-asia/\"target=\"_blank\" rel=\"noopener\">Quantitative Researcher – Full Time (Asia)</a></span></li>\n",
            "<li><span style=\"color: #000000;\"><a style=\"color: #000000;\" href=\"https://www.citadel.com/careers/details/quantitative-researcher-full-time-europe/\"target=\"_blank\" rel=\"noopener\">Quantitative Researcher – Full Time (Europe)</a></span></li>\n",
            "<li><span style=\"color: #000000;\"><a style=\"color: #000000;\" href=\"https://www.citadel.com/careers/details/quantitative-researcher-full-time-us-2/\"target=\"_blank\" rel=\"noopener\">Quantitative Researcher – Full Time (US)</a></span></li>\n",
            "<li><span style=\"color: #000000;\"><a style=\"color: #000000;\" href=\"https://www.citadel.com/careers/details/software-engineering-program-full-time-asia/\"target=\"_blank\" rel=\"noopener\">Software Engineering Program – Full Time (Asia)</a></span></li>\n",
            "<li><span style=\"color: #000000;\"><a style=\"color: #000000;\" href=\"https://www.citadel.com/careers/details/software-engineering-rotation-program-full-time-europe/\"target=\"_blank\" rel=\"noopener\">Software Engineering Rotation Program – Full Time (Europe)</a></span></li>\n",
            "<li><span style=\"color: #000000;\"><a style=\"color: #000000;\" href=\"https://www.citadel.com/careers/details/trader-full-time-europe/\"target=\"_blank\" rel=\"noopener\">Trader – Full Time (Europe)</a></span></li>\n",
            "<li><a href=\"https://www.knorange.com/citadel-investment-group-career-recent-graduate/\"target=\"_blank\" rel=\"noopener\">More...</a>\n",
            "<ol>\n",
            "<p style=\"padding-left: 40px; text-align: right;\">(Update: Dec-26-2020)</p>\n",
            "<p style=\"padding-left: 40px; text-align: right;\">20 minutes ago</p>\n"
          ],
          "name": "stdout"
        }
      ]
    },
    {
      "cell_type": "markdown",
      "metadata": {
        "id": "M97JgrsRWuVZ"
      },
      "source": [
        "# **Deutsche**"
      ]
    },
    {
      "cell_type": "code",
      "metadata": {
        "id": "eBUNdjkuWLd_",
        "colab": {
          "base_uri": "https://localhost:8080/"
        },
        "outputId": "1b971f82-62da-4b8a-eec5-9423b767c884"
      },
      "source": [
        "\r\n",
        "\r\n",
        "from random import seed\r\n",
        "from random import random\r\n",
        "import random\r\n",
        "\r\n",
        "drive.mount('/content/drive')\r\n",
        "path = \"/content/drive/My Drive/career/Deutsche.csv\"\r\n",
        "#!ls \"/content/drive/My Drive/career\"\r\n",
        "df_bonus = pd.read_csv(path)\r\n",
        "Job = df_bonus['Jobs']\r\n",
        "Link = df_bonus['Application Links']\r\n",
        "\r\n",
        "random = random.randint(7,20)\r\n",
        "print('Copy and paste the following Deutsche code to wordpress')\r\n",
        "print('Copy and paste the following Deutsche code to wordpress')\r\n",
        "print('<ol>')\r\n",
        "\r\n",
        "\r\n",
        "\r\n",
        "if (len(df_bonus)<7):\r\n",
        "    \r\n",
        "  for i in range (len(df_bonus)):\r\n",
        "    print('<li><span style=\"color: #000000;\"><a style=\"color: #000000;\" href=\"'+ Link[i]+ '\"' +  'target=\"_blank\" rel=\"noopener\">' + Job[i] + '</a></span></li>')\r\n",
        "\r\n",
        "\r\n",
        "\r\n",
        "  \r\n",
        "else:\r\n",
        "    \r\n",
        "  for i in range (6):\r\n",
        "    print('<li><span style=\"color: #000000;\"><a style=\"color: #000000;\" href=\"'+ Link[i]+ '\"' +  'target=\"_blank\" rel=\"noopener\">' + Job[i] + '</a></span></li>')\r\n",
        "\r\n",
        "\r\n",
        "\r\n",
        "print('<li><a href=\"https://www.knorange.com/index.php/deutsche-bank-career/\"target=\"_blank\" rel=\"noopener\">More...</a>')\r\n",
        "\r\n",
        "\r\n",
        "print('<ol>')\r\n",
        "print('<p style=\"padding-left: 40px; text-align: right;\">'+ '(Update: '+ Post_date +')</p>')\r\n",
        "print('<p style=\"padding-left: 40px; text-align: right;\">'+ str(random) + ' minutes ago'+ '</p>')\r\n"
      ],
      "execution_count": null,
      "outputs": [
        {
          "output_type": "stream",
          "text": [
            "Drive already mounted at /content/drive; to attempt to forcibly remount, call drive.mount(\"/content/drive\", force_remount=True).\n",
            "Copy and paste the following Deutsche code to wordpress\n",
            "Copy and paste the following Deutsche code to wordpress\n",
            "<ol>\n",
            "<li><span style=\"color: #000000;\"><a style=\"color: #000000;\" href=\"http://db.recsolu.com/external/requisitions/suAoHyEFhTLDUsy0ZXQ4gw\"target=\"_blank\" rel=\"noopener\">Deutsche Bank dbAchieve Programme – Corporate Bank – New York – 2021</a></span></li>\n",
            "<li><span style=\"color: #000000;\"><a style=\"color: #000000;\" href=\"http://db.recsolu.com/external/requisitions/rN59FfsgjEin39sQhTvTfg\"target=\"_blank\" rel=\"noopener\">Deutsche Bank Analyst Internship Program - IB: Strategic Analytics - New York- 2021</a></span></li>\n",
            "<li><span style=\"color: #000000;\"><a style=\"color: #000000;\" href=\"http://db.recsolu.com/external/requisitions/vgAzqB52UL0ho-C-oe7Sew\"target=\"_blank\" rel=\"noopener\">Deutsche Bank dbAchieve Internship Programme – IB: Corporate Finance - New York - 2021</a></span></li>\n",
            "<li><span style=\"color: #000000;\"><a style=\"color: #000000;\" href=\"http://db.recsolu.com/external/requisitions/dzZGzRtslJFKJMe5GyHKIQ\"target=\"_blank\" rel=\"noopener\">Deutsche Bank dbAchieve Programme - IB: FIC Sales, Trading and Structuring - New York - 2021</a></span></li>\n",
            "<li><span style=\"color: #000000;\"><a style=\"color: #000000;\" href=\"http://db.recsolu.com/external/requisitions/rIHNegdvxnP10rn9HoREBA\"target=\"_blank\" rel=\"noopener\">Deutsche Bank Analyst Internship Programme – Technology, Data and Innovation - Cary - 2021</a></span></li>\n",
            "<li><span style=\"color: #000000;\"><a style=\"color: #000000;\" href=\"http://db.recsolu.com/external/requisitions/lLNrVE9pZWd4SOnSeQH2cQ\"target=\"_blank\" rel=\"noopener\">Deutsche Bank Analyst Programme - Technology, Data and Innovation - Cary - 2021</a></span></li>\n",
            "<li><a href=\"https://www.knorange.com/index.php/deutsche-bank-career/\"target=\"_blank\" rel=\"noopener\">More...</a>\n",
            "<ol>\n",
            "<p style=\"padding-left: 40px; text-align: right;\">(Update: Dec-26-2020)</p>\n",
            "<p style=\"padding-left: 40px; text-align: right;\">12 minutes ago</p>\n"
          ],
          "name": "stdout"
        }
      ]
    },
    {
      "cell_type": "markdown",
      "metadata": {
        "id": "0XHY_UmCWwmS"
      },
      "source": [
        "# **JP morgan**"
      ]
    },
    {
      "cell_type": "code",
      "metadata": {
        "id": "oqUjD3fKWLgB",
        "colab": {
          "base_uri": "https://localhost:8080/"
        },
        "outputId": "037d8774-70a5-4aa3-a45a-c7c0a09aa1fe"
      },
      "source": [
        "\r\n",
        "\r\n",
        "from random import seed\r\n",
        "from random import random\r\n",
        "import random\r\n",
        "\r\n",
        "drive.mount('/content/drive')\r\n",
        "path = \"/content/drive/My Drive/career/JPmorgan.csv\"\r\n",
        "#!ls \"/content/drive/My Drive/career\"\r\n",
        "df_bonus = pd.read_csv(path)\r\n",
        "Job = df_bonus['Jobs']\r\n",
        "Link = df_bonus['Application Links']\r\n",
        "\r\n",
        "random = random.randint(7,20)\r\n",
        "print('Copy and paste the following JPmorgan code to wordpress')\r\n",
        "print('Copy and paste the following v code to wordpress')\r\n",
        "print('<ol>')\r\n",
        "\r\n",
        "\r\n",
        "\r\n",
        "if (len(df_bonus)<7):\r\n",
        "    \r\n",
        "  for i in range (len(df_bonus)):\r\n",
        "    print('<li><span style=\"color: #000000;\"><a style=\"color: #000000;\" href=\"'+ Link[i]+ '\"' +  'target=\"_blank\" rel=\"noopener\">' + Job[i] + '</a></span></li>')\r\n",
        "\r\n",
        "\r\n",
        "\r\n",
        "  \r\n",
        "else:\r\n",
        "    \r\n",
        "  for i in range (6):\r\n",
        "    print('<li><span style=\"color: #000000;\"><a style=\"color: #000000;\" href=\"'+ Link[i]+ '\"' +  'target=\"_blank\" rel=\"noopener\">' + Job[i] + '</a></span></li>')\r\n",
        "\r\n",
        "\r\n",
        "\r\n",
        "print('<li><a href=\"https://www.knorange.com/index.php/jp-morgan-chase-career/\"target=\"_blank\" rel=\"noopener\">More...</a>')\r\n",
        "\r\n",
        "\r\n",
        "print('<ol>')\r\n",
        "print('<p style=\"padding-left: 40px; text-align: right;\">'+ '(Update: '+ Post_date +')</p>')\r\n",
        "print('<p style=\"padding-left: 40px; text-align: right;\">'+ str(random) + ' minutes ago'+ '</p>')\r\n"
      ],
      "execution_count": null,
      "outputs": [
        {
          "output_type": "stream",
          "text": [
            "Drive already mounted at /content/drive; to attempt to forcibly remount, call drive.mount(\"/content/drive\", force_remount=True).\n",
            "Copy and paste the following JPmorgan code to wordpress\n",
            "Copy and paste the following v code to wordpress\n",
            "<ol>\n",
            "<li><span style=\"color: #000000;\"><a style=\"color: #000000;\" href=\"https://careers.jpmorgan.com/us/en/students/programs/markets-summer-analyst\"target=\"_blank\" rel=\"noopener\">Markets Internship</a></span></li>\n",
            "<li><span style=\"color: #000000;\"><a style=\"color: #000000;\" href=\"https://careers.jpmorgan.com/us/en/students/programs/asset-management-summer-analyst\"target=\"_blank\" rel=\"noopener\">Asset Management Internship</a></span></li>\n",
            "<li><span style=\"color: #000000;\"><a style=\"color: #000000;\" href=\"https://careers.jpmorgan.com/us/en/students/programs/audit-summer-analyst\"target=\"_blank\" rel=\"noopener\">Audit Summer Internship</a></span></li>\n",
            "<li><span style=\"color: #000000;\"><a style=\"color: #000000;\" href=\"https://careers.jpmorgan.com/us/en/students/programs/cadp-summer-analyst\"target=\"_blank\" rel=\"noopener\">Corporate Analyst Development Program Internship</a></span></li>\n",
            "<li><span style=\"color: #000000;\"><a style=\"color: #000000;\" href=\"https://careers.jpmorgan.com/us/en/students/programs/ccbsi-summer\"target=\"_blank\" rel=\"noopener\">Corporate Client Banking & Specialized Industries Internship Analyst</a></span></li>\n",
            "<li><span style=\"color: #000000;\"><a style=\"color: #000000;\" href=\"https://careers.jpmorgan.com/us/en/students/programs/cl-summer-analyst\"target=\"_blank\" rel=\"noopener\">Chase Leadership Development Program - Summer Analyst</a></span></li>\n",
            "<li><a href=\"https://www.knorange.com/index.php/jp-morgan-chase-career/\"target=\"_blank\" rel=\"noopener\">More...</a>\n",
            "<ol>\n",
            "<p style=\"padding-left: 40px; text-align: right;\">(Update: Dec-26-2020)</p>\n",
            "<p style=\"padding-left: 40px; text-align: right;\">13 minutes ago</p>\n"
          ],
          "name": "stdout"
        }
      ]
    },
    {
      "cell_type": "markdown",
      "metadata": {
        "id": "cGkoCpdwWywK"
      },
      "source": [
        "# **Goldman Saches**"
      ]
    },
    {
      "cell_type": "code",
      "metadata": {
        "id": "e59JxmPvWLkR",
        "colab": {
          "base_uri": "https://localhost:8080/"
        },
        "outputId": "d8f1ee34-4980-461b-970c-a9b15adcd776"
      },
      "source": [
        "\r\n",
        "\r\n",
        "from random import seed\r\n",
        "from random import random\r\n",
        "import random\r\n",
        "\r\n",
        "drive.mount('/content/drive')\r\n",
        "path = \"/content/drive/My Drive/career/GoldmanSachs.csv\"\r\n",
        "#!ls \"/content/drive/My Drive/career\"\r\n",
        "df_bonus = pd.read_csv(path)\r\n",
        "Job = df_bonus['Jobs']\r\n",
        "Link = df_bonus['Application Links']\r\n",
        "\r\n",
        "random = random.randint(7,20)\r\n",
        "print('Copy and paste the following GoldmanSachs code to wordpress')\r\n",
        "print('Copy and paste the following GoldmanSachs code to wordpress')\r\n",
        "print('<ol>')\r\n",
        "\r\n",
        "\r\n",
        "\r\n",
        "if (len(df_bonus)<7):\r\n",
        "    \r\n",
        "  for i in range (len(df_bonus)):\r\n",
        "    print('<li><span style=\"color: #000000;\"><a style=\"color: #000000;\" href=\"'+ Link[i]+ '\"' +  'target=\"_blank\" rel=\"noopener\">' + Job[i] + '</a></span></li>')\r\n",
        "\r\n",
        "\r\n",
        "\r\n",
        "  \r\n",
        "else:\r\n",
        "    \r\n",
        "  for i in range (6):\r\n",
        "    print('<li><span style=\"color: #000000;\"><a style=\"color: #000000;\" href=\"'+ Link[i]+ '\"' +  'target=\"_blank\" rel=\"noopener\">' + Job[i] + '</a></span></li>')\r\n",
        "\r\n",
        "\r\n",
        "\r\n",
        "print('<li><a href=\"https://www.knorange.com/index.php/goldman-sachs-career/\"target=\"_blank\" rel=\"noopener\">More...</a>')\r\n",
        "\r\n",
        "\r\n",
        "print('<ol>')\r\n",
        "print('<p style=\"padding-left: 40px; text-align: right;\">'+ '(Update: '+ Post_date +')</p>')\r\n",
        "print('<p style=\"padding-left: 40px; text-align: right;\">'+ str(random) + ' minutes ago'+ '</p>')\r\n"
      ],
      "execution_count": null,
      "outputs": [
        {
          "output_type": "stream",
          "text": [
            "Drive already mounted at /content/drive; to attempt to forcibly remount, call drive.mount(\"/content/drive\", force_remount=True).\n",
            "Copy and paste the following GoldmanSachs code to wordpress\n",
            "Copy and paste the following GoldmanSachs code to wordpress\n",
            "<ol>\n",
            "<li><span style=\"color: #000000;\"><a style=\"color: #000000;\" href=\"https://www.goldmansachs.com/careers/students/programs/americas/market-madness-hbcu-possibilities.html\"target=\"_blank\" rel=\"noopener\">Market Madness: HBCU Possibilities Program</a></span></li>\n",
            "<li><span style=\"color: #000000;\"><a style=\"color: #000000;\" href=\"https://www.goldmansachs.com/careers/students/programs/americas/exploratory-programs.html\"target=\"_blank\" rel=\"noopener\">Possibilities Summits: Our Exploratory Programs</a></span></li>\n",
            "<li><span style=\"color: #000000;\"><a style=\"color: #000000;\" href=\"https://www.goldmansachs.com/careers/students/programs/americas/undergrad-virtual-insight-series.html\"target=\"_blank\" rel=\"noopener\">Virtual Insights Series: An Exploratory Program</a></span></li>\n",
            "<li><span style=\"color: #000000;\"><a style=\"color: #000000;\" href=\"https://www.goldmansachs.com/careers/students/programs/americas/summer-analyst-program.html\"target=\"_blank\" rel=\"noopener\">Summer Analyst Program</a></span></li>\n",
            "<li><span style=\"color: #000000;\"><a style=\"color: #000000;\" href=\"https://www.goldmansachs.com/careers/students/programs/americas/digital-innovators-immersion-program.html\"target=\"_blank\" rel=\"noopener\">Digital Innovators Immersion Program</a></span></li>\n",
            "<li><span style=\"color: #000000;\"><a style=\"color: #000000;\" href=\"https://www.goldmansachs.com/careers/students/programs/americas/summer-associate-internship.html\"target=\"_blank\" rel=\"noopener\">Summer Associate Program</a></span></li>\n",
            "<li><a href=\"https://www.knorange.com/index.php/goldman-sachs-career/\"target=\"_blank\" rel=\"noopener\">More...</a>\n",
            "<ol>\n",
            "<p style=\"padding-left: 40px; text-align: right;\">(Update: Dec-26-2020)</p>\n",
            "<p style=\"padding-left: 40px; text-align: right;\">12 minutes ago</p>\n"
          ],
          "name": "stdout"
        }
      ]
    },
    {
      "cell_type": "markdown",
      "metadata": {
        "id": "Ulw88mkpW0Pr"
      },
      "source": [
        "# **Oliver**"
      ]
    },
    {
      "cell_type": "code",
      "metadata": {
        "id": "zzyedTOuWLmt",
        "colab": {
          "base_uri": "https://localhost:8080/"
        },
        "outputId": "f4dc038d-e319-4442-b19e-c4cfdbe3c5e2"
      },
      "source": [
        "\r\n",
        "\r\n",
        "\r\n",
        "from random import seed\r\n",
        "from random import random\r\n",
        "import random\r\n",
        "\r\n",
        "drive.mount('/content/drive')\r\n",
        "path = \"/content/drive/My Drive/career/Oliver.csv\"\r\n",
        "#!ls \"/content/drive/My Drive/career\"\r\n",
        "df_bonus = pd.read_csv(path)\r\n",
        "Job = df_bonus['Jobs']\r\n",
        "Link = df_bonus['Application Links']\r\n",
        "\r\n",
        "random = random.randint(7,20)\r\n",
        "print('Copy and paste the following Oliver code to wordpress')\r\n",
        "print('Copy and paste the following Oliver code to wordpress')\r\n",
        "print('<ol>')\r\n",
        "\r\n",
        "\r\n",
        "\r\n",
        "if (len(df_bonus)<7):\r\n",
        "    \r\n",
        "  for i in range (len(df_bonus)):\r\n",
        "    print('<li><span style=\"color: #000000;\"><a style=\"color: #000000;\" href=\"'+ Link[i]+ '\"' +  'target=\"_blank\" rel=\"noopener\">' + Job[i] + '</a></span></li>')\r\n",
        "\r\n",
        "\r\n",
        "\r\n",
        "  \r\n",
        "else:\r\n",
        "    \r\n",
        "  for i in range (6):\r\n",
        "    print('<li><span style=\"color: #000000;\"><a style=\"color: #000000;\" href=\"'+ Link[i]+ '\"' +  'target=\"_blank\" rel=\"noopener\">' + Job[i] + '</a></span></li>')\r\n",
        "\r\n",
        "\r\n",
        "\r\n",
        "print('<li><a href=\"https://www.knorange.com/index.php/oliver-wyman-career/\"target=\"_blank\" rel=\"noopener\">More...</a>')\r\n",
        "\r\n",
        "\r\n",
        "print('<ol>')\r\n",
        "print('<p style=\"padding-left: 40px; text-align: right;\">'+ '(Update: '+ Post_date +')</p>')\r\n",
        "print('<p style=\"padding-left: 40px; text-align: right;\">'+ str(random) + ' minutes ago'+ '</p>')\r\n"
      ],
      "execution_count": null,
      "outputs": [
        {
          "output_type": "stream",
          "text": [
            "Drive already mounted at /content/drive; to attempt to forcibly remount, call drive.mount(\"/content/drive\", force_remount=True).\n",
            "Copy and paste the following Oliver code to wordpress\n",
            "Copy and paste the following Oliver code to wordpress\n",
            "<ol>\n",
            "<li><span style=\"color: #000000;\"><a style=\"color: #000000;\" href=\"https://careers.mmc.com/global/en/job/R_099088/NERA-Economic-Consulting-Research-Associate-Winter-2020-Spring-2021-Graduates\"target=\"_blank\" rel=\"noopener\">NERA Economic Consulting Research Associate (Winter 2020 – Spring 2021 Graduates)</a></span></li>\n",
            "<li><span style=\"color: #000000;\"><a style=\"color: #000000;\" href=\"https://careers.mmc.com/global/en/job/R_110632/Oliver-Wyman-Diversity-Leadership-Summit-Virtual-US\"target=\"_blank\" rel=\"noopener\">Oliver Wyman - Diversity Leadership Summit (Virtual) - US</a></span></li>\n",
            "<li><span style=\"color: #000000;\"><a style=\"color: #000000;\" href=\"https://careers.mmc.com/global/en/job/R_106888/Oliver-Wyman-Women's-Leadership-Series-Virtual-US\"target=\"_blank\" rel=\"noopener\">Oliver Wyman - Women's Leadership Series (Virtual) - US</a></span></li>\n",
            "<li><span style=\"color: #000000;\"><a style=\"color: #000000;\" href=\"https://careers.mmc.com/global/en/job/R_075366/Oliver-Wyman-MBA-Summer-Associate-Health-Life-Sciences\"target=\"_blank\" rel=\"noopener\">Oliver Wyman - MBA Summer Associate - Health & Life Sciences</a></span></li>\n",
            "<li><span style=\"color: #000000;\"><a style=\"color: #000000;\" href=\"https://careers.mmc.com/global/en/job/R_106864/Healthcare-Antitrust-Research-Associate-January-July-2021-Start\"target=\"_blank\" rel=\"noopener\">Healthcare-Antitrust Research Associate (January - July 2021 Start)</a></span></li>\n",
            "<li><span style=\"color: #000000;\"><a style=\"color: #000000;\" href=\"https://careers.mmc.com/global/en/job/R_100330/NERA-Economic-Consulting-2021-PhD-Summer-Intern\"target=\"_blank\" rel=\"noopener\">NERA Economic Consulting 2021 PhD Summer Intern</a></span></li>\n",
            "<li><a href=\"https://www.knorange.com/index.php/oliver-wyman-career/\"target=\"_blank\" rel=\"noopener\">More...</a>\n",
            "<ol>\n",
            "<p style=\"padding-left: 40px; text-align: right;\">(Update: Dec-26-2020)</p>\n",
            "<p style=\"padding-left: 40px; text-align: right;\">20 minutes ago</p>\n"
          ],
          "name": "stdout"
        }
      ]
    },
    {
      "cell_type": "markdown",
      "metadata": {
        "id": "CONl5Y3SW1oG"
      },
      "source": [
        "# **KPMG**"
      ]
    },
    {
      "cell_type": "code",
      "metadata": {
        "id": "-uCwNbMOWLpE",
        "colab": {
          "base_uri": "https://localhost:8080/"
        },
        "outputId": "eae80699-9469-47f0-d964-308fdccac4e5"
      },
      "source": [
        "\r\n",
        "\r\n",
        "\r\n",
        "\r\n",
        "from random import seed\r\n",
        "from random import random\r\n",
        "import random\r\n",
        "\r\n",
        "drive.mount('/content/drive')\r\n",
        "path = \"/content/drive/My Drive/career/KPMG.csv\"\r\n",
        "#!ls \"/content/drive/My Drive/career\"\r\n",
        "df_bonus = pd.read_csv(path)\r\n",
        "Job = df_bonus['Jobs']\r\n",
        "Link = df_bonus['Application Links']\r\n",
        "\r\n",
        "random = random.randint(7,20)\r\n",
        "print('Copy and paste the following KPMG code to wordpress')\r\n",
        "print('Copy and paste the following KPMG code to wordpress')\r\n",
        "print('<ol>')\r\n",
        "\r\n",
        "\r\n",
        "\r\n",
        "if (len(df_bonus)<7):\r\n",
        "    \r\n",
        "  for i in range (len(df_bonus)):\r\n",
        "    print('<li><span style=\"color: #000000;\"><a style=\"color: #000000;\" href=\"'+ Link[i]+ '\"' +  'target=\"_blank\" rel=\"noopener\">' + Job[i] + '</a></span></li>')\r\n",
        "\r\n",
        "\r\n",
        "\r\n",
        "  \r\n",
        "else:\r\n",
        "    \r\n",
        "  for i in range (6):\r\n",
        "    print('<li><span style=\"color: #000000;\"><a style=\"color: #000000;\" href=\"'+ Link[i]+ '\"' +  'target=\"_blank\" rel=\"noopener\">' + Job[i] + '</a></span></li>')\r\n",
        "\r\n",
        "\r\n",
        "\r\n",
        "print('<li><a href=\"https://www.knorange.com/index.php/kpmg-career/\"target=\"_blank\" rel=\"noopener\">More...</a>')\r\n",
        "\r\n",
        "\r\n",
        "print('<ol>')\r\n",
        "print('<p style=\"padding-left: 40px; text-align: right;\">'+ '(Update: '+ Post_date +')</p>')\r\n",
        "print('<p style=\"padding-left: 40px; text-align: right;\">'+ str(random) + ' minutes ago'+ '</p>')\r\n"
      ],
      "execution_count": null,
      "outputs": [
        {
          "output_type": "stream",
          "text": [
            "Drive already mounted at /content/drive; to attempt to forcibly remount, call drive.mount(\"/content/drive\", force_remount=True).\n",
            "Copy and paste the following KPMG code to wordpress\n",
            "Copy and paste the following KPMG code to wordpress\n",
            "<ol>\n",
            "<li><span style=\"color: #000000;\"><a style=\"color: #000000;\" href=\"https://us-jobs.kpmg.com/careers/JobDetail?jobId=51526&srcCat=Internet&specSrc=US+KPMG+External+Career+Site\"target=\"_blank\" rel=\"noopener\">Associate - Independence Restriction Management Team</a></span></li>\n",
            "<li><span style=\"color: #000000;\"><a style=\"color: #000000;\" href=\"https://us-jobs.kpmg.com/careers/JobDetail?jobId=51549&srcCat=Internet&specSrc=US+KPMG+External+Career+Site\"target=\"_blank\" rel=\"noopener\">Associate - Personal Independence</a></span></li>\n",
            "<li><span style=\"color: #000000;\"><a style=\"color: #000000;\" href=\"https://us-jobs.kpmg.com/careers/JobDetail?jobId=51356&srcCat=Internet&specSrc=US+KPMG+External+Career+Site\"target=\"_blank\" rel=\"noopener\">Associate Audit, Employee Benefit Plan</a></span></li>\n",
            "<li><span style=\"color: #000000;\"><a style=\"color: #000000;\" href=\"https://us-jobs.kpmg.com/careers/JobDetail?jobId=51358&srcCat=Internet&specSrc=US+KPMG+External+Career+Site\"target=\"_blank\" rel=\"noopener\">Associate Audit, Employee Benefit Plan</a></span></li>\n",
            "<li><span style=\"color: #000000;\"><a style=\"color: #000000;\" href=\"https://us-jobs.kpmg.com/careers/JobDetail?jobId=51359&srcCat=Internet&specSrc=US+KPMG+External+Career+Site\"target=\"_blank\" rel=\"noopener\">Associate Audit, Employee Benefit Plan</a></span></li>\n",
            "<li><span style=\"color: #000000;\"><a style=\"color: #000000;\" href=\"https://us-jobs.kpmg.com/careers/JobDetail?jobId=51360&srcCat=Internet&specSrc=US+KPMG+External+Career+Site\"target=\"_blank\" rel=\"noopener\">Associate Audit, Employee Benefit Plan</a></span></li>\n",
            "<li><a href=\"https://www.knorange.com/index.php/kpmg-career/\"target=\"_blank\" rel=\"noopener\">More...</a>\n",
            "<ol>\n",
            "<p style=\"padding-left: 40px; text-align: right;\">(Update: Dec-26-2020)</p>\n",
            "<p style=\"padding-left: 40px; text-align: right;\">12 minutes ago</p>\n"
          ],
          "name": "stdout"
        }
      ]
    },
    {
      "cell_type": "markdown",
      "metadata": {
        "id": "0lqCiFMsW4Pt"
      },
      "source": [
        "# **SpaceX**"
      ]
    },
    {
      "cell_type": "code",
      "metadata": {
        "id": "3N8jaGAcWLrN",
        "colab": {
          "base_uri": "https://localhost:8080/"
        },
        "outputId": "04e70804-a4e2-4d90-c439-3fad86ad7044"
      },
      "source": [
        "\r\n",
        "\r\n",
        "from random import seed\r\n",
        "from random import random\r\n",
        "import random\r\n",
        "\r\n",
        "drive.mount('/content/drive')\r\n",
        "path = \"/content/drive/My Drive/career/SpaceX.csv\"\r\n",
        "#!ls \"/content/drive/My Drive/career\"\r\n",
        "df_bonus = pd.read_csv(path)\r\n",
        "Job = df_bonus['Jobs']\r\n",
        "Link = df_bonus['Application Links']\r\n",
        "\r\n",
        "random = random.randint(7,20)\r\n",
        "print('Copy and paste the following SpaceX code to wordpress')\r\n",
        "print('Copy and paste the following SpaceX code to wordpress')\r\n",
        "print('<ol>')\r\n",
        "\r\n",
        "\r\n",
        "\r\n",
        "if (len(df_bonus)<7):\r\n",
        "    \r\n",
        "  for i in range (len(df_bonus)):\r\n",
        "    print('<li><span style=\"color: #000000;\"><a style=\"color: #000000;\" href=\"'+ Link[i]+ '\"' +  'target=\"_blank\" rel=\"noopener\">' + Job[i] + '</a></span></li>')\r\n",
        "\r\n",
        "\r\n",
        "\r\n",
        "  \r\n",
        "else:\r\n",
        "    \r\n",
        "  for i in range (6):\r\n",
        "    print('<li><span style=\"color: #000000;\"><a style=\"color: #000000;\" href=\"'+ Link[i]+ '\"' +  'target=\"_blank\" rel=\"noopener\">' + Job[i] + '</a></span></li>')\r\n",
        "\r\n",
        "\r\n",
        "\r\n",
        "print('<li><a href=\"https://www.knorange.com/index.php/spacex-career/\"target=\"_blank\" rel=\"noopener\">More...</a>')\r\n",
        "\r\n",
        "\r\n",
        "print('<ol>')\r\n",
        "print('<p style=\"padding-left: 40px; text-align: right;\">'+ '(Update: '+ Post_date +')</p>')\r\n",
        "print('<p style=\"padding-left: 40px; text-align: right;\">'+ str(random) + ' minutes ago'+ '</p>')\r\n"
      ],
      "execution_count": null,
      "outputs": [
        {
          "output_type": "stream",
          "text": [
            "Drive already mounted at /content/drive; to attempt to forcibly remount, call drive.mount(\"/content/drive\", force_remount=True).\n",
            "Copy and paste the following SpaceX code to wordpress\n",
            "Copy and paste the following SpaceX code to wordpress\n",
            "<ol>\n",
            "<li><span style=\"color: #000000;\"><a style=\"color: #000000;\" href=\"https://boards.greenhouse.io/spacex/jobs/4867945002?gh_jid=4867945002\"target=\"_blank\" rel=\"noopener\">Summer 2021 Associate Engineer - Post Grad</a></span></li>\n",
            "<li><span style=\"color: #000000;\"><a style=\"color: #000000;\" href=\"https://boards.greenhouse.io/spacex/jobs/4867821002?gh_jid=4867821002\"target=\"_blank\" rel=\"noopener\">Summer 2021 Internship/Co-op</a></span></li>\n",
            "<li><a href=\"https://www.knorange.com/index.php/spacex-career/\"target=\"_blank\" rel=\"noopener\">More...</a>\n",
            "<ol>\n",
            "<p style=\"padding-left: 40px; text-align: right;\">(Update: Dec-26-2020)</p>\n",
            "<p style=\"padding-left: 40px; text-align: right;\">12 minutes ago</p>\n"
          ],
          "name": "stdout"
        }
      ]
    },
    {
      "cell_type": "markdown",
      "metadata": {
        "id": "NflR371FW6K4"
      },
      "source": [
        "# **Walmart**"
      ]
    },
    {
      "cell_type": "code",
      "metadata": {
        "id": "cOfUC4y7WLuC",
        "colab": {
          "base_uri": "https://localhost:8080/",
          "height": 572
        },
        "outputId": "5e8830f7-bcf1-41ca-e7fe-ffd491e1f046"
      },
      "source": [
        "\r\n",
        "\r\n",
        "from random import seed\r\n",
        "from random import random\r\n",
        "import random\r\n",
        "\r\n",
        "drive.mount('/content/drive')\r\n",
        "path = \"/content/drive/My Drive/career/Walmart.csv\"\r\n",
        "#!ls \"/content/drive/My Drive/career\"\r\n",
        "df_bonus = pd.read_csv(path)\r\n",
        "Job = df_bonus['Jobs']\r\n",
        "Link = df_bonus['Application Links']\r\n",
        "\r\n",
        "random = random.randint(7,20)\r\n",
        "print('Copy and paste the following Walmart code to wordpress')\r\n",
        "print('Copy and paste the following Walmart code to wordpress')\r\n",
        "print('<ol>')\r\n",
        "\r\n",
        "\r\n",
        "\r\n",
        "if (len(df_bonus)<7):\r\n",
        "    \r\n",
        "  for i in range (len(df_bonus)):\r\n",
        "    print('<li><span style=\"color: #000000;\"><a style=\"color: #000000;\" href=\"'+ Link[i]+ '\"' +  'target=\"_blank\" rel=\"noopener\">' + Job[i] + '</a></span></li>')\r\n",
        "\r\n",
        "\r\n",
        "\r\n",
        "  \r\n",
        "else:\r\n",
        "    \r\n",
        "  for i in range (6):\r\n",
        "    print('<li><span style=\"color: #000000;\"><a style=\"color: #000000;\" href=\"'+ Link[i]+ '\"' +  'target=\"_blank\" rel=\"noopener\">' + Job[i] + '</a></span></li>')\r\n",
        "\r\n",
        "\r\n",
        "\r\n",
        "print('<li><a href=\"https://www.knorange.com/index.php/walmart-career/\"target=\"_blank\" rel=\"noopener\">More...</a>')\r\n",
        "\r\n",
        "\r\n",
        "print('<ol>')\r\n",
        "print('<p style=\"padding-left: 40px; text-align: right;\">'+ '(Update: '+ Post_date +')</p>')\r\n",
        "print('<p style=\"padding-left: 40px; text-align: right;\">'+ str(random) + ' minutes ago'+ '</p>')\r\n"
      ],
      "execution_count": null,
      "outputs": [
        {
          "output_type": "stream",
          "text": [
            "Drive already mounted at /content/drive; to attempt to forcibly remount, call drive.mount(\"/content/drive\", force_remount=True).\n"
          ],
          "name": "stdout"
        },
        {
          "output_type": "error",
          "ename": "KeyError",
          "evalue": "ignored",
          "traceback": [
            "\u001b[0;31m---------------------------------------------------------------------------\u001b[0m",
            "\u001b[0;31mKeyError\u001b[0m                                  Traceback (most recent call last)",
            "\u001b[0;32m/usr/local/lib/python3.6/dist-packages/pandas/core/indexes/base.py\u001b[0m in \u001b[0;36mget_loc\u001b[0;34m(self, key, method, tolerance)\u001b[0m\n\u001b[1;32m   2897\u001b[0m             \u001b[0;32mtry\u001b[0m\u001b[0;34m:\u001b[0m\u001b[0;34m\u001b[0m\u001b[0;34m\u001b[0m\u001b[0m\n\u001b[0;32m-> 2898\u001b[0;31m                 \u001b[0;32mreturn\u001b[0m \u001b[0mself\u001b[0m\u001b[0;34m.\u001b[0m\u001b[0m_engine\u001b[0m\u001b[0;34m.\u001b[0m\u001b[0mget_loc\u001b[0m\u001b[0;34m(\u001b[0m\u001b[0mcasted_key\u001b[0m\u001b[0;34m)\u001b[0m\u001b[0;34m\u001b[0m\u001b[0;34m\u001b[0m\u001b[0m\n\u001b[0m\u001b[1;32m   2899\u001b[0m             \u001b[0;32mexcept\u001b[0m \u001b[0mKeyError\u001b[0m \u001b[0;32mas\u001b[0m \u001b[0merr\u001b[0m\u001b[0;34m:\u001b[0m\u001b[0;34m\u001b[0m\u001b[0;34m\u001b[0m\u001b[0m\n",
            "\u001b[0;32mpandas/_libs/index.pyx\u001b[0m in \u001b[0;36mpandas._libs.index.IndexEngine.get_loc\u001b[0;34m()\u001b[0m\n",
            "\u001b[0;32mpandas/_libs/index.pyx\u001b[0m in \u001b[0;36mpandas._libs.index.IndexEngine.get_loc\u001b[0;34m()\u001b[0m\n",
            "\u001b[0;32mpandas/_libs/hashtable_class_helper.pxi\u001b[0m in \u001b[0;36mpandas._libs.hashtable.PyObjectHashTable.get_item\u001b[0;34m()\u001b[0m\n",
            "\u001b[0;32mpandas/_libs/hashtable_class_helper.pxi\u001b[0m in \u001b[0;36mpandas._libs.hashtable.PyObjectHashTable.get_item\u001b[0;34m()\u001b[0m\n",
            "\u001b[0;31mKeyError\u001b[0m: 'Jobs'",
            "\nThe above exception was the direct cause of the following exception:\n",
            "\u001b[0;31mKeyError\u001b[0m                                  Traceback (most recent call last)",
            "\u001b[0;32m<ipython-input-50-77ffc09fc2f0>\u001b[0m in \u001b[0;36m<module>\u001b[0;34m()\u001b[0m\n\u001b[1;32m      9\u001b[0m \u001b[0;31m#!ls \"/content/drive/My Drive/career\"\u001b[0m\u001b[0;34m\u001b[0m\u001b[0;34m\u001b[0m\u001b[0;34m\u001b[0m\u001b[0m\n\u001b[1;32m     10\u001b[0m \u001b[0mdf_bonus\u001b[0m \u001b[0;34m=\u001b[0m \u001b[0mpd\u001b[0m\u001b[0;34m.\u001b[0m\u001b[0mread_csv\u001b[0m\u001b[0;34m(\u001b[0m\u001b[0mpath\u001b[0m\u001b[0;34m)\u001b[0m\u001b[0;34m\u001b[0m\u001b[0;34m\u001b[0m\u001b[0m\n\u001b[0;32m---> 11\u001b[0;31m \u001b[0mJob\u001b[0m \u001b[0;34m=\u001b[0m \u001b[0mdf_bonus\u001b[0m\u001b[0;34m[\u001b[0m\u001b[0;34m'Jobs'\u001b[0m\u001b[0;34m]\u001b[0m\u001b[0;34m\u001b[0m\u001b[0;34m\u001b[0m\u001b[0m\n\u001b[0m\u001b[1;32m     12\u001b[0m \u001b[0mLink\u001b[0m \u001b[0;34m=\u001b[0m \u001b[0mdf_bonus\u001b[0m\u001b[0;34m[\u001b[0m\u001b[0;34m'Application Links'\u001b[0m\u001b[0;34m]\u001b[0m\u001b[0;34m\u001b[0m\u001b[0;34m\u001b[0m\u001b[0m\n\u001b[1;32m     13\u001b[0m \u001b[0;34m\u001b[0m\u001b[0m\n",
            "\u001b[0;32m/usr/local/lib/python3.6/dist-packages/pandas/core/frame.py\u001b[0m in \u001b[0;36m__getitem__\u001b[0;34m(self, key)\u001b[0m\n\u001b[1;32m   2904\u001b[0m             \u001b[0;32mif\u001b[0m \u001b[0mself\u001b[0m\u001b[0;34m.\u001b[0m\u001b[0mcolumns\u001b[0m\u001b[0;34m.\u001b[0m\u001b[0mnlevels\u001b[0m \u001b[0;34m>\u001b[0m \u001b[0;36m1\u001b[0m\u001b[0;34m:\u001b[0m\u001b[0;34m\u001b[0m\u001b[0;34m\u001b[0m\u001b[0m\n\u001b[1;32m   2905\u001b[0m                 \u001b[0;32mreturn\u001b[0m \u001b[0mself\u001b[0m\u001b[0;34m.\u001b[0m\u001b[0m_getitem_multilevel\u001b[0m\u001b[0;34m(\u001b[0m\u001b[0mkey\u001b[0m\u001b[0;34m)\u001b[0m\u001b[0;34m\u001b[0m\u001b[0;34m\u001b[0m\u001b[0m\n\u001b[0;32m-> 2906\u001b[0;31m             \u001b[0mindexer\u001b[0m \u001b[0;34m=\u001b[0m \u001b[0mself\u001b[0m\u001b[0;34m.\u001b[0m\u001b[0mcolumns\u001b[0m\u001b[0;34m.\u001b[0m\u001b[0mget_loc\u001b[0m\u001b[0;34m(\u001b[0m\u001b[0mkey\u001b[0m\u001b[0;34m)\u001b[0m\u001b[0;34m\u001b[0m\u001b[0;34m\u001b[0m\u001b[0m\n\u001b[0m\u001b[1;32m   2907\u001b[0m             \u001b[0;32mif\u001b[0m \u001b[0mis_integer\u001b[0m\u001b[0;34m(\u001b[0m\u001b[0mindexer\u001b[0m\u001b[0;34m)\u001b[0m\u001b[0;34m:\u001b[0m\u001b[0;34m\u001b[0m\u001b[0;34m\u001b[0m\u001b[0m\n\u001b[1;32m   2908\u001b[0m                 \u001b[0mindexer\u001b[0m \u001b[0;34m=\u001b[0m \u001b[0;34m[\u001b[0m\u001b[0mindexer\u001b[0m\u001b[0;34m]\u001b[0m\u001b[0;34m\u001b[0m\u001b[0;34m\u001b[0m\u001b[0m\n",
            "\u001b[0;32m/usr/local/lib/python3.6/dist-packages/pandas/core/indexes/base.py\u001b[0m in \u001b[0;36mget_loc\u001b[0;34m(self, key, method, tolerance)\u001b[0m\n\u001b[1;32m   2898\u001b[0m                 \u001b[0;32mreturn\u001b[0m \u001b[0mself\u001b[0m\u001b[0;34m.\u001b[0m\u001b[0m_engine\u001b[0m\u001b[0;34m.\u001b[0m\u001b[0mget_loc\u001b[0m\u001b[0;34m(\u001b[0m\u001b[0mcasted_key\u001b[0m\u001b[0;34m)\u001b[0m\u001b[0;34m\u001b[0m\u001b[0;34m\u001b[0m\u001b[0m\n\u001b[1;32m   2899\u001b[0m             \u001b[0;32mexcept\u001b[0m \u001b[0mKeyError\u001b[0m \u001b[0;32mas\u001b[0m \u001b[0merr\u001b[0m\u001b[0;34m:\u001b[0m\u001b[0;34m\u001b[0m\u001b[0;34m\u001b[0m\u001b[0m\n\u001b[0;32m-> 2900\u001b[0;31m                 \u001b[0;32mraise\u001b[0m \u001b[0mKeyError\u001b[0m\u001b[0;34m(\u001b[0m\u001b[0mkey\u001b[0m\u001b[0;34m)\u001b[0m \u001b[0;32mfrom\u001b[0m \u001b[0merr\u001b[0m\u001b[0;34m\u001b[0m\u001b[0;34m\u001b[0m\u001b[0m\n\u001b[0m\u001b[1;32m   2901\u001b[0m \u001b[0;34m\u001b[0m\u001b[0m\n\u001b[1;32m   2902\u001b[0m         \u001b[0;32mif\u001b[0m \u001b[0mtolerance\u001b[0m \u001b[0;32mis\u001b[0m \u001b[0;32mnot\u001b[0m \u001b[0;32mNone\u001b[0m\u001b[0;34m:\u001b[0m\u001b[0;34m\u001b[0m\u001b[0;34m\u001b[0m\u001b[0m\n",
            "\u001b[0;31mKeyError\u001b[0m: 'Jobs'"
          ]
        }
      ]
    },
    {
      "cell_type": "markdown",
      "metadata": {
        "id": "b8fHunghaLPH"
      },
      "source": [
        "# **BlackRock**"
      ]
    },
    {
      "cell_type": "code",
      "metadata": {
        "id": "Q5VVn2BnWLv1",
        "colab": {
          "base_uri": "https://localhost:8080/"
        },
        "outputId": "9f9b6768-3caa-4715-dfe7-717dcb9c2fa9"
      },
      "source": [
        "\r\n",
        "\r\n",
        "from random import seed\r\n",
        "from random import random\r\n",
        "import random\r\n",
        "\r\n",
        "drive.mount('/content/drive')\r\n",
        "path = \"/content/drive/My Drive/career/BlackRock.csv\"\r\n",
        "#!ls \"/content/drive/My Drive/career\"\r\n",
        "df_bonus = pd.read_csv(path)\r\n",
        "Job = df_bonus['Jobs']\r\n",
        "Link = df_bonus['Application Links']\r\n",
        "\r\n",
        "random = random.randint(7,20)\r\n",
        "print('Copy and paste the following BlackRock.csv code to wordpress')\r\n",
        "print('Copy and paste the following BlackRock.csv code to wordpress')\r\n",
        "print('<ol>')\r\n",
        "\r\n",
        "\r\n",
        "\r\n",
        "if (len(df_bonus)<7):\r\n",
        "    \r\n",
        "  for i in range (len(df_bonus)):\r\n",
        "    print('<li><span style=\"color: #000000;\"><a style=\"color: #000000;\" href=\"'+ Link[i]+ '\"' +  'target=\"_blank\" rel=\"noopener\">' + Job[i] + '</a></span></li>')\r\n",
        "\r\n",
        "\r\n",
        "\r\n",
        "  \r\n",
        "else:\r\n",
        "    \r\n",
        "  for i in range (6):\r\n",
        "    print('<li><span style=\"color: #000000;\"><a style=\"color: #000000;\" href=\"'+ Link[i]+ '\"' +  'target=\"_blank\" rel=\"noopener\">' + Job[i] + '</a></span></li>')\r\n",
        "\r\n",
        "\r\n",
        "\r\n",
        "print('<li><a href=\"https://www.knorange.com/index.php/black-rock-investment-career/\"target=\"_blank\" rel=\"noopener\">More...</a>')\r\n",
        "\r\n",
        "\r\n",
        "print('<ol>')\r\n",
        "print('<p style=\"padding-left: 40px; text-align: right;\">'+ '(Update: '+ Post_date +')</p>')\r\n",
        "print('<p style=\"padding-left: 40px; text-align: right;\">'+ str(random) + ' minutes ago'+ '</p>')\r\n"
      ],
      "execution_count": null,
      "outputs": [
        {
          "output_type": "stream",
          "text": [
            "Drive already mounted at /content/drive; to attempt to forcibly remount, call drive.mount(\"/content/drive\", force_remount=True).\n",
            "Copy and paste the following BlackRock.csv code to wordpress\n",
            "Copy and paste the following BlackRock.csv code to wordpress\n",
            "<ol>\n",
            "<li><span style=\"color: #000000;\"><a style=\"color: #000000;\" href=\"https://blackrock.tal.net/vx/lang-en-GB/mobile-0/brand-3/xf-fc5a6d5b6b23/candidate/so/pm/1/pl/1/opp/4479-Advanced-Degree-Program-Americas/en-GB\"target=\"_blank\" rel=\"noopener\">Advanced Degree Program</a></span></li>\n",
            "<li><span style=\"color: #000000;\"><a style=\"color: #000000;\" href=\"https://blackrock.tal.net/vx/lang-en-GB/mobile-0/brand-3/xf-fc5a6d5b6b23/candidate/so/pm/1/pl/1/opp/4620-2021-Program-Analyst-Analytics-Risk-Aladdin-Wealth-Technology-Tokyo/en-GB\"target=\"_blank\" rel=\"noopener\">Analyst Program</a></span></li>\n",
            "<li><span style=\"color: #000000;\"><a style=\"color: #000000;\" href=\"https://blackrock.tal.net/vx/lang-en-GB/mobile-0/brand-3/xf-fc5a6d5b6b23/candidate/so/pm/1/pl/1/opp/4478-Analyst-Program-Americas/en-GB\"target=\"_blank\" rel=\"noopener\">Analyst Program</a></span></li>\n",
            "<li><span style=\"color: #000000;\"><a style=\"color: #000000;\" href=\"https://blackrock.tal.net/vx/lang-en-GB/mobile-0/brand-3/xf-fc5a6d5b6b23/candidate/so/pm/1/pl/1/opp/4480-Analyst-Program-EMEA/en-GB\"target=\"_blank\" rel=\"noopener\">Analyst Program</a></span></li>\n",
            "<li><span style=\"color: #000000;\"><a style=\"color: #000000;\" href=\"https://blackrock.tal.net/vx/lang-en-GB/mobile-0/brand-3/xf-fc5a6d5b6b23/candidate/so/pm/1/pl/1/opp/3832-Analyst-Program-APAC/en-GB\"target=\"_blank\" rel=\"noopener\">Analyst Program</a></span></li>\n",
            "<li><span style=\"color: #000000;\"><a style=\"color: #000000;\" href=\"https://blackrock.tal.net/vx/lang-en-GB/mobile-0/brand-3/xf-fc5a6d5b6b23/candidate/so/pm/1/pl/1/opp/4548-MBA-Summer-Associate-Program-Americas/en-GB\"target=\"_blank\" rel=\"noopener\">MBA Summer Associate Program</a></span></li>\n",
            "<li><a href=\"https://www.knorange.com/index.php/black-rock-investment-career/\"target=\"_blank\" rel=\"noopener\">More...</a>\n",
            "<ol>\n",
            "<p style=\"padding-left: 40px; text-align: right;\">(Update: Dec-26-2020)</p>\n",
            "<p style=\"padding-left: 40px; text-align: right;\">14 minutes ago</p>\n"
          ],
          "name": "stdout"
        }
      ]
    },
    {
      "cell_type": "markdown",
      "metadata": {
        "id": "sXgf9uypdkA0"
      },
      "source": [
        "# **USAjobs internship**"
      ]
    },
    {
      "cell_type": "code",
      "metadata": {
        "id": "3KoULSs2WLy0",
        "colab": {
          "base_uri": "https://localhost:8080/"
        },
        "outputId": "d8740f7c-7037-4b15-a179-db346115cd36"
      },
      "source": [
        "\r\n",
        "\r\n",
        "from random import seed\r\n",
        "from random import random\r\n",
        "import random\r\n",
        "\r\n",
        "drive.mount('/content/drive')\r\n",
        "path = \"/content/drive/My Drive/career/USAjobs.csv\"\r\n",
        "#!ls \"/content/drive/My Drive/career\"\r\n",
        "df_bonus = pd.read_csv(path)\r\n",
        "Job = df_bonus['Jobs']\r\n",
        "Link = df_bonus['Application Links']\r\n",
        "\r\n",
        "random = random.randint(7,20)\r\n",
        "print('Copy and paste the following USAjobs internship code to wordpress')\r\n",
        "print('Copy and paste the following USAjobs internship code to wordpress')\r\n",
        "print('<ol>')\r\n",
        "\r\n",
        "\r\n",
        "\r\n",
        "if (len(df_bonus)<7):\r\n",
        "    \r\n",
        "  for i in range (len(df_bonus)):\r\n",
        "    print('<li><span style=\"color: #000000;\"><a style=\"color: #000000;\" href=\"'+ Link[i]+ '\"' +  'target=\"_blank\" rel=\"noopener\">' + Job[i] + '</a></span></li>')\r\n",
        "\r\n",
        "\r\n",
        "\r\n",
        "  \r\n",
        "else:\r\n",
        "    \r\n",
        "  for i in range (6):\r\n",
        "    print('<li><span style=\"color: #000000;\"><a style=\"color: #000000;\" href=\"'+ Link[i]+ '\"' +  'target=\"_blank\" rel=\"noopener\">' + Job[i] + '</a></span></li>')\r\n",
        "\r\n",
        "\r\n",
        "\r\n",
        "print('<li><a href=\"https://www.knorange.com/u-s-federal-government-jobs-internship/\"target=\"_blank\" rel=\"noopener\">More...</a>')\r\n",
        "\r\n",
        "\r\n",
        "print('<ol>')\r\n",
        "print('<p style=\"padding-left: 40px; text-align: right;\">'+ '(Update: '+ Post_date +')</p>')\r\n",
        "print('<p style=\"padding-left: 40px; text-align: right;\">'+ str(random) + ' minutes ago'+ '</p>')\r\n"
      ],
      "execution_count": null,
      "outputs": [
        {
          "output_type": "stream",
          "text": [
            "Drive already mounted at /content/drive; to attempt to forcibly remount, call drive.mount(\"/content/drive\", force_remount=True).\n",
            "Copy and paste the following USAjobs internship code to wordpress\n",
            "Copy and paste the following USAjobs internship code to wordpress\n",
            "<ol>\n",
            "<li><span style=\"color: #000000;\"><a style=\"color: #000000;\" href=\"https://www.usajobs.gov/GetJob/ViewDetails/560992500\"target=\"_blank\" rel=\"noopener\">Attorney Internship-Development Finance Corporation (formerly Overseas Private Investment Corporation)</a></span></li>\n",
            "<li><span style=\"color: #000000;\"><a style=\"color: #000000;\" href=\"https://www.usajobs.gov/GetJob/ViewDetails/560983400\"target=\"_blank\" rel=\"noopener\">Investment Funds Internship-Development Finance Corporation (formerly Overseas Private Investment Corporation)</a></span></li>\n",
            "<li><span style=\"color: #000000;\"><a style=\"color: #000000;\" href=\"https://www.usajobs.gov/GetJob/ViewDetails/561067400\"target=\"_blank\" rel=\"noopener\">External Affairs Internship-Development Finance Corporation (formerly Overseas Private Investment Corporation)</a></span></li>\n",
            "<li><span style=\"color: #000000;\"><a style=\"color: #000000;\" href=\"https://www.usajobs.gov/GetJob/ViewDetails/561039300\"target=\"_blank\" rel=\"noopener\">Financial Management Internship-Development Finance Corporation (formerly Overseas Private Investment Corporation)</a></span></li>\n",
            "<li><span style=\"color: #000000;\"><a style=\"color: #000000;\" href=\"https://www.usajobs.gov/GetJob/ViewDetails/561057500\"target=\"_blank\" rel=\"noopener\">Political Risk Internship-Development Finance Corporation (formerly Overseas Private Investment Corporation)</a></span></li>\n",
            "<li><span style=\"color: #000000;\"><a style=\"color: #000000;\" href=\"https://www.usajobs.gov/GetJob/ViewDetails/561047200\"target=\"_blank\" rel=\"noopener\">Office of the Chief Executive Internship-Development Finance Corporation (formerly Overseas Private Investment Corporation)</a></span></li>\n",
            "<li><a href=\"https://www.knorange.com/u-s-federal-government-jobs-internship/\"target=\"_blank\" rel=\"noopener\">More...</a>\n",
            "<ol>\n",
            "<p style=\"padding-left: 40px; text-align: right;\">(Update: Dec-26-2020)</p>\n",
            "<p style=\"padding-left: 40px; text-align: right;\">12 minutes ago</p>\n"
          ],
          "name": "stdout"
        }
      ]
    },
    {
      "cell_type": "markdown",
      "metadata": {
        "id": "9xx9EhCAdqW3"
      },
      "source": [
        "# **USAjobs recent graudate**"
      ]
    },
    {
      "cell_type": "code",
      "metadata": {
        "id": "cICnBo_xWL1P",
        "colab": {
          "base_uri": "https://localhost:8080/"
        },
        "outputId": "d86f1f45-5bb6-427b-9187-21f40a21f868"
      },
      "source": [
        "\r\n",
        "\r\n",
        "from random import seed\r\n",
        "from random import random\r\n",
        "import random\r\n",
        "\r\n",
        "drive.mount('/content/drive')\r\n",
        "path = \"/content/drive/My Drive/career/USAjobs2.csv\"\r\n",
        "#!ls \"/content/drive/My Drive/career\"\r\n",
        "df_bonus = pd.read_csv(path)\r\n",
        "Job = df_bonus['Jobs']\r\n",
        "Link = df_bonus['Application Links']\r\n",
        "\r\n",
        "random = random.randint(7,20)\r\n",
        "print('Copy and paste the following USAjobs recent graudate code to wordpress')\r\n",
        "print('Copy and paste the following USAjobs recent graudate code to wordpress')\r\n",
        "print('<ol>')\r\n",
        "\r\n",
        "\r\n",
        "\r\n",
        "if (len(df_bonus)<7):\r\n",
        "    \r\n",
        "  for i in range (len(df_bonus)):\r\n",
        "    print('<li><span style=\"color: #000000;\"><a style=\"color: #000000;\" href=\"'+ Link[i]+ '\"' +  'target=\"_blank\" rel=\"noopener\">' + Job[i] + '</a></span></li>')\r\n",
        "\r\n",
        "\r\n",
        "\r\n",
        "  \r\n",
        "else:\r\n",
        "    \r\n",
        "  for i in range (6):\r\n",
        "    print('<li><span style=\"color: #000000;\"><a style=\"color: #000000;\" href=\"'+ Link[i]+ '\"' +  'target=\"_blank\" rel=\"noopener\">' + Job[i] + '</a></span></li>')\r\n",
        "\r\n",
        "\r\n",
        "\r\n",
        "print('<li><a href=\"https://www.knorange.com/u-s-federal-government-jobs-recent-graduate/\"target=\"_blank\" rel=\"noopener\">More...</a>')\r\n",
        "\r\n",
        "\r\n",
        "print('<ol>')\r\n",
        "print('<p style=\"padding-left: 40px; text-align: right;\">'+ '(Update: '+ Post_date +')</p>')\r\n",
        "print('<p style=\"padding-left: 40px; text-align: right;\">'+ str(random) + ' minutes ago'+ '</p>')\r\n"
      ],
      "execution_count": null,
      "outputs": [
        {
          "output_type": "stream",
          "text": [
            "Drive already mounted at /content/drive; to attempt to forcibly remount, call drive.mount(\"/content/drive\", force_remount=True).\n",
            "Copy and paste the following USAjobs recent graudate code to wordpress\n",
            "Copy and paste the following USAjobs recent graudate code to wordpress\n",
            "<ol>\n",
            "<li><span style=\"color: #000000;\"><a style=\"color: #000000;\" href=\"https://www.usajobs.gov/GetJob/ViewDetails/558251200\"target=\"_blank\" rel=\"noopener\">Recent Graduate-U.S. Army Corps of Engineers</a></span></li>\n",
            "<li><span style=\"color: #000000;\"><a style=\"color: #000000;\" href=\"https://www.usajobs.gov/GetJob/ViewDetails/587995400\"target=\"_blank\" rel=\"noopener\">Mission Support Specialist - Pathways Recent Graduate-Immigration and Customs Enforcement</a></span></li>\n",
            "<li><span style=\"color: #000000;\"><a style=\"color: #000000;\" href=\"https://www.usajobs.gov/GetJob/ViewDetails/587679600\"target=\"_blank\" rel=\"noopener\">Contract Specialist - Recent Graduate-National Transportation Safety Board</a></span></li>\n",
            "<li><span style=\"color: #000000;\"><a style=\"color: #000000;\" href=\"https://www.usajobs.gov/GetJob/ViewDetails/587735300\"target=\"_blank\" rel=\"noopener\">Recent Graduate - Workers' Compensation Claims Examiner-Office of Workers' Compensation Programs</a></span></li>\n",
            "<li><span style=\"color: #000000;\"><a style=\"color: #000000;\" href=\"https://www.usajobs.gov/GetJob/ViewDetails/582233500\"target=\"_blank\" rel=\"noopener\">FCC's Pathway Recent Graduate Opportunity ( Electronic Engineer, GS-855)-Federal Communications Commission</a></span></li>\n",
            "<li><span style=\"color: #000000;\"><a style=\"color: #000000;\" href=\"https://www.usajobs.gov/GetJob/ViewDetails/587258600\"target=\"_blank\" rel=\"noopener\">Medical Reimbursement Technician-Veterans Affairs, Veterans Health Administration</a></span></li>\n",
            "<li><a href=\"https://www.knorange.com/u-s-federal-government-jobs-recent-graduate/\"target=\"_blank\" rel=\"noopener\">More...</a>\n",
            "<ol>\n",
            "<p style=\"padding-left: 40px; text-align: right;\">(Update: Dec-26-2020)</p>\n",
            "<p style=\"padding-left: 40px; text-align: right;\">16 minutes ago</p>\n"
          ],
          "name": "stdout"
        }
      ]
    },
    {
      "cell_type": "markdown",
      "metadata": {
        "id": "eHjnmCMUqrTP"
      },
      "source": [
        "# **Roblox**"
      ]
    },
    {
      "cell_type": "code",
      "metadata": {
        "colab": {
          "base_uri": "https://localhost:8080/"
        },
        "id": "V7AokBKEqo5H",
        "outputId": "8e9c52ec-2906-44e7-f130-3981ebed8fe3"
      },
      "source": [
        "\r\n",
        "\r\n",
        "from random import seed\r\n",
        "from random import random\r\n",
        "import random\r\n",
        "\r\n",
        "drive.mount('/content/drive')\r\n",
        "path = \"/content/drive/My Drive/career/Roblox.csv\"\r\n",
        "#!ls \"/content/drive/My Drive/career\"\r\n",
        "df_bonus = pd.read_csv(path)\r\n",
        "Job = df_bonus['Jobs']\r\n",
        "Link = df_bonus['Application Links']\r\n",
        "\r\n",
        "random = random.randint(7,20)\r\n",
        "print('Copy and paste the following roblox code to wordpress')\r\n",
        "print('Copy and paste the following roblox code to wordpress')\r\n",
        "print('<ol>')\r\n",
        "\r\n",
        "\r\n",
        "\r\n",
        "if (len(df_bonus)<7):\r\n",
        "    \r\n",
        "  for i in range (len(df_bonus)):\r\n",
        "    print('<li><span style=\"color: #000000;\"><a style=\"color: #000000;\" href=\"'+ Link[i]+ '\"' +  'target=\"_blank\" rel=\"noopener\">' + Job[i] + '</a></span></li>')\r\n",
        "\r\n",
        "\r\n",
        "\r\n",
        "  \r\n",
        "else:\r\n",
        "    \r\n",
        "  for i in range (6):\r\n",
        "    print('<li><span style=\"color: #000000;\"><a style=\"color: #000000;\" href=\"'+ Link[i]+ '\"' +  'target=\"_blank\" rel=\"noopener\">' + Job[i] + '</a></span></li>')\r\n",
        "\r\n",
        "\r\n",
        "\r\n",
        "print('<li><a href=\"https://www.knorange.com/index.php/roblox-career/\"target=\"_blank\" rel=\"noopener\">More...</a>')\r\n",
        "\r\n",
        "\r\n",
        "print('<ol>')\r\n",
        "print('<p style=\"padding-left: 40px; text-align: right;\">'+ '(Update: '+ Post_date +')</p>')\r\n",
        "print('<p style=\"padding-left: 40px; text-align: right;\">'+ str(random) + ' minutes ago'+ '</p>')\r\n"
      ],
      "execution_count": null,
      "outputs": [
        {
          "output_type": "stream",
          "text": [
            "Drive already mounted at /content/drive; to attempt to forcibly remount, call drive.mount(\"/content/drive\", force_remount=True).\n",
            "Copy and paste the following roblox code to wordpress\n",
            "Copy and paste the following roblox code to wordpress\n",
            "<ol>\n",
            "<li><span style=\"color: #000000;\"><a style=\"color: #000000;\" href=\"https://corp.roblox.com/careers/listing/?gh_jid=2316867\"target=\"_blank\" rel=\"noopener\">Design Intern (Summer 2021)</a></span></li>\n",
            "<li><span style=\"color: #000000;\"><a style=\"color: #000000;\" href=\"https://corp.roblox.com/careers/listing/?gh_jid=2312837\"target=\"_blank\" rel=\"noopener\">Product Management Intern (Summer 2021)</a></span></li>\n",
            "<li><span style=\"color: #000000;\"><a style=\"color: #000000;\" href=\"https://corp.roblox.com/careers/listing/?gh_jid=2322821\"target=\"_blank\" rel=\"noopener\">Software Engineer - New Grad (Summer 2021)</a></span></li>\n",
            "<li><a href=\"https://www.knorange.com/index.php/roblox-career/\"target=\"_blank\" rel=\"noopener\">More...</a>\n",
            "<ol>\n",
            "<p style=\"padding-left: 40px; text-align: right;\">(Update: Dec-27-2020)</p>\n",
            "<p style=\"padding-left: 40px; text-align: right;\">13 minutes ago</p>\n"
          ],
          "name": "stdout"
        }
      ]
    },
    {
      "cell_type": "markdown",
      "metadata": {
        "id": "pdkD35e1ronX"
      },
      "source": [
        "# **visa**"
      ]
    },
    {
      "cell_type": "code",
      "metadata": {
        "colab": {
          "base_uri": "https://localhost:8080/"
        },
        "id": "twYE5HTwqpqD",
        "outputId": "b049de7c-00b8-422f-d257-d05a131df9a4"
      },
      "source": [
        "\r\n",
        "\r\n",
        "from random import seed\r\n",
        "from random import random\r\n",
        "import random\r\n",
        "\r\n",
        "drive.mount('/content/drive')\r\n",
        "path = \"/content/drive/My Drive/career/visa.csv\"\r\n",
        "#!ls \"/content/drive/My Drive/career\"\r\n",
        "df_bonus = pd.read_csv(path)\r\n",
        "Job = df_bonus['Jobs']\r\n",
        "Link = df_bonus['Application Links']\r\n",
        "\r\n",
        "random = random.randint(7,20)\r\n",
        "print('Copy and paste the following visa code to wordpress')\r\n",
        "print('Copy and paste the following visa code to wordpress')\r\n",
        "print('<ol>')\r\n",
        "\r\n",
        "\r\n",
        "\r\n",
        "if (len(df_bonus)<7):\r\n",
        "    \r\n",
        "  for i in range (len(df_bonus)):\r\n",
        "    print('<li><span style=\"color: #000000;\"><a style=\"color: #000000;\" href=\"'+ Link[i]+ '\"' +  'target=\"_blank\" rel=\"noopener\">' + Job[i] + '</a></span></li>')\r\n",
        "\r\n",
        "\r\n",
        "\r\n",
        "  \r\n",
        "else:\r\n",
        "    \r\n",
        "  for i in range (6):\r\n",
        "    print('<li><span style=\"color: #000000;\"><a style=\"color: #000000;\" href=\"'+ Link[i]+ '\"' +  'target=\"_blank\" rel=\"noopener\">' + Job[i] + '</a></span></li>')\r\n",
        "\r\n",
        "\r\n",
        "\r\n",
        "print('<li><a href=\"https://www.knorange.com/index.php/visa-career/\"target=\"_blank\" rel=\"noopener\">More...</a>')\r\n",
        "\r\n",
        "\r\n",
        "print('<ol>')\r\n",
        "print('<p style=\"padding-left: 40px; text-align: right;\">'+ '(Update: '+ Post_date +')</p>')\r\n",
        "print('<p style=\"padding-left: 40px; text-align: right;\">'+ str(random) + ' minutes ago'+ '</p>')\r\n"
      ],
      "execution_count": null,
      "outputs": [
        {
          "output_type": "stream",
          "text": [
            "Drive already mounted at /content/drive; to attempt to forcibly remount, call drive.mount(\"/content/drive\", force_remount=True).\n",
            "Copy and paste the following visa code to wordpress\n",
            "Copy and paste the following visa code to wordpress\n",
            "<ol>\n",
            "<li><span style=\"color: #000000;\"><a style=\"color: #000000;\" href=\"https://jobs.smartrecruiters.com/Visa/743999724119862-office-management-intern-or-working-student-m-f-d-?trid=623f64f4-c657-499b-989f-16ab0ccee0d9\"target=\"_blank\" rel=\"noopener\">Office Management Intern or Working Student (m/f/d)</a></span></li>\n",
            "<li><span style=\"color: #000000;\"><a style=\"color: #000000;\" href=\"https://jobs.smartrecruiters.com/Visa/743999727737570-mba-intern-summer-2021-visa-consulting-analytics?trid=623f64f4-c657-499b-989f-16ab0ccee0d9\"target=\"_blank\" rel=\"noopener\">MBA intern, Summer 2021 - Visa Consulting & Analytics</a></span></li>\n",
            "<li><span style=\"color: #000000;\"><a style=\"color: #000000;\" href=\"https://jobs.smartrecruiters.com/Visa/743999726149351-associate-cybersecurity-analyst?trid=623f64f4-c657-499b-989f-16ab0ccee0d9\"target=\"_blank\" rel=\"noopener\">Associate Cybersecurity Analyst</a></span></li>\n",
            "<li><span style=\"color: #000000;\"><a style=\"color: #000000;\" href=\"https://jobs.smartrecruiters.com/Visa/743999725252128-mba-new-college-grad-senior-financial-analyst-finance-development-rotation-program?trid=623f64f4-c657-499b-989f-16ab0ccee0d9\"target=\"_blank\" rel=\"noopener\">MBA New College Grad- Senior Financial Analyst - Finance Development Rotation Program</a></span></li>\n",
            "<li><span style=\"color: #000000;\"><a style=\"color: #000000;\" href=\"https://jobs.smartrecruiters.com/Visa/743999723143859-degree-apprenticeship-chartered-management?trid=623f64f4-c657-499b-989f-16ab0ccee0d9\"target=\"_blank\" rel=\"noopener\">Degree Apprenticeship - Chartered Management</a></span></li>\n",
            "<li><span style=\"color: #000000;\"><a style=\"color: #000000;\" href=\"https://jobs.smartrecruiters.com/Visa/743999728113320-masters-intern-visa-university-learning-experience-productions?trid=623f64f4-c657-499b-989f-16ab0ccee0d9\"target=\"_blank\" rel=\"noopener\">Masters Intern- Visa University, Learning Experience Productions</a></span></li>\n",
            "<li><a href=\"https://www.knorange.com/index.php/visa-career/\"target=\"_blank\" rel=\"noopener\">More...</a>\n",
            "<ol>\n",
            "<p style=\"padding-left: 40px; text-align: right;\">(Update: Dec-27-2020)</p>\n",
            "<p style=\"padding-left: 40px; text-align: right;\">20 minutes ago</p>\n"
          ],
          "name": "stdout"
        }
      ]
    },
    {
      "cell_type": "markdown",
      "metadata": {
        "id": "902W7mdmr2qd"
      },
      "source": [
        "# **Tencent**"
      ]
    },
    {
      "cell_type": "code",
      "metadata": {
        "colab": {
          "base_uri": "https://localhost:8080/"
        },
        "id": "nFJtaAhjqpuY",
        "outputId": "6dbea9d0-4324-4944-81c8-d5f946993f92"
      },
      "source": [
        "\r\n",
        "\r\n",
        "from random import seed\r\n",
        "from random import random\r\n",
        "import random\r\n",
        "\r\n",
        "drive.mount('/content/drive')\r\n",
        "path = \"/content/drive/My Drive/career/Tencent.csv\"\r\n",
        "#!ls \"/content/drive/My Drive/career\"\r\n",
        "df_bonus = pd.read_csv(path)\r\n",
        "Job = df_bonus['Jobs']\r\n",
        "Link = df_bonus['Application Links']\r\n",
        "\r\n",
        "random = random.randint(7,20)\r\n",
        "print('Copy and paste the following Tencent code to wordpress')\r\n",
        "print('Copy and paste the following Tencent code to wordpress')\r\n",
        "print('<ol>')\r\n",
        "\r\n",
        "\r\n",
        "\r\n",
        "if (len(df_bonus)<7):\r\n",
        "    \r\n",
        "  for i in range (len(df_bonus)):\r\n",
        "    print('<li><span style=\"color: #000000;\"><a style=\"color: #000000;\" href=\"'+ Link[i]+ '\"' +  'target=\"_blank\" rel=\"noopener\">' + Job[i] + '</a></span></li>')\r\n",
        "\r\n",
        "\r\n",
        "\r\n",
        "  \r\n",
        "else:\r\n",
        "    \r\n",
        "  for i in range (6):\r\n",
        "    print('<li><span style=\"color: #000000;\"><a style=\"color: #000000;\" href=\"'+ Link[i]+ '\"' +  'target=\"_blank\" rel=\"noopener\">' + Job[i] + '</a></span></li>')\r\n",
        "\r\n",
        "\r\n",
        "\r\n",
        "print('<li><a href=\"https://www.knorange.com/index.php/tencent-career/\"target=\"_blank\" rel=\"noopener\">More...</a>')\r\n",
        "\r\n",
        "\r\n",
        "print('<ol>')\r\n",
        "print('<p style=\"padding-left: 40px; text-align: right;\">'+ '(Update: '+ Post_date +')</p>')\r\n",
        "print('<p style=\"padding-left: 40px; text-align: right;\">'+ str(random) + ' minutes ago'+ '</p>')\r\n"
      ],
      "execution_count": null,
      "outputs": [
        {
          "output_type": "stream",
          "text": [
            "Drive already mounted at /content/drive; to attempt to forcibly remount, call drive.mount(\"/content/drive\", force_remount=True).\n",
            "Copy and paste the following Tencent code to wordpress\n",
            "Copy and paste the following Tencent code to wordpress\n",
            "<ol>\n",
            "<li><span style=\"color: #000000;\"><a style=\"color: #000000;\" href=\"https://careers.tencent.com/en-us/search.html?query=co_2,at_3,at_2&sc=2&index=1\"target=\"_blank\" rel=\"noopener\">Media Engineer Intern</a></span></li>\n",
            "<li><span style=\"color: #000000;\"><a style=\"color: #000000;\" href=\"https://careers.tencent.com/en-us/search.html?query=co_2,at_3,at_2&sc=2&index=1\"target=\"_blank\" rel=\"noopener\">Hardware Data Analysis Intern</a></span></li>\n",
            "<li><span style=\"color: #000000;\"><a style=\"color: #000000;\" href=\"https://careers.tencent.com/en-us/search.html?query=co_2,at_3,at_2&sc=2&index=1\"target=\"_blank\" rel=\"noopener\">Hardware Data Analysis Intern</a></span></li>\n",
            "<li><span style=\"color: #000000;\"><a style=\"color: #000000;\" href=\"https://careers.tencent.com/en-us/search.html?query=co_2,at_3,at_2&sc=2&index=1\"target=\"_blank\" rel=\"noopener\">Hardware and OS/Kernel Design Intern</a></span></li>\n",
            "<li><span style=\"color: #000000;\"><a style=\"color: #000000;\" href=\"https://careers.tencent.com/en-us/search.html?query=co_2,at_3,at_2&sc=2&index=1\"target=\"_blank\" rel=\"noopener\">Hardware and OS/Kernel Design Intern</a></span></li>\n",
            "<li><span style=\"color: #000000;\"><a style=\"color: #000000;\" href=\"https://careers.tencent.com/en-us/search.html?query=co_2,at_3,at_2&sc=2&index=1\"target=\"_blank\" rel=\"noopener\">Light field and 6DoF immersive media Intern</a></span></li>\n",
            "<li><a href=\"https://www.knorange.com/index.php/tencent-career/\"target=\"_blank\" rel=\"noopener\">More...</a>\n",
            "<ol>\n",
            "<p style=\"padding-left: 40px; text-align: right;\">(Update: Dec-27-2020)</p>\n",
            "<p style=\"padding-left: 40px; text-align: right;\">14 minutes ago</p>\n"
          ],
          "name": "stdout"
        }
      ]
    },
    {
      "cell_type": "markdown",
      "metadata": {
        "id": "OLZEXhqGr9Uo"
      },
      "source": [
        "# **`MasterCard`**"
      ]
    },
    {
      "cell_type": "code",
      "metadata": {
        "colab": {
          "base_uri": "https://localhost:8080/"
        },
        "id": "sSFT2on_qpxV",
        "outputId": "160cacb9-8c50-4284-a0fe-809cabb85785"
      },
      "source": [
        "\r\n",
        "\r\n",
        "from random import seed\r\n",
        "from random import random\r\n",
        "import random\r\n",
        "\r\n",
        "drive.mount('/content/drive')\r\n",
        "path = \"/content/drive/My Drive/career/MasterCard.csv\"\r\n",
        "#!ls \"/content/drive/My Drive/career\"\r\n",
        "df_bonus = pd.read_csv(path)\r\n",
        "Job = df_bonus['Jobs']\r\n",
        "Link = df_bonus['Application Links']\r\n",
        "\r\n",
        "random = random.randint(7,20)\r\n",
        "print('Copy and paste the following MasterCard code to wordpress')\r\n",
        "print('Copy and paste the following MasterCard code to wordpress')\r\n",
        "print('<ol>')\r\n",
        "\r\n",
        "\r\n",
        "\r\n",
        "if (len(df_bonus)<7):\r\n",
        "    \r\n",
        "  for i in range (len(df_bonus)):\r\n",
        "    print('<li><span style=\"color: #000000;\"><a style=\"color: #000000;\" href=\"'+ Link[i]+ '\"' +  'target=\"_blank\" rel=\"noopener\">' + Job[i] + '</a></span></li>')\r\n",
        "\r\n",
        "\r\n",
        "\r\n",
        "  \r\n",
        "else:\r\n",
        "    \r\n",
        "  for i in range (6):\r\n",
        "    print('<li><span style=\"color: #000000;\"><a style=\"color: #000000;\" href=\"'+ Link[i]+ '\"' +  'target=\"_blank\" rel=\"noopener\">' + Job[i] + '</a></span></li>')\r\n",
        "\r\n",
        "\r\n",
        "\r\n",
        "print('<li><a href=\"https://www.knorange.com/index.php/mastercard-career/\"target=\"_blank\" rel=\"noopener\">More...</a>')\r\n",
        "\r\n",
        "\r\n",
        "print('<ol>')\r\n",
        "print('<p style=\"padding-left: 40px; text-align: right;\">'+ '(Update: '+ Post_date +')</p>')\r\n",
        "print('<p style=\"padding-left: 40px; text-align: right;\">'+ str(random) + ' minutes ago'+ '</p>')\r\n"
      ],
      "execution_count": null,
      "outputs": [
        {
          "output_type": "stream",
          "text": [
            "Drive already mounted at /content/drive; to attempt to forcibly remount, call drive.mount(\"/content/drive\", force_remount=True).\n",
            "Copy and paste the following MasterCard code to wordpress\n",
            "Copy and paste the following MasterCard code to wordpress\n",
            "<ol>\n",
            "<li><span style=\"color: #000000;\"><a style=\"color: #000000;\" href=\"https://mastercard.wd1.myworkdayjobs.com/Campus/0/refreshFacet/318c8bb6f553100021d223d9780d30be\"target=\"_blank\" rel=\"noopener\">Associate Consultant Intern (Summer 2021)</a></span></li>\n",
            "<li><span style=\"color: #000000;\"><a style=\"color: #000000;\" href=\"https://mastercard.wd1.myworkdayjobs.com/Campus/0/refreshFacet/318c8bb6f553100021d223d9780d30be\"target=\"_blank\" rel=\"noopener\">Associate Consultant, Advisors</a></span></li>\n",
            "<li><span style=\"color: #000000;\"><a style=\"color: #000000;\" href=\"https://mastercard.wd1.myworkdayjobs.com/Campus/0/refreshFacet/318c8bb6f553100021d223d9780d30be\"target=\"_blank\" rel=\"noopener\">Student Intern</a></span></li>\n",
            "<li><span style=\"color: #000000;\"><a style=\"color: #000000;\" href=\"https://mastercard.wd1.myworkdayjobs.com/Campus/0/refreshFacet/318c8bb6f553100021d223d9780d30be\"target=\"_blank\" rel=\"noopener\">2021 Summer Intern - Mastercard Advisors</a></span></li>\n",
            "<li><span style=\"color: #000000;\"><a style=\"color: #000000;\" href=\"https://mastercard.wd1.myworkdayjobs.com/Campus/0/refreshFacet/318c8bb6f553100021d223d9780d30be\"target=\"_blank\" rel=\"noopener\">2021 Summer Intern - Mastercard Advisors</a></span></li>\n",
            "<li><span style=\"color: #000000;\"><a style=\"color: #000000;\" href=\"https://mastercard.wd1.myworkdayjobs.com/Campus/0/refreshFacet/318c8bb6f553100021d223d9780d30be\"target=\"_blank\" rel=\"noopener\">Associate Analyst, Direct Marketing</a></span></li>\n",
            "<li><a href=\"https://www.knorange.com/index.php/mastercard-career/\"target=\"_blank\" rel=\"noopener\">More...</a>\n",
            "<ol>\n",
            "<p style=\"padding-left: 40px; text-align: right;\">(Update: Dec-27-2020)</p>\n",
            "<p style=\"padding-left: 40px; text-align: right;\">20 minutes ago</p>\n"
          ],
          "name": "stdout"
        }
      ]
    },
    {
      "cell_type": "markdown",
      "metadata": {
        "id": "IHDI3QNGsMcc"
      },
      "source": [
        "# **Fedex**"
      ]
    },
    {
      "cell_type": "code",
      "metadata": {
        "colab": {
          "base_uri": "https://localhost:8080/"
        },
        "id": "M7lxykbcqp2j",
        "outputId": "a5e5f5d8-384a-49b5-9a24-aebffd32f4e6"
      },
      "source": [
        "\r\n",
        "\r\n",
        "from random import seed\r\n",
        "from random import random\r\n",
        "import random\r\n",
        "\r\n",
        "drive.mount('/content/drive')\r\n",
        "path = \"/content/drive/My Drive/career/Fedex.csv\"\r\n",
        "#!ls \"/content/drive/My Drive/career\"\r\n",
        "df_bonus = pd.read_csv(path)\r\n",
        "Job = df_bonus['Jobs']\r\n",
        "Link = df_bonus['Application Links']\r\n",
        "\r\n",
        "random = random.randint(7,20)\r\n",
        "print('Copy and paste the following Fedex code to wordpress')\r\n",
        "print('Copy and paste the following Fedex code to wordpress')\r\n",
        "print('<ol>')\r\n",
        "\r\n",
        "\r\n",
        "\r\n",
        "if (len(df_bonus)<7):\r\n",
        "    \r\n",
        "  for i in range (len(df_bonus)):\r\n",
        "    print('<li><span style=\"color: #000000;\"><a style=\"color: #000000;\" href=\"'+ Link[i]+ '\"' +  'target=\"_blank\" rel=\"noopener\">' + Job[i] + '</a></span></li>')\r\n",
        "\r\n",
        "\r\n",
        "\r\n",
        "  \r\n",
        "else:\r\n",
        "    \r\n",
        "  for i in range (6):\r\n",
        "    print('<li><span style=\"color: #000000;\"><a style=\"color: #000000;\" href=\"'+ Link[i]+ '\"' +  'target=\"_blank\" rel=\"noopener\">' + Job[i] + '</a></span></li>')\r\n",
        "\r\n",
        "\r\n",
        "\r\n",
        "print('<li><a href=\"https://www.knorange.com/index.php/fedex-career/\"target=\"_blank\" rel=\"noopener\">More...</a>')\r\n",
        "\r\n",
        "\r\n",
        "print('<ol>')\r\n",
        "print('<p style=\"padding-left: 40px; text-align: right;\">'+ '(Update: '+ Post_date +')</p>')\r\n",
        "print('<p style=\"padding-left: 40px; text-align: right;\">'+ str(random) + ' minutes ago'+ '</p>')\r\n"
      ],
      "execution_count": null,
      "outputs": [
        {
          "output_type": "stream",
          "text": [
            "Drive already mounted at /content/drive; to attempt to forcibly remount, call drive.mount(\"/content/drive\", force_remount=True).\n",
            "Copy and paste the following Fedex code to wordpress\n",
            "Copy and paste the following Fedex code to wordpress\n",
            "<ol>\n",
            "<li><span style=\"color: #000000;\"><a style=\"color: #000000;\" href=\"https://careers.fedex.com//intern/jobs/POSTING-3-310375?lang=en-us&previousLocale=en-US\"target=\"_blank\" rel=\"noopener\">Intern Information Technology - Pittsburgh</a></span></li>\n",
            "<li><span style=\"color: #000000;\"><a style=\"color: #000000;\" href=\"https://careers.fedex.com//intern/jobs/POSTING-3-264587?lang=en-us&previousLocale=en-US\"target=\"_blank\" rel=\"noopener\">Intern Revenue Management - Brookfield</a></span></li>\n",
            "<li><span style=\"color: #000000;\"><a style=\"color: #000000;\" href=\"https://careers.fedex.com//intern/jobs/POSTING-3-288999?lang=en-us&previousLocale=en-US\"target=\"_blank\" rel=\"noopener\">Intern Sales SDR- Memphis</a></span></li>\n",
            "<li><span style=\"color: #000000;\"><a style=\"color: #000000;\" href=\"https://careers.fedex.com//intern/jobs/POSTING-3-266185?lang=en-us&previousLocale=en-US\"target=\"_blank\" rel=\"noopener\">Intern Information Technology - Dallas</a></span></li>\n",
            "<li><span style=\"color: #000000;\"><a style=\"color: #000000;\" href=\"https://careers.fedex.com//intern/jobs/POSTING-3-289046?lang=en-us&previousLocale=en-US\"target=\"_blank\" rel=\"noopener\">Intern Field Sales- San Francisco</a></span></li>\n",
            "<li><span style=\"color: #000000;\"><a style=\"color: #000000;\" href=\"https://careers.fedex.com//intern/jobs/POSTING-3-264015?lang=en-us&previousLocale=en-US\"target=\"_blank\" rel=\"noopener\">Intern Rev Management - Memphis, TN</a></span></li>\n",
            "<li><a href=\"https://www.knorange.com/index.php/fedex-career/\"target=\"_blank\" rel=\"noopener\">More...</a>\n",
            "<ol>\n",
            "<p style=\"padding-left: 40px; text-align: right;\">(Update: Dec-27-2020)</p>\n",
            "<p style=\"padding-left: 40px; text-align: right;\">7 minutes ago</p>\n"
          ],
          "name": "stdout"
        }
      ]
    },
    {
      "cell_type": "markdown",
      "metadata": {
        "id": "WIUNHomPvz2X"
      },
      "source": [
        "# **Disney**"
      ]
    },
    {
      "cell_type": "code",
      "metadata": {
        "colab": {
          "base_uri": "https://localhost:8080/"
        },
        "id": "4GAKF79jqp7l",
        "outputId": "5fe6b242-aebe-4b64-dcc8-36eabe70adff"
      },
      "source": [
        "\r\n",
        "\r\n",
        "from random import seed\r\n",
        "from random import random\r\n",
        "import random\r\n",
        "\r\n",
        "drive.mount('/content/drive')\r\n",
        "path = \"/content/drive/My Drive/career/Disney.csv\"\r\n",
        "#!ls \"/content/drive/My Drive/career\"\r\n",
        "df_bonus = pd.read_csv(path)\r\n",
        "Job = df_bonus['Jobs']\r\n",
        "Link = df_bonus['Application Links']\r\n",
        "\r\n",
        "random = random.randint(7,20)\r\n",
        "print('Copy and paste the following Disney code to wordpress')\r\n",
        "print('Copy and paste the following Disney code to wordpress')\r\n",
        "print('<ol>')\r\n",
        "\r\n",
        "\r\n",
        "\r\n",
        "if (len(df_bonus)<7):\r\n",
        "    \r\n",
        "  for i in range (len(df_bonus)):\r\n",
        "    print('<li><span style=\"color: #000000;\"><a style=\"color: #000000;\" href=\"'+ Link[i]+ '\"' +  'target=\"_blank\" rel=\"noopener\">' + Job[i] + '</a></span></li>')\r\n",
        "\r\n",
        "\r\n",
        "\r\n",
        "  \r\n",
        "else:\r\n",
        "    \r\n",
        "  for i in range (6):\r\n",
        "    print('<li><span style=\"color: #000000;\"><a style=\"color: #000000;\" href=\"'+ Link[i]+ '\"' +  'target=\"_blank\" rel=\"noopener\">' + Job[i] + '</a></span></li>')\r\n",
        "\r\n",
        "\r\n",
        "\r\n",
        "print('<li><a href=\"https://www.knorange.com/disney-career/\"target=\"_blank\" rel=\"noopener\">More...</a>')\r\n",
        "\r\n",
        "\r\n",
        "print('<ol>')\r\n",
        "print('<p style=\"padding-left: 40px; text-align: right;\">'+ '(Update: '+ Post_date +')</p>')\r\n",
        "print('<p style=\"padding-left: 40px; text-align: right;\">'+ str(random) + ' minutes ago'+ '</p>')\r\n"
      ],
      "execution_count": null,
      "outputs": [
        {
          "output_type": "stream",
          "text": [
            "Drive already mounted at /content/drive; to attempt to forcibly remount, call drive.mount(\"/content/drive\", force_remount=True).\n",
            "Copy and paste the following Disney code to wordpress\n",
            "Copy and paste the following Disney code to wordpress\n",
            "<ol>\n",
            "<li><span style=\"color: #000000;\"><a style=\"color: #000000;\" href=\"https://jobs.disneycareers.com/job/burbank/animation-studios-technology-research-graduate-intern-summer-2021/391/18001963\"target=\"_blank\" rel=\"noopener\">Animation Studios - Technology Research Graduate Intern, Summer 2021</a></span></li>\n",
            "<li><span style=\"color: #000000;\"><a style=\"color: #000000;\" href=\"https://jobs.disneycareers.com/job/washington/espn-rhoden-fellowship-2021-2022/391/18209682\"target=\"_blank\" rel=\"noopener\">ESPN Rhoden Fellowship - 2021/2022</a></span></li>\n",
            "<li><span style=\"color: #000000;\"><a style=\"color: #000000;\" href=\"https://jobs.disneycareers.com/job/burbank/animation-studios-production-management-intern-summer-2021/391/18301873\"target=\"_blank\" rel=\"noopener\">Animation Studios - Production Management Intern, Summer 2021</a></span></li>\n",
            "<li><span style=\"color: #000000;\"><a style=\"color: #000000;\" href=\"https://jobs.disneycareers.com/job/burbank/animation-studios-cg-artist-character-summer-2021/391/18301867\"target=\"_blank\" rel=\"noopener\">Animation Studios - CG Artist- Character, Summer 2021</a></span></li>\n",
            "<li><span style=\"color: #000000;\"><a style=\"color: #000000;\" href=\"https://jobs.disneycareers.com/job/burbank/animation-studios-cg-artist-environment-intern-summer-2021/391/18301868\"target=\"_blank\" rel=\"noopener\">Animation Studios - CG Artist- Environment Intern, Summer 2021</a></span></li>\n",
            "<li><span style=\"color: #000000;\"><a style=\"color: #000000;\" href=\"https://jobs.disneycareers.com/job/burbank/animation-studios-visual-development-intern-summer-2021/391/18301872\"target=\"_blank\" rel=\"noopener\">Animation Studios - Visual Development Intern, Summer 2021</a></span></li>\n",
            "<li><a href=\"https://www.knorange.com/disney-career/\"target=\"_blank\" rel=\"noopener\">More...</a>\n",
            "<ol>\n",
            "<p style=\"padding-left: 40px; text-align: right;\">(Update: Dec-27-2020)</p>\n",
            "<p style=\"padding-left: 40px; text-align: right;\">14 minutes ago</p>\n"
          ],
          "name": "stdout"
        }
      ]
    },
    {
      "cell_type": "markdown",
      "metadata": {
        "id": "QiOgmoYbwBqS"
      },
      "source": [
        "# **Dell**"
      ]
    },
    {
      "cell_type": "code",
      "metadata": {
        "colab": {
          "base_uri": "https://localhost:8080/"
        },
        "id": "1AQGFn_gqp-A",
        "outputId": "51f62823-2d43-4d46-a7ed-9ea3c89486c7"
      },
      "source": [
        "\r\n",
        "\r\n",
        "from random import seed\r\n",
        "from random import random\r\n",
        "import random\r\n",
        "\r\n",
        "drive.mount('/content/drive')\r\n",
        "path = \"/content/drive/My Drive/career/Dell.csv\"\r\n",
        "#!ls \"/content/drive/My Drive/career\"\r\n",
        "df_bonus = pd.read_csv(path)\r\n",
        "Job = df_bonus['Jobs']\r\n",
        "Link = df_bonus['Application Links']\r\n",
        "\r\n",
        "random = random.randint(7,20)\r\n",
        "print('Copy and paste the following Dell code to wordpress')\r\n",
        "print('Copy and paste the following Dell code to wordpress')\r\n",
        "print('<ol>')\r\n",
        "\r\n",
        "\r\n",
        "\r\n",
        "if (len(df_bonus)<7):\r\n",
        "    \r\n",
        "  for i in range (len(df_bonus)):\r\n",
        "    print('<li><span style=\"color: #000000;\"><a style=\"color: #000000;\" href=\"'+ Link[i]+ '\"' +  'target=\"_blank\" rel=\"noopener\">' + Job[i] + '</a></span></li>')\r\n",
        "\r\n",
        "\r\n",
        "\r\n",
        "  \r\n",
        "else:\r\n",
        "    \r\n",
        "  for i in range (6):\r\n",
        "    print('<li><span style=\"color: #000000;\"><a style=\"color: #000000;\" href=\"'+ Link[i]+ '\"' +  'target=\"_blank\" rel=\"noopener\">' + Job[i] + '</a></span></li>')\r\n",
        "\r\n",
        "\r\n",
        "\r\n",
        "print('<li><a href=\"https://www.knorange.com/index.php/dell-career/\"target=\"_blank\" rel=\"noopener\">More...</a>')\r\n",
        "\r\n",
        "\r\n",
        "print('<ol>')\r\n",
        "print('<p style=\"padding-left: 40px; text-align: right;\">'+ '(Update: '+ Post_date +')</p>')\r\n",
        "print('<p style=\"padding-left: 40px; text-align: right;\">'+ str(random) + ' minutes ago'+ '</p>')\r\n"
      ],
      "execution_count": null,
      "outputs": [
        {
          "output_type": "stream",
          "text": [
            "Drive already mounted at /content/drive; to attempt to forcibly remount, call drive.mount(\"/content/drive\", force_remount=True).\n",
            "Copy and paste the following Dell code to wordpress\n",
            "Copy and paste the following Dell code to wordpress\n",
            "<ol>\n",
            "<li><span style=\"color: #000000;\"><a style=\"color: #000000;\" href=\"https://jobs.dell.com/job/kiev/junior-product-specialist/375/18240383\"target=\"_blank\" rel=\"noopener\">Junior Product Specialist</a></span></li>\n",
            "<li><span style=\"color: #000000;\"><a style=\"color: #000000;\" href=\"https://jobs.dell.com/job/bengaluru/analyst-sales-operations/375/18345426\"target=\"_blank\" rel=\"noopener\">Analyst, Sales Operations</a></span></li>\n",
            "<li><span style=\"color: #000000;\"><a style=\"color: #000000;\" href=\"https://jobs.dell.com/job/frenchs-forest/technical-sales-representative-graduate/375/18333593\"target=\"_blank\" rel=\"noopener\">Technical Sales Representative (Graduate)</a></span></li>\n",
            "<li><span style=\"color: #000000;\"><a style=\"color: #000000;\" href=\"https://jobs.dell.com/job/zurich/graduate-program-associate-inside-sales/375/17571025\"target=\"_blank\" rel=\"noopener\">Graduate Program –Associate Inside Sales</a></span></li>\n",
            "<li><span style=\"color: #000000;\"><a style=\"color: #000000;\" href=\"https://jobs.dell.com/job/stockholm/next-gen-sales-academy-associate-inside-sales/375/17903216\"target=\"_blank\" rel=\"noopener\">Next Gen Sales Academy – Associate Inside Sales</a></span></li>\n",
            "<li><span style=\"color: #000000;\"><a style=\"color: #000000;\" href=\"https://jobs.dell.com/job/bengaluru/sr-principle-software-engineer/375/18295849\"target=\"_blank\" rel=\"noopener\">Sr. Principle Software Engineer</a></span></li>\n",
            "<li><a href=\"https://www.knorange.com/index.php/dell-career/\"target=\"_blank\" rel=\"noopener\">More...</a>\n",
            "<ol>\n",
            "<p style=\"padding-left: 40px; text-align: right;\">(Update: Dec-27-2020)</p>\n",
            "<p style=\"padding-left: 40px; text-align: right;\">20 minutes ago</p>\n"
          ],
          "name": "stdout"
        }
      ]
    },
    {
      "cell_type": "markdown",
      "metadata": {
        "id": "2asb1r_2wFXH"
      },
      "source": [
        "# **Bank_of_America-Internship**"
      ]
    },
    {
      "cell_type": "code",
      "metadata": {
        "colab": {
          "base_uri": "https://localhost:8080/"
        },
        "id": "tUyG1ToZwE3B",
        "outputId": "5cb7bba1-cc39-41dd-c388-f8b0030dc9ec"
      },
      "source": [
        "\r\n",
        "\r\n",
        "\r\n",
        "from random import seed\r\n",
        "from random import random\r\n",
        "import random\r\n",
        "\r\n",
        "drive.mount('/content/drive')\r\n",
        "path = \"/content/drive/My Drive/career/Bank_of_America-part_2.csv\"\r\n",
        "#!ls \"/content/drive/My Drive/career\"\r\n",
        "df_bonus = pd.read_csv(path)\r\n",
        "Job = df_bonus['Jobs']\r\n",
        "Link = df_bonus['Application Links']\r\n",
        "\r\n",
        "random = random.randint(7,20)\r\n",
        "print('Copy and paste the following # **Bank_of_America-Internship** code to wordpress')\r\n",
        "print('Copy and paste the following # **Bank_of_America-Internship** code to wordpress')\r\n",
        "print('<ol>')\r\n",
        "\r\n",
        "\r\n",
        "\r\n",
        "if (len(df_bonus)<7):\r\n",
        "    \r\n",
        "  for i in range (len(df_bonus)):\r\n",
        "    print('<li><span style=\"color: #000000;\"><a style=\"color: #000000;\" href=\"'+ Link[i]+ '\"' +  'target=\"_blank\" rel=\"noopener\">' + Job[i] + '</a></span></li>')\r\n",
        "\r\n",
        "\r\n",
        "\r\n",
        "  \r\n",
        "else:\r\n",
        "    \r\n",
        "  for i in range (6):\r\n",
        "    print('<li><span style=\"color: #000000;\"><a style=\"color: #000000;\" href=\"'+ Link[i]+ '\"' +  'target=\"_blank\" rel=\"noopener\">' + Job[i] + '</a></span></li>')\r\n",
        "\r\n",
        "\r\n",
        "\r\n",
        "print('<li><a href=\"https://www.knorange.com/index.php/bank-of-america-career-2/\"target=\"_blank\" rel=\"noopener\">More...</a>')\r\n",
        "\r\n",
        "\r\n",
        "print('<ol>')\r\n",
        "print('<p style=\"padding-left: 40px; text-align: right;\">'+ '(Update: '+ Post_date +')</p>')\r\n",
        "print('<p style=\"padding-left: 40px; text-align: right;\">'+ str(random) + ' minutes ago'+ '</p>')\r\n"
      ],
      "execution_count": null,
      "outputs": [
        {
          "output_type": "stream",
          "text": [
            "Drive already mounted at /content/drive; to attempt to forcibly remount, call drive.mount(\"/content/drive\", force_remount=True).\n",
            "Copy and paste the following # **Bank_of_America-Internship** code to wordpress\n",
            "Copy and paste the following # **Bank_of_America-Internship** code to wordpress\n",
            "<ol>\n",
            "<li><span style=\"color: #000000;\"><a style=\"color: #000000;\" href=\"https://campus.bankofamerica.com/careers/banking-connections-pre-internship-program-australia.html\"target=\"_blank\" rel=\"noopener\">Banking Connections - Pre-Internship Program (Australia)</a></span></li>\n",
            "<li><span style=\"color: #000000;\"><a style=\"color: #000000;\" href=\"https://campus.bankofamerica.com/careers/Rates-and-Currencies-Origination-Summer-Analyst-Program.html\"target=\"_blank\" rel=\"noopener\">Rates and Currencies Origination Summer Analyst Program</a></span></li>\n",
            "<li><span style=\"color: #000000;\"><a style=\"color: #000000;\" href=\"https://campus.bankofamerica.com/careers/Strategy-and-Management-Associate-Program.html\"target=\"_blank\" rel=\"noopener\">Strategy & Management Associate Program</a></span></li>\n",
            "<li><span style=\"color: #000000;\"><a style=\"color: #000000;\" href=\"https://campus.bankofamerica.com/careers/Wealth_Management_Summer_Analyst_Program_US.html\"target=\"_blank\" rel=\"noopener\">Wealth Management Summer Analyst Program</a></span></li>\n",
            "<li><span style=\"color: #000000;\"><a style=\"color: #000000;\" href=\"https://campus.bankofamerica.com/careers/Finance-Management-Sophomore-Summer-Analyst-Program-US.html\"target=\"_blank\" rel=\"noopener\">Finance Management Sophomore Summer Analyst Program</a></span></li>\n",
            "<li><span style=\"color: #000000;\"><a style=\"color: #000000;\" href=\"https://campus.bankofamerica.com/careers/applied_technology_program.html\"target=\"_blank\" rel=\"noopener\">Applied Technology Program</a></span></li>\n",
            "<li><a href=\"https://www.knorange.com/index.php/bank-of-america-career-2/\"target=\"_blank\" rel=\"noopener\">More...</a>\n",
            "<ol>\n",
            "<p style=\"padding-left: 40px; text-align: right;\">(Update: Dec-27-2020)</p>\n",
            "<p style=\"padding-left: 40px; text-align: right;\">12 minutes ago</p>\n"
          ],
          "name": "stdout"
        }
      ]
    },
    {
      "cell_type": "markdown",
      "metadata": {
        "id": "27YqQUj0wavf"
      },
      "source": [
        "# **Bank_of_America-recent gradaute** "
      ]
    },
    {
      "cell_type": "code",
      "metadata": {
        "id": "IrS0c-kZWL4B",
        "colab": {
          "base_uri": "https://localhost:8080/"
        },
        "outputId": "ebe596f6-7b2d-4208-9ddc-1da776cf9f41"
      },
      "source": [
        "\r\n",
        "\r\n",
        "\r\n",
        "from random import seed\r\n",
        "from random import random\r\n",
        "import random\r\n",
        "\r\n",
        "drive.mount('/content/drive')\r\n",
        "path = \"/content/drive/My Drive/career/Bank_of_America-part_1.csv\"\r\n",
        "#!ls \"/content/drive/My Drive/career\"\r\n",
        "df_bonus = pd.read_csv(path)\r\n",
        "Job = df_bonus['Jobs']\r\n",
        "Link = df_bonus['Application Links']\r\n",
        "\r\n",
        "random = random.randint(7,20)\r\n",
        "print('Copy and paste the following # **Bank_of_America-recent gradaute** code to wordpress')\r\n",
        "print('Copy and paste the following # **Bank_of_America-recent graduate ** code to wordpress')\r\n",
        "print('<ol>')\r\n",
        "\r\n",
        "\r\n",
        "\r\n",
        "if (len(df_bonus)<7):\r\n",
        "    \r\n",
        "  for i in range (len(df_bonus)):\r\n",
        "    print('<li><span style=\"color: #000000;\"><a style=\"color: #000000;\" href=\"'+ Link[i]+ '\"' +  'target=\"_blank\" rel=\"noopener\">' + Job[i] + '</a></span></li>')\r\n",
        "\r\n",
        "\r\n",
        "\r\n",
        "  \r\n",
        "else:\r\n",
        "    \r\n",
        "  for i in range (6):\r\n",
        "    print('<li><span style=\"color: #000000;\"><a style=\"color: #000000;\" href=\"'+ Link[i]+ '\"' +  'target=\"_blank\" rel=\"noopener\">' + Job[i] + '</a></span></li>')\r\n",
        "\r\n",
        "\r\n",
        "\r\n",
        "print('<li><a href=\"https://www.knorange.com/index.php/bank-of-america-career/\"target=\"_blank\" rel=\"noopener\">More...</a>')\r\n",
        "\r\n",
        "\r\n",
        "print('<ol>')\r\n",
        "print('<p style=\"padding-left: 40px; text-align: right;\">'+ '(Update: '+ Post_date +')</p>')\r\n",
        "print('<p style=\"padding-left: 40px; text-align: right;\">'+ str(random) + ' minutes ago'+ '</p>')\r\n"
      ],
      "execution_count": null,
      "outputs": [
        {
          "output_type": "stream",
          "text": [
            "Drive already mounted at /content/drive; to attempt to forcibly remount, call drive.mount(\"/content/drive\", force_remount=True).\n",
            "Copy and paste the following # **Bank_of_America-recent gradaute** code to wordpress\n",
            "Copy and paste the following # **Bank_of_America-recent graduate ** code to wordpress\n",
            "<ol>\n",
            "<li><span style=\"color: #000000;\"><a style=\"color: #000000;\" href=\"https://campus.bankofamerica.com/careers/banking-connections-pre-internship-program-australia.html\"target=\"_blank\" rel=\"noopener\">Banking Connections - Pre-Internship Program (Australia)</a></span></li>\n",
            "<li><span style=\"color: #000000;\"><a style=\"color: #000000;\" href=\"https://campus.bankofamerica.com/careers/Rates-and-Currencies-Origination-Summer-Analyst-Program.html\"target=\"_blank\" rel=\"noopener\">Rates and Currencies Origination Summer Analyst Program</a></span></li>\n",
            "<li><span style=\"color: #000000;\"><a style=\"color: #000000;\" href=\"https://campus.bankofamerica.com/careers/Strategy-and-Management-Associate-Program.html\"target=\"_blank\" rel=\"noopener\">Strategy & Management Associate Program</a></span></li>\n",
            "<li><span style=\"color: #000000;\"><a style=\"color: #000000;\" href=\"https://campus.bankofamerica.com/careers/Wealth_Management_Summer_Analyst_Program_US.html\"target=\"_blank\" rel=\"noopener\">Wealth Management Summer Analyst Program</a></span></li>\n",
            "<li><span style=\"color: #000000;\"><a style=\"color: #000000;\" href=\"https://campus.bankofamerica.com/careers/Finance-Management-Sophomore-Summer-Analyst-Program-US.html\"target=\"_blank\" rel=\"noopener\">Finance Management Sophomore Summer Analyst Program</a></span></li>\n",
            "<li><span style=\"color: #000000;\"><a style=\"color: #000000;\" href=\"https://campus.bankofamerica.com/careers/applied_technology_program.html\"target=\"_blank\" rel=\"noopener\">Applied Technology Program</a></span></li>\n",
            "<li><a href=\"https://www.knorange.com/index.php/bank-of-america-career/target=\"_blank\" rel=\"noopener\">More...</a>\n",
            "<ol>\n",
            "<p style=\"padding-left: 40px; text-align: right;\">(Update: Dec-27-2020)</p>\n",
            "<p style=\"padding-left: 40px; text-align: right;\">16 minutes ago</p>\n"
          ],
          "name": "stdout"
        }
      ]
    },
    {
      "cell_type": "markdown",
      "metadata": {
        "id": "6YqbxNuk2lgX"
      },
      "source": [
        "# **Verizon**"
      ]
    },
    {
      "cell_type": "code",
      "metadata": {
        "colab": {
          "base_uri": "https://localhost:8080/"
        },
        "id": "jKpZ8do-2pmP",
        "outputId": "ffd00f3c-8a29-42be-e24f-5086cc8be3e2"
      },
      "source": [
        "\r\n",
        "\r\n",
        "\r\n",
        "from random import seed\r\n",
        "from random import random\r\n",
        "import random\r\n",
        "\r\n",
        "drive.mount('/content/drive')\r\n",
        "path = \"/content/drive/My Drive/career/verizon.csv\"\r\n",
        "#!ls \"/content/drive/My Drive/career\"\r\n",
        "df_bonus = pd.read_csv(path)\r\n",
        "Job = df_bonus['Jobs']\r\n",
        "Link = df_bonus['Application Links']\r\n",
        "\r\n",
        "random = random.randint(7,20)\r\n",
        "print('Copy and paste the following verizon code to wordpress')\r\n",
        "print('Copy and paste the following verizon code to wordpress')\r\n",
        "print('<ol>')\r\n",
        "\r\n",
        "\r\n",
        "\r\n",
        "if (len(df_bonus)<7):\r\n",
        "    \r\n",
        "  for i in range (len(df_bonus)):\r\n",
        "    print('<li><span style=\"color: #000000;\"><a style=\"color: #000000;\" href=\"'+ Link[i]+ '\"' +  'target=\"_blank\" rel=\"noopener\">' + Job[i] + '</a></span></li>')\r\n",
        "\r\n",
        "\r\n",
        "\r\n",
        "  \r\n",
        "else:\r\n",
        "    \r\n",
        "  for i in range (6):\r\n",
        "    print('<li><span style=\"color: #000000;\"><a style=\"color: #000000;\" href=\"'+ Link[i]+ '\"' +  'target=\"_blank\" rel=\"noopener\">' + Job[i] + '</a></span></li>')\r\n",
        "\r\n",
        "\r\n",
        "\r\n",
        "print('<li><a href=\"https://www.knorange.com/verizon-jobs/\"target=\"_blank\" rel=\"noopener\">More...</a>')\r\n",
        "\r\n",
        "\r\n",
        "print('<ol>')\r\n",
        "print('<p style=\"padding-left: 40px; text-align: right;\">'+ '(Update: '+ Post_date +')</p>')\r\n",
        "print('<p style=\"padding-left: 40px; text-align: right;\">'+ str(random) + ' minutes ago'+ '</p>')\r\n"
      ],
      "execution_count": null,
      "outputs": [
        {
          "output_type": "stream",
          "text": [
            "Drive already mounted at /content/drive; to attempt to forcibly remount, call drive.mount(\"/content/drive\", force_remount=True).\n",
            "Copy and paste the following verizon code to wordpress\n",
            "Copy and paste the following verizon code to wordpress\n",
            "<ol>\n",
            "<li><span style=\"color: #000000;\"><a style=\"color: #000000;\" href=\"https://www.verizon.com/about/work/jobs/6058634-network-engineering-and-operations-summer-2021-internship\"target=\"_blank\" rel=\"noopener\">Network Engineering & Operations Summer 2021 Internship</a></span></li>\n",
            "<li><span style=\"color: #000000;\"><a style=\"color: #000000;\" href=\"https://www.verizon.com/about/work/jobs/6058635-network-engineering-and-operations-summer-2021-internship\"target=\"_blank\" rel=\"noopener\">Network Engineering & Operations Summer 2021 Internship</a></span></li>\n",
            "<li><span style=\"color: #000000;\"><a style=\"color: #000000;\" href=\"https://www.verizon.com/about/work/jobs/6058540-maintenance-engineering-summer-2021-internship\"target=\"_blank\" rel=\"noopener\">Maintenance Engineering Summer 2021 Internship</a></span></li>\n",
            "<li><span style=\"color: #000000;\"><a style=\"color: #000000;\" href=\"https://www.verizon.com/about/work/jobs/6058539-radio-frequency-design-summer-2021-internship\"target=\"_blank\" rel=\"noopener\">Radio Frequency Design Summer 2021 Internship</a></span></li>\n",
            "<li><span style=\"color: #000000;\"><a style=\"color: #000000;\" href=\"https://www.verizon.com/about/work/jobs/6058556-wireless-planning-and-analytics-summer-2021-internship\"target=\"_blank\" rel=\"noopener\">Wireless Planning & Analytics Summer 2021 Internship</a></span></li>\n",
            "<li><span style=\"color: #000000;\"><a style=\"color: #000000;\" href=\"https://www.verizon.com/about/work/jobs/6058586-network-engineering-and-field-operations-summer-2021-internship\"target=\"_blank\" rel=\"noopener\">Network Engineering & Field Operations Summer 2021 Internship</a></span></li>\n",
            "<li><a href=\"https://www.knorange.com/verizon-jobs/\"target=\"_blank\" rel=\"noopener\">More...</a>\n",
            "<ol>\n",
            "<p style=\"padding-left: 40px; text-align: right;\">(Update: Dec-27-2020)</p>\n",
            "<p style=\"padding-left: 40px; text-align: right;\">7 minutes ago</p>\n"
          ],
          "name": "stdout"
        }
      ]
    }
  ]
}